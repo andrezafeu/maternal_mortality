{
 "cells": [
  {
   "cell_type": "code",
   "execution_count": 28,
   "metadata": {},
   "outputs": [],
   "source": [
    "import pandas as pd\n",
    "import seaborn as sns"
   ]
  },
  {
   "cell_type": "code",
   "execution_count": 29,
   "metadata": {},
   "outputs": [],
   "source": [
    "pd.set_option(\"max_columns\", 80)"
   ]
  },
  {
   "cell_type": "code",
   "execution_count": 30,
   "metadata": {},
   "outputs": [],
   "source": [
    "df = pd.read_csv('data/interim_data/cdc_data_cleaned.csv')"
   ]
  },
  {
   "cell_type": "code",
   "execution_count": 5,
   "metadata": {},
   "outputs": [],
   "source": [
    "# Link to Census Data\n",
    "\n",
    "#def read_csv_from_dropbox(dropbox_link):\n",
    "    #path = dropbox_link[0:-1] + \"1\"\n",
    "    #df = pd.read_csv(path)\n",
    "    #return df\n",
    "# df_census = read_csv_from_dropbox ('https://www.dropbox.com/s/pmxyfcyw5r5m3vf/Census%20Population%20Data.csv?dl=0')"
   ]
  },
  {
   "cell_type": "code",
   "execution_count": 31,
   "metadata": {},
   "outputs": [
    {
     "data": {
      "text/html": [
       "<div>\n",
       "<style scoped>\n",
       "    .dataframe tbody tr th:only-of-type {\n",
       "        vertical-align: middle;\n",
       "    }\n",
       "\n",
       "    .dataframe tbody tr th {\n",
       "        vertical-align: top;\n",
       "    }\n",
       "\n",
       "    .dataframe thead th {\n",
       "        text-align: right;\n",
       "    }\n",
       "</style>\n",
       "<table border=\"1\" class=\"dataframe\">\n",
       "  <thead>\n",
       "    <tr style=\"text-align: right;\">\n",
       "      <th></th>\n",
       "      <th>resident_status</th>\n",
       "      <th>level_of_education</th>\n",
       "      <th>month_of_death</th>\n",
       "      <th>age</th>\n",
       "      <th>place_of_death_patient_status</th>\n",
       "      <th>marital_status</th>\n",
       "      <th>day_of_week_of_death</th>\n",
       "      <th>year_data_collected</th>\n",
       "      <th>manner_of_death</th>\n",
       "      <th>was_autopsy_done</th>\n",
       "      <th>place_of_injury_for_icd_w00_y34_except_y06_and_y07_</th>\n",
       "      <th>icd_code_10th_revision</th>\n",
       "      <th>358_causes_of_death</th>\n",
       "      <th>113_causes_of_death</th>\n",
       "      <th>130_causes_of_infant_death</th>\n",
       "      <th>39_cause_recode</th>\n",
       "      <th>number_of_entity_axis_conditions</th>\n",
       "      <th>entity_condition_1</th>\n",
       "      <th>entity_condition_2</th>\n",
       "      <th>entity_condition_3</th>\n",
       "      <th>number_of_record_axis_conditions</th>\n",
       "      <th>record_condition_1</th>\n",
       "      <th>record_condition_2</th>\n",
       "      <th>record_condition_3</th>\n",
       "      <th>race</th>\n",
       "      <th>race_recode_3</th>\n",
       "      <th>race_recode_5</th>\n",
       "      <th>hispanic_origin</th>\n",
       "      <th>hispanic_originrace_recode</th>\n",
       "    </tr>\n",
       "  </thead>\n",
       "  <tbody>\n",
       "    <tr>\n",
       "      <th>0</th>\n",
       "      <td>RESIDENTS</td>\n",
       "      <td>Not Available</td>\n",
       "      <td>February</td>\n",
       "      <td>37</td>\n",
       "      <td>Hospital, clinic or Medical Center</td>\n",
       "      <td>Married</td>\n",
       "      <td>Tuesday</td>\n",
       "      <td>2015</td>\n",
       "      <td>Natural</td>\n",
       "      <td>No</td>\n",
       "      <td>Not Available</td>\n",
       "      <td>O268</td>\n",
       "      <td>All other direct obstetric causes</td>\n",
       "      <td>Other complications of pregnancy, childbirth a...</td>\n",
       "      <td>Not Available</td>\n",
       "      <td>Pregnancy, childbirth and the puerperium</td>\n",
       "      <td>4</td>\n",
       "      <td>11O268</td>\n",
       "      <td>21O995</td>\n",
       "      <td>31O268</td>\n",
       "      <td>2</td>\n",
       "      <td>O268</td>\n",
       "      <td>O903</td>\n",
       "      <td>Not Available</td>\n",
       "      <td>Black</td>\n",
       "      <td>Black</td>\n",
       "      <td>Black</td>\n",
       "      <td>Non – Hispanic</td>\n",
       "      <td>Non - Hispanic black</td>\n",
       "    </tr>\n",
       "    <tr>\n",
       "      <th>1</th>\n",
       "      <td>RESIDENTS</td>\n",
       "      <td>Not Available</td>\n",
       "      <td>January</td>\n",
       "      <td>56</td>\n",
       "      <td>Hospital, clinic or Medical Center</td>\n",
       "      <td>Widowed</td>\n",
       "      <td>Tuesday</td>\n",
       "      <td>2015</td>\n",
       "      <td>Natural</td>\n",
       "      <td>No</td>\n",
       "      <td>Not Available</td>\n",
       "      <td>O268</td>\n",
       "      <td>All other direct obstetric causes</td>\n",
       "      <td>Other complications of pregnancy, childbirth a...</td>\n",
       "      <td>Not Available</td>\n",
       "      <td>Pregnancy, childbirth and the puerperium</td>\n",
       "      <td>3</td>\n",
       "      <td>11O268</td>\n",
       "      <td>21O971</td>\n",
       "      <td>31O971</td>\n",
       "      <td>2</td>\n",
       "      <td>O268</td>\n",
       "      <td>O971</td>\n",
       "      <td>Not Available</td>\n",
       "      <td>Black</td>\n",
       "      <td>Black</td>\n",
       "      <td>Black</td>\n",
       "      <td>Non – Hispanic</td>\n",
       "      <td>Non - Hispanic black</td>\n",
       "    </tr>\n",
       "    <tr>\n",
       "      <th>2</th>\n",
       "      <td>RESIDENTS</td>\n",
       "      <td>Not Available</td>\n",
       "      <td>March</td>\n",
       "      <td>31</td>\n",
       "      <td>Other</td>\n",
       "      <td>Married</td>\n",
       "      <td>Tuesday</td>\n",
       "      <td>2015</td>\n",
       "      <td>Natural</td>\n",
       "      <td>No</td>\n",
       "      <td>Not Available</td>\n",
       "      <td>O881</td>\n",
       "      <td>Obstetric embolism</td>\n",
       "      <td>Other complications of pregnancy, childbirth a...</td>\n",
       "      <td>Not Available</td>\n",
       "      <td>Pregnancy, childbirth and the puerperium</td>\n",
       "      <td>2</td>\n",
       "      <td>11O993</td>\n",
       "      <td>21O881</td>\n",
       "      <td>Not Available</td>\n",
       "      <td>1</td>\n",
       "      <td>O881</td>\n",
       "      <td>Not Available</td>\n",
       "      <td>Not Available</td>\n",
       "      <td>White</td>\n",
       "      <td>White</td>\n",
       "      <td>White</td>\n",
       "      <td>Non – Hispanic</td>\n",
       "      <td>Non - Hispanic white</td>\n",
       "    </tr>\n",
       "    <tr>\n",
       "      <th>3</th>\n",
       "      <td>INTRASTATE NONRESIDENTS</td>\n",
       "      <td>Not Available</td>\n",
       "      <td>April</td>\n",
       "      <td>24</td>\n",
       "      <td>Hospital, clinic or Medical Center</td>\n",
       "      <td>Divorced</td>\n",
       "      <td>Thursday</td>\n",
       "      <td>2015</td>\n",
       "      <td>Not Available</td>\n",
       "      <td>Unknown</td>\n",
       "      <td>Not Available</td>\n",
       "      <td>O065</td>\n",
       "      <td>Other and unspecified pregnancy with abortive ...</td>\n",
       "      <td>Pregnancy with abortive outcome</td>\n",
       "      <td>Not Available</td>\n",
       "      <td>Pregnancy, childbirth and the puerperium</td>\n",
       "      <td>2</td>\n",
       "      <td>11O080</td>\n",
       "      <td>21O069</td>\n",
       "      <td>Not Available</td>\n",
       "      <td>1</td>\n",
       "      <td>O065</td>\n",
       "      <td>Not Available</td>\n",
       "      <td>Not Available</td>\n",
       "      <td>White</td>\n",
       "      <td>White</td>\n",
       "      <td>White</td>\n",
       "      <td>Non – Hispanic</td>\n",
       "      <td>Non - Hispanic white</td>\n",
       "    </tr>\n",
       "    <tr>\n",
       "      <th>4</th>\n",
       "      <td>INSTRASTATE NONRESIDENTS</td>\n",
       "      <td>Not Available</td>\n",
       "      <td>July</td>\n",
       "      <td>28</td>\n",
       "      <td>Hospital, clinic or Medical Center</td>\n",
       "      <td>Never married, Single</td>\n",
       "      <td>Saturday</td>\n",
       "      <td>2015</td>\n",
       "      <td>Natural</td>\n",
       "      <td>No</td>\n",
       "      <td>Not Available</td>\n",
       "      <td>O998</td>\n",
       "      <td>Indirect obstetric deaths</td>\n",
       "      <td>Other complications of pregnancy, childbirth a...</td>\n",
       "      <td>Not Available</td>\n",
       "      <td>Pregnancy, childbirth and the puerperium</td>\n",
       "      <td>2</td>\n",
       "      <td>11O994</td>\n",
       "      <td>21O998</td>\n",
       "      <td>Not Available</td>\n",
       "      <td>2</td>\n",
       "      <td>O998</td>\n",
       "      <td>O994</td>\n",
       "      <td>Not Available</td>\n",
       "      <td>Black</td>\n",
       "      <td>Black</td>\n",
       "      <td>Black</td>\n",
       "      <td>Non – Hispanic</td>\n",
       "      <td>Non - Hispanic black</td>\n",
       "    </tr>\n",
       "  </tbody>\n",
       "</table>\n",
       "</div>"
      ],
      "text/plain": [
       "            resident_status level_of_education month_of_death  age  \\\n",
       "0                 RESIDENTS      Not Available       February   37   \n",
       "1                 RESIDENTS      Not Available        January   56   \n",
       "2                 RESIDENTS      Not Available          March   31   \n",
       "3   INTRASTATE NONRESIDENTS      Not Available          April   24   \n",
       "4  INSTRASTATE NONRESIDENTS      Not Available           July   28   \n",
       "\n",
       "        place_of_death_patient_status         marital_status  \\\n",
       "0  Hospital, clinic or Medical Center                Married   \n",
       "1  Hospital, clinic or Medical Center                Widowed   \n",
       "2                               Other                Married   \n",
       "3  Hospital, clinic or Medical Center               Divorced   \n",
       "4  Hospital, clinic or Medical Center  Never married, Single   \n",
       "\n",
       "  day_of_week_of_death  year_data_collected manner_of_death was_autopsy_done  \\\n",
       "0              Tuesday                 2015         Natural               No   \n",
       "1              Tuesday                 2015         Natural               No   \n",
       "2              Tuesday                 2015         Natural               No   \n",
       "3             Thursday                 2015   Not Available          Unknown   \n",
       "4             Saturday                 2015         Natural               No   \n",
       "\n",
       "  place_of_injury_for_icd_w00_y34_except_y06_and_y07_ icd_code_10th_revision  \\\n",
       "0                                      Not Available                    O268   \n",
       "1                                      Not Available                    O268   \n",
       "2                                      Not Available                    O881   \n",
       "3                                      Not Available                    O065   \n",
       "4                                      Not Available                    O998   \n",
       "\n",
       "                                 358_causes_of_death  \\\n",
       "0                  All other direct obstetric causes   \n",
       "1                  All other direct obstetric causes   \n",
       "2                                 Obstetric embolism   \n",
       "3  Other and unspecified pregnancy with abortive ...   \n",
       "4                          Indirect obstetric deaths   \n",
       "\n",
       "                                 113_causes_of_death  \\\n",
       "0  Other complications of pregnancy, childbirth a...   \n",
       "1  Other complications of pregnancy, childbirth a...   \n",
       "2  Other complications of pregnancy, childbirth a...   \n",
       "3                    Pregnancy with abortive outcome   \n",
       "4  Other complications of pregnancy, childbirth a...   \n",
       "\n",
       "  130_causes_of_infant_death                           39_cause_recode  \\\n",
       "0              Not Available  Pregnancy, childbirth and the puerperium   \n",
       "1              Not Available  Pregnancy, childbirth and the puerperium   \n",
       "2              Not Available  Pregnancy, childbirth and the puerperium   \n",
       "3              Not Available  Pregnancy, childbirth and the puerperium   \n",
       "4              Not Available  Pregnancy, childbirth and the puerperium   \n",
       "\n",
       "   number_of_entity_axis_conditions entity_condition_1 entity_condition_2  \\\n",
       "0                                 4             11O268             21O995   \n",
       "1                                 3             11O268             21O971   \n",
       "2                                 2             11O993             21O881   \n",
       "3                                 2             11O080             21O069   \n",
       "4                                 2             11O994             21O998   \n",
       "\n",
       "  entity_condition_3  number_of_record_axis_conditions record_condition_1  \\\n",
       "0             31O268                                 2               O268   \n",
       "1             31O971                                 2               O268   \n",
       "2      Not Available                                 1               O881   \n",
       "3      Not Available                                 1               O065   \n",
       "4      Not Available                                 2               O998   \n",
       "\n",
       "  record_condition_2 record_condition_3   race race_recode_3 race_recode_5  \\\n",
       "0               O903      Not Available  Black         Black         Black   \n",
       "1               O971      Not Available  Black         Black         Black   \n",
       "2      Not Available      Not Available  White         White         White   \n",
       "3      Not Available      Not Available  White         White         White   \n",
       "4               O994      Not Available  Black         Black         Black   \n",
       "\n",
       "  hispanic_origin hispanic_originrace_recode  \n",
       "0  Non – Hispanic       Non - Hispanic black  \n",
       "1  Non – Hispanic       Non - Hispanic black  \n",
       "2  Non – Hispanic       Non - Hispanic white  \n",
       "3  Non – Hispanic       Non - Hispanic white  \n",
       "4  Non – Hispanic       Non - Hispanic black  "
      ]
     },
     "execution_count": 31,
     "metadata": {},
     "output_type": "execute_result"
    }
   ],
   "source": [
    "df.head()"
   ]
  },
  {
   "cell_type": "code",
   "execution_count": 32,
   "metadata": {},
   "outputs": [
    {
     "data": {
      "text/plain": [
       "array(['Black', 'White', 'American Indian (includes Aleuts and Eskimos)',\n",
       "       'Chinese', 'Filipino', 'Asian Indian',\n",
       "       'Other Asian or Pacific Islander in areas reporting codes 18-58',\n",
       "       'Combined other Asian or Pacific Islander, includes codes 18-68',\n",
       "       'Japanese', 'Vietnamese', 'Korean',\n",
       "       'Hawaiian (includes Part-Hawaiian)', 'Guamanian', 'Samoan'],\n",
       "      dtype=object)"
      ]
     },
     "execution_count": 32,
     "metadata": {},
     "output_type": "execute_result"
    }
   ],
   "source": [
    "df['race'].unique()"
   ]
  },
  {
   "cell_type": "code",
   "execution_count": 33,
   "metadata": {},
   "outputs": [
    {
     "data": {
      "text/plain": [
       "array(['Black', 'White', 'Races other than White or Black'], dtype=object)"
      ]
     },
     "execution_count": 33,
     "metadata": {},
     "output_type": "execute_result"
    }
   ],
   "source": [
    "df['race_recode_3'].unique()"
   ]
  },
  {
   "cell_type": "code",
   "execution_count": 34,
   "metadata": {},
   "outputs": [
    {
     "data": {
      "text/plain": [
       "array(['Black', 'White', 'American Indian', 'Asian or Pacific Islander'],\n",
       "      dtype=object)"
      ]
     },
     "execution_count": 34,
     "metadata": {},
     "output_type": "execute_result"
    }
   ],
   "source": [
    "df['race_recode_5'].unique()"
   ]
  },
  {
   "cell_type": "code",
   "execution_count": 35,
   "metadata": {
    "scrolled": true
   },
   "outputs": [
    {
     "data": {
      "text/plain": [
       "array(['Non – Hispanic', 'Mexican', 'South American', 'Central American',\n",
       "       'Puerto Rican', 'Unknown', 'Central and South American',\n",
       "       'Other Hispanic', 'Latin American', 'Cuban', 'Dominican',\n",
       "       'Spaniard'], dtype=object)"
      ]
     },
     "execution_count": 35,
     "metadata": {},
     "output_type": "execute_result"
    }
   ],
   "source": [
    "df['hispanic_origin'].unique()"
   ]
  },
  {
   "cell_type": "code",
   "execution_count": 36,
   "metadata": {},
   "outputs": [
    {
     "data": {
      "text/plain": [
       "array(['Non - Hispanic black', 'Non - Hispanic white', 'Mexican',\n",
       "       'Non - Hispanic other races', 'Central or South American',\n",
       "       'Puerto Rican', 'Hispanic origin unknown',\n",
       "       'Other or unknown Hispanic', 'Cuban'], dtype=object)"
      ]
     },
     "execution_count": 36,
     "metadata": {},
     "output_type": "execute_result"
    }
   ],
   "source": [
    "df['hispanic_originrace_recode'].unique()"
   ]
  },
  {
   "cell_type": "code",
   "execution_count": 37,
   "metadata": {},
   "outputs": [
    {
     "data": {
      "text/plain": [
       "array(['Natural', 'Not Available', 'Could not determine',\n",
       "       'Pending investigation', 'Accident', 'Homicide', 'Suicide'],\n",
       "      dtype=object)"
      ]
     },
     "execution_count": 37,
     "metadata": {},
     "output_type": "execute_result"
    }
   ],
   "source": [
    "df['manner_of_death'].unique()"
   ]
  },
  {
   "cell_type": "code",
   "execution_count": 38,
   "metadata": {},
   "outputs": [
    {
     "data": {
      "text/plain": [
       "(7135, 29)"
      ]
     },
     "execution_count": 38,
     "metadata": {},
     "output_type": "execute_result"
    }
   ],
   "source": [
    "df.shape"
   ]
  },
  {
   "cell_type": "code",
   "execution_count": 39,
   "metadata": {
    "scrolled": false
   },
   "outputs": [
    {
     "data": {
      "text/plain": [
       "resident_status                                        5993\n",
       "level_of_education                                     5993\n",
       "month_of_death                                         5993\n",
       "age                                                    5993\n",
       "place_of_death_patient_status                          5993\n",
       "marital_status                                         5993\n",
       "day_of_week_of_death                                   5993\n",
       "year_data_collected                                    5993\n",
       "manner_of_death                                        5993\n",
       "was_autopsy_done                                       5993\n",
       "place_of_injury_for_icd_w00_y34_except_y06_and_y07_    5993\n",
       "icd_code_10th_revision                                 5993\n",
       "358_causes_of_death                                    5993\n",
       "113_causes_of_death                                    5993\n",
       "130_causes_of_infant_death                             5993\n",
       "39_cause_recode                                        5993\n",
       "number_of_entity_axis_conditions                       5993\n",
       "entity_condition_1                                     5993\n",
       "entity_condition_2                                     5993\n",
       "entity_condition_3                                     5993\n",
       "number_of_record_axis_conditions                       5993\n",
       "record_condition_1                                     5993\n",
       "record_condition_2                                     5993\n",
       "record_condition_3                                     5993\n",
       "race                                                   5993\n",
       "race_recode_3                                          5993\n",
       "race_recode_5                                          5993\n",
       "hispanic_origin                                        5993\n",
       "hispanic_originrace_recode                             5993\n",
       "dtype: int64"
      ]
     },
     "execution_count": 39,
     "metadata": {},
     "output_type": "execute_result"
    }
   ],
   "source": [
    "df[df['hispanic_origin'] == 'Non – Hispanic'].count()"
   ]
  },
  {
   "cell_type": "markdown",
   "metadata": {},
   "source": [
    "---"
   ]
  },
  {
   "cell_type": "markdown",
   "metadata": {},
   "source": [
    "# Reusable DFs"
   ]
  },
  {
   "cell_type": "code",
   "execution_count": 40,
   "metadata": {},
   "outputs": [],
   "source": [
    "df_hispanic = df[df[\"hispanic_origin\"] != \"Non – Hispanic\"]"
   ]
  },
  {
   "cell_type": "code",
   "execution_count": 41,
   "metadata": {},
   "outputs": [],
   "source": [
    "df_non_hispanic = df[df[\"hispanic_origin\"] == \"Non – Hispanic\"]"
   ]
  },
  {
   "cell_type": "markdown",
   "metadata": {},
   "source": [
    "---"
   ]
  },
  {
   "cell_type": "code",
   "execution_count": 42,
   "metadata": {},
   "outputs": [
    {
     "name": "stderr",
     "output_type": "stream",
     "text": [
      "<ipython-input-42-a6dae51f7722>:2: SettingWithCopyWarning: \n",
      "A value is trying to be set on a copy of a slice from a DataFrame.\n",
      "Try using .loc[row_indexer,col_indexer] = value instead\n",
      "\n",
      "See the caveats in the documentation: https://pandas.pydata.org/pandas-docs/stable/user_guide/indexing.html#returning-a-view-versus-a-copy\n",
      "  df_hispanic['ethnicity'] = 'Hispanic'\n",
      "<ipython-input-42-a6dae51f7722>:3: SettingWithCopyWarning: \n",
      "A value is trying to be set on a copy of a slice from a DataFrame.\n",
      "Try using .loc[row_indexer,col_indexer] = value instead\n",
      "\n",
      "See the caveats in the documentation: https://pandas.pydata.org/pandas-docs/stable/user_guide/indexing.html#returning-a-view-versus-a-copy\n",
      "  df_non_hispanic['ethnicity'] = df_non_hispanic['race_recode_3']\n"
     ]
    },
    {
     "data": {
      "text/html": [
       "<div>\n",
       "<style scoped>\n",
       "    .dataframe tbody tr th:only-of-type {\n",
       "        vertical-align: middle;\n",
       "    }\n",
       "\n",
       "    .dataframe tbody tr th {\n",
       "        vertical-align: top;\n",
       "    }\n",
       "\n",
       "    .dataframe thead th {\n",
       "        text-align: right;\n",
       "    }\n",
       "</style>\n",
       "<table border=\"1\" class=\"dataframe\">\n",
       "  <thead>\n",
       "    <tr style=\"text-align: right;\">\n",
       "      <th></th>\n",
       "      <th>resident_status</th>\n",
       "      <th>level_of_education</th>\n",
       "      <th>month_of_death</th>\n",
       "      <th>age</th>\n",
       "      <th>place_of_death_patient_status</th>\n",
       "      <th>marital_status</th>\n",
       "      <th>day_of_week_of_death</th>\n",
       "      <th>year_data_collected</th>\n",
       "      <th>manner_of_death</th>\n",
       "      <th>was_autopsy_done</th>\n",
       "      <th>place_of_injury_for_icd_w00_y34_except_y06_and_y07_</th>\n",
       "      <th>icd_code_10th_revision</th>\n",
       "      <th>358_causes_of_death</th>\n",
       "      <th>113_causes_of_death</th>\n",
       "      <th>130_causes_of_infant_death</th>\n",
       "      <th>39_cause_recode</th>\n",
       "      <th>number_of_entity_axis_conditions</th>\n",
       "      <th>entity_condition_1</th>\n",
       "      <th>entity_condition_2</th>\n",
       "      <th>entity_condition_3</th>\n",
       "      <th>number_of_record_axis_conditions</th>\n",
       "      <th>record_condition_1</th>\n",
       "      <th>record_condition_2</th>\n",
       "      <th>record_condition_3</th>\n",
       "      <th>race</th>\n",
       "      <th>race_recode_3</th>\n",
       "      <th>race_recode_5</th>\n",
       "      <th>hispanic_origin</th>\n",
       "      <th>hispanic_originrace_recode</th>\n",
       "      <th>ethnicity</th>\n",
       "    </tr>\n",
       "  </thead>\n",
       "  <tbody>\n",
       "    <tr>\n",
       "      <th>25</th>\n",
       "      <td>RESIDENTS</td>\n",
       "      <td>3.0</td>\n",
       "      <td>January</td>\n",
       "      <td>49</td>\n",
       "      <td>Hospital, clinic or Medical Center</td>\n",
       "      <td>Divorced</td>\n",
       "      <td>Tuesday</td>\n",
       "      <td>2015</td>\n",
       "      <td>Natural</td>\n",
       "      <td>No</td>\n",
       "      <td>Not Available</td>\n",
       "      <td>O266</td>\n",
       "      <td>All other direct obstetric causes</td>\n",
       "      <td>Other complications of pregnancy, childbirth a...</td>\n",
       "      <td>Not Available</td>\n",
       "      <td>Pregnancy, childbirth and the puerperium</td>\n",
       "      <td>9</td>\n",
       "      <td>11O268</td>\n",
       "      <td>21O988</td>\n",
       "      <td>22O992</td>\n",
       "      <td>2</td>\n",
       "      <td>O266</td>\n",
       "      <td>O268</td>\n",
       "      <td>Not Available</td>\n",
       "      <td>White</td>\n",
       "      <td>White</td>\n",
       "      <td>White</td>\n",
       "      <td>Mexican</td>\n",
       "      <td>Mexican</td>\n",
       "      <td>Hispanic</td>\n",
       "    </tr>\n",
       "    <tr>\n",
       "      <th>27</th>\n",
       "      <td>RESIDENTS</td>\n",
       "      <td>3.0</td>\n",
       "      <td>January</td>\n",
       "      <td>40</td>\n",
       "      <td>Hospital, clinic or Medical Center</td>\n",
       "      <td>Married</td>\n",
       "      <td>Sunday</td>\n",
       "      <td>2015</td>\n",
       "      <td>Natural</td>\n",
       "      <td>No</td>\n",
       "      <td>Not Available</td>\n",
       "      <td>O266</td>\n",
       "      <td>All other direct obstetric causes</td>\n",
       "      <td>Other complications of pregnancy, childbirth a...</td>\n",
       "      <td>Not Available</td>\n",
       "      <td>Pregnancy, childbirth and the puerperium</td>\n",
       "      <td>6</td>\n",
       "      <td>11O995</td>\n",
       "      <td>21O995</td>\n",
       "      <td>31O266</td>\n",
       "      <td>2</td>\n",
       "      <td>O266</td>\n",
       "      <td>O268</td>\n",
       "      <td>Not Available</td>\n",
       "      <td>White</td>\n",
       "      <td>White</td>\n",
       "      <td>White</td>\n",
       "      <td>Mexican</td>\n",
       "      <td>Mexican</td>\n",
       "      <td>Hispanic</td>\n",
       "    </tr>\n",
       "    <tr>\n",
       "      <th>30</th>\n",
       "      <td>RESIDENTS</td>\n",
       "      <td>9.0</td>\n",
       "      <td>April</td>\n",
       "      <td>35</td>\n",
       "      <td>Hospital, clinic or Medical Center</td>\n",
       "      <td>Married</td>\n",
       "      <td>Friday</td>\n",
       "      <td>2015</td>\n",
       "      <td>Natural</td>\n",
       "      <td>Yes</td>\n",
       "      <td>Not Available</td>\n",
       "      <td>O720</td>\n",
       "      <td>Hemorrhage of pregnancy and childbirth and pla...</td>\n",
       "      <td>Other complications of pregnancy, childbirth a...</td>\n",
       "      <td>Not Available</td>\n",
       "      <td>Pregnancy, childbirth and the puerperium</td>\n",
       "      <td>3</td>\n",
       "      <td>11O994</td>\n",
       "      <td>21O720</td>\n",
       "      <td>22O991</td>\n",
       "      <td>1</td>\n",
       "      <td>O720</td>\n",
       "      <td>Not Available</td>\n",
       "      <td>Not Available</td>\n",
       "      <td>White</td>\n",
       "      <td>White</td>\n",
       "      <td>White</td>\n",
       "      <td>Mexican</td>\n",
       "      <td>Mexican</td>\n",
       "      <td>Hispanic</td>\n",
       "    </tr>\n",
       "    <tr>\n",
       "      <th>32</th>\n",
       "      <td>RESIDENTS</td>\n",
       "      <td>6.0</td>\n",
       "      <td>April</td>\n",
       "      <td>41</td>\n",
       "      <td>Hospital, clinic or Medical Center</td>\n",
       "      <td>Married</td>\n",
       "      <td>Wednesday</td>\n",
       "      <td>2015</td>\n",
       "      <td>Natural</td>\n",
       "      <td>No</td>\n",
       "      <td>Not Available</td>\n",
       "      <td>O721</td>\n",
       "      <td>Hemorrhage of pregnancy and childbirth and pla...</td>\n",
       "      <td>Other complications of pregnancy, childbirth a...</td>\n",
       "      <td>Not Available</td>\n",
       "      <td>Pregnancy, childbirth and the puerperium</td>\n",
       "      <td>3</td>\n",
       "      <td>11O721</td>\n",
       "      <td>12O991</td>\n",
       "      <td>21O95</td>\n",
       "      <td>1</td>\n",
       "      <td>O721</td>\n",
       "      <td>Not Available</td>\n",
       "      <td>Not Available</td>\n",
       "      <td>White</td>\n",
       "      <td>White</td>\n",
       "      <td>White</td>\n",
       "      <td>Mexican</td>\n",
       "      <td>Mexican</td>\n",
       "      <td>Hispanic</td>\n",
       "    </tr>\n",
       "    <tr>\n",
       "      <th>36</th>\n",
       "      <td>INTRASTATE NONRESIDENTS</td>\n",
       "      <td>3.0</td>\n",
       "      <td>June</td>\n",
       "      <td>28</td>\n",
       "      <td>Hospital, clinic or Medical Center</td>\n",
       "      <td>Married</td>\n",
       "      <td>Sunday</td>\n",
       "      <td>2015</td>\n",
       "      <td>Natural</td>\n",
       "      <td>No</td>\n",
       "      <td>Not Available</td>\n",
       "      <td>O038</td>\n",
       "      <td>Spontaneous abortion</td>\n",
       "      <td>Pregnancy with abortive outcome</td>\n",
       "      <td>Not Available</td>\n",
       "      <td>Pregnancy, childbirth and the puerperium</td>\n",
       "      <td>8</td>\n",
       "      <td>11O996</td>\n",
       "      <td>12O998</td>\n",
       "      <td>13O995</td>\n",
       "      <td>1</td>\n",
       "      <td>O038</td>\n",
       "      <td>Not Available</td>\n",
       "      <td>Not Available</td>\n",
       "      <td>White</td>\n",
       "      <td>White</td>\n",
       "      <td>White</td>\n",
       "      <td>Mexican</td>\n",
       "      <td>Mexican</td>\n",
       "      <td>Hispanic</td>\n",
       "    </tr>\n",
       "    <tr>\n",
       "      <th>...</th>\n",
       "      <td>...</td>\n",
       "      <td>...</td>\n",
       "      <td>...</td>\n",
       "      <td>...</td>\n",
       "      <td>...</td>\n",
       "      <td>...</td>\n",
       "      <td>...</td>\n",
       "      <td>...</td>\n",
       "      <td>...</td>\n",
       "      <td>...</td>\n",
       "      <td>...</td>\n",
       "      <td>...</td>\n",
       "      <td>...</td>\n",
       "      <td>...</td>\n",
       "      <td>...</td>\n",
       "      <td>...</td>\n",
       "      <td>...</td>\n",
       "      <td>...</td>\n",
       "      <td>...</td>\n",
       "      <td>...</td>\n",
       "      <td>...</td>\n",
       "      <td>...</td>\n",
       "      <td>...</td>\n",
       "      <td>...</td>\n",
       "      <td>...</td>\n",
       "      <td>...</td>\n",
       "      <td>...</td>\n",
       "      <td>...</td>\n",
       "      <td>...</td>\n",
       "      <td>...</td>\n",
       "    </tr>\n",
       "    <tr>\n",
       "      <th>7129</th>\n",
       "      <td>RESIDENTS</td>\n",
       "      <td>4.0</td>\n",
       "      <td>October</td>\n",
       "      <td>33</td>\n",
       "      <td>Hospital, clinic or Medical Center</td>\n",
       "      <td>Married</td>\n",
       "      <td>Tuesday</td>\n",
       "      <td>2009</td>\n",
       "      <td>Not Available</td>\n",
       "      <td>No</td>\n",
       "      <td>Not Available</td>\n",
       "      <td>O998</td>\n",
       "      <td>Indirect obstetric deaths</td>\n",
       "      <td>Other complications of pregnancy, childbirth a...</td>\n",
       "      <td>Not Available</td>\n",
       "      <td>Pregnancy, childbirth and the puerperium</td>\n",
       "      <td>1</td>\n",
       "      <td>11O998</td>\n",
       "      <td>Not Available</td>\n",
       "      <td>Not Available</td>\n",
       "      <td>1</td>\n",
       "      <td>O998</td>\n",
       "      <td>Not Available</td>\n",
       "      <td>Not Available</td>\n",
       "      <td>Black</td>\n",
       "      <td>Black</td>\n",
       "      <td>Black</td>\n",
       "      <td>Non – Hispanic</td>\n",
       "      <td>Non - Hispanic black</td>\n",
       "      <td>Black</td>\n",
       "    </tr>\n",
       "    <tr>\n",
       "      <th>7130</th>\n",
       "      <td>RESIDENTS</td>\n",
       "      <td>4.0</td>\n",
       "      <td>October</td>\n",
       "      <td>27</td>\n",
       "      <td>Hospital, clinic or Medical Center</td>\n",
       "      <td>Married</td>\n",
       "      <td>Thursday</td>\n",
       "      <td>2009</td>\n",
       "      <td>Natural</td>\n",
       "      <td>No</td>\n",
       "      <td>Not Available</td>\n",
       "      <td>O149</td>\n",
       "      <td>Eclampsia and pre-eclampsia</td>\n",
       "      <td>Other complications of pregnancy, childbirth a...</td>\n",
       "      <td>Not Available</td>\n",
       "      <td>Pregnancy, childbirth and the puerperium</td>\n",
       "      <td>2</td>\n",
       "      <td>11O149</td>\n",
       "      <td>12O759</td>\n",
       "      <td>Not Available</td>\n",
       "      <td>1</td>\n",
       "      <td>O149</td>\n",
       "      <td>Not Available</td>\n",
       "      <td>Not Available</td>\n",
       "      <td>Black</td>\n",
       "      <td>Black</td>\n",
       "      <td>Black</td>\n",
       "      <td>Non – Hispanic</td>\n",
       "      <td>Non - Hispanic black</td>\n",
       "      <td>Black</td>\n",
       "    </tr>\n",
       "    <tr>\n",
       "      <th>7131</th>\n",
       "      <td>RESIDENTS</td>\n",
       "      <td>6.0</td>\n",
       "      <td>December</td>\n",
       "      <td>25</td>\n",
       "      <td>Hospital, clinic or Medical Center</td>\n",
       "      <td>Never married, Single</td>\n",
       "      <td>Wednesday</td>\n",
       "      <td>2009</td>\n",
       "      <td>Not Available</td>\n",
       "      <td>No</td>\n",
       "      <td>Not Available</td>\n",
       "      <td>O268</td>\n",
       "      <td>All other direct obstetric causes</td>\n",
       "      <td>Other complications of pregnancy, childbirth a...</td>\n",
       "      <td>Not Available</td>\n",
       "      <td>Pregnancy, childbirth and the puerperium</td>\n",
       "      <td>2</td>\n",
       "      <td>11O268</td>\n",
       "      <td>21O995</td>\n",
       "      <td>Not Available</td>\n",
       "      <td>1</td>\n",
       "      <td>O268</td>\n",
       "      <td>Not Available</td>\n",
       "      <td>Not Available</td>\n",
       "      <td>Black</td>\n",
       "      <td>Black</td>\n",
       "      <td>Black</td>\n",
       "      <td>Non – Hispanic</td>\n",
       "      <td>Non - Hispanic black</td>\n",
       "      <td>Black</td>\n",
       "    </tr>\n",
       "    <tr>\n",
       "      <th>7133</th>\n",
       "      <td>RESIDENTS</td>\n",
       "      <td>3.0</td>\n",
       "      <td>December</td>\n",
       "      <td>40</td>\n",
       "      <td>Hospital, clinic or Medical Center</td>\n",
       "      <td>Never married, Single</td>\n",
       "      <td>Saturday</td>\n",
       "      <td>2009</td>\n",
       "      <td>Natural</td>\n",
       "      <td>Yes</td>\n",
       "      <td>Not Available</td>\n",
       "      <td>O96</td>\n",
       "      <td>Other deaths related to pregnancy, childbirth ...</td>\n",
       "      <td>Other complications of pregnancy, childbirth a...</td>\n",
       "      <td>Not Available</td>\n",
       "      <td>Pregnancy, childbirth and the puerperium</td>\n",
       "      <td>2</td>\n",
       "      <td>11O96</td>\n",
       "      <td>61O96</td>\n",
       "      <td>Not Available</td>\n",
       "      <td>1</td>\n",
       "      <td>O96</td>\n",
       "      <td>Not Available</td>\n",
       "      <td>Not Available</td>\n",
       "      <td>Black</td>\n",
       "      <td>Black</td>\n",
       "      <td>Black</td>\n",
       "      <td>Non – Hispanic</td>\n",
       "      <td>Non - Hispanic black</td>\n",
       "      <td>Black</td>\n",
       "    </tr>\n",
       "    <tr>\n",
       "      <th>7134</th>\n",
       "      <td>RESIDENTS</td>\n",
       "      <td>5.0</td>\n",
       "      <td>December</td>\n",
       "      <td>46</td>\n",
       "      <td>Hospital, clinic or Medical Center</td>\n",
       "      <td>Divorced</td>\n",
       "      <td>Friday</td>\n",
       "      <td>2009</td>\n",
       "      <td>Natural</td>\n",
       "      <td>Yes</td>\n",
       "      <td>Not Available</td>\n",
       "      <td>O001</td>\n",
       "      <td>Ectopic pregnancy</td>\n",
       "      <td>Pregnancy with abortive outcome</td>\n",
       "      <td>Not Available</td>\n",
       "      <td>Pregnancy, childbirth and the puerperium</td>\n",
       "      <td>2</td>\n",
       "      <td>11O001</td>\n",
       "      <td>61O994</td>\n",
       "      <td>Not Available</td>\n",
       "      <td>1</td>\n",
       "      <td>O001</td>\n",
       "      <td>Not Available</td>\n",
       "      <td>Not Available</td>\n",
       "      <td>Black</td>\n",
       "      <td>Black</td>\n",
       "      <td>Black</td>\n",
       "      <td>Non – Hispanic</td>\n",
       "      <td>Non - Hispanic black</td>\n",
       "      <td>Black</td>\n",
       "    </tr>\n",
       "  </tbody>\n",
       "</table>\n",
       "<p>7135 rows × 30 columns</p>\n",
       "</div>"
      ],
      "text/plain": [
       "              resident_status level_of_education month_of_death  age  \\\n",
       "25                  RESIDENTS                3.0        January   49   \n",
       "27                  RESIDENTS                3.0        January   40   \n",
       "30                  RESIDENTS                9.0          April   35   \n",
       "32                  RESIDENTS                6.0          April   41   \n",
       "36    INTRASTATE NONRESIDENTS                3.0           June   28   \n",
       "...                       ...                ...            ...  ...   \n",
       "7129                RESIDENTS                4.0        October   33   \n",
       "7130                RESIDENTS                4.0        October   27   \n",
       "7131                RESIDENTS                6.0       December   25   \n",
       "7133                RESIDENTS                3.0       December   40   \n",
       "7134                RESIDENTS                5.0       December   46   \n",
       "\n",
       "           place_of_death_patient_status         marital_status  \\\n",
       "25    Hospital, clinic or Medical Center               Divorced   \n",
       "27    Hospital, clinic or Medical Center                Married   \n",
       "30    Hospital, clinic or Medical Center                Married   \n",
       "32    Hospital, clinic or Medical Center                Married   \n",
       "36    Hospital, clinic or Medical Center                Married   \n",
       "...                                  ...                    ...   \n",
       "7129  Hospital, clinic or Medical Center                Married   \n",
       "7130  Hospital, clinic or Medical Center                Married   \n",
       "7131  Hospital, clinic or Medical Center  Never married, Single   \n",
       "7133  Hospital, clinic or Medical Center  Never married, Single   \n",
       "7134  Hospital, clinic or Medical Center               Divorced   \n",
       "\n",
       "     day_of_week_of_death  year_data_collected manner_of_death  \\\n",
       "25                Tuesday                 2015         Natural   \n",
       "27                 Sunday                 2015         Natural   \n",
       "30                 Friday                 2015         Natural   \n",
       "32              Wednesday                 2015         Natural   \n",
       "36                 Sunday                 2015         Natural   \n",
       "...                   ...                  ...             ...   \n",
       "7129              Tuesday                 2009   Not Available   \n",
       "7130             Thursday                 2009         Natural   \n",
       "7131            Wednesday                 2009   Not Available   \n",
       "7133             Saturday                 2009         Natural   \n",
       "7134               Friday                 2009         Natural   \n",
       "\n",
       "     was_autopsy_done place_of_injury_for_icd_w00_y34_except_y06_and_y07_  \\\n",
       "25                 No                                      Not Available    \n",
       "27                 No                                      Not Available    \n",
       "30                Yes                                      Not Available    \n",
       "32                 No                                      Not Available    \n",
       "36                 No                                      Not Available    \n",
       "...               ...                                                ...    \n",
       "7129               No                                      Not Available    \n",
       "7130               No                                      Not Available    \n",
       "7131               No                                      Not Available    \n",
       "7133              Yes                                      Not Available    \n",
       "7134              Yes                                      Not Available    \n",
       "\n",
       "     icd_code_10th_revision  \\\n",
       "25                     O266   \n",
       "27                     O266   \n",
       "30                     O720   \n",
       "32                     O721   \n",
       "36                     O038   \n",
       "...                     ...   \n",
       "7129                   O998   \n",
       "7130                   O149   \n",
       "7131                   O268   \n",
       "7133                    O96   \n",
       "7134                   O001   \n",
       "\n",
       "                                    358_causes_of_death  \\\n",
       "25                    All other direct obstetric causes   \n",
       "27                    All other direct obstetric causes   \n",
       "30    Hemorrhage of pregnancy and childbirth and pla...   \n",
       "32    Hemorrhage of pregnancy and childbirth and pla...   \n",
       "36                                 Spontaneous abortion   \n",
       "...                                                 ...   \n",
       "7129                          Indirect obstetric deaths   \n",
       "7130                        Eclampsia and pre-eclampsia   \n",
       "7131                  All other direct obstetric causes   \n",
       "7133  Other deaths related to pregnancy, childbirth ...   \n",
       "7134                                  Ectopic pregnancy   \n",
       "\n",
       "                                    113_causes_of_death  \\\n",
       "25    Other complications of pregnancy, childbirth a...   \n",
       "27    Other complications of pregnancy, childbirth a...   \n",
       "30    Other complications of pregnancy, childbirth a...   \n",
       "32    Other complications of pregnancy, childbirth a...   \n",
       "36                      Pregnancy with abortive outcome   \n",
       "...                                                 ...   \n",
       "7129  Other complications of pregnancy, childbirth a...   \n",
       "7130  Other complications of pregnancy, childbirth a...   \n",
       "7131  Other complications of pregnancy, childbirth a...   \n",
       "7133  Other complications of pregnancy, childbirth a...   \n",
       "7134                    Pregnancy with abortive outcome   \n",
       "\n",
       "     130_causes_of_infant_death                           39_cause_recode  \\\n",
       "25                Not Available  Pregnancy, childbirth and the puerperium   \n",
       "27                Not Available  Pregnancy, childbirth and the puerperium   \n",
       "30                Not Available  Pregnancy, childbirth and the puerperium   \n",
       "32                Not Available  Pregnancy, childbirth and the puerperium   \n",
       "36                Not Available  Pregnancy, childbirth and the puerperium   \n",
       "...                         ...                                       ...   \n",
       "7129              Not Available  Pregnancy, childbirth and the puerperium   \n",
       "7130              Not Available  Pregnancy, childbirth and the puerperium   \n",
       "7131              Not Available  Pregnancy, childbirth and the puerperium   \n",
       "7133              Not Available  Pregnancy, childbirth and the puerperium   \n",
       "7134              Not Available  Pregnancy, childbirth and the puerperium   \n",
       "\n",
       "      number_of_entity_axis_conditions entity_condition_1 entity_condition_2  \\\n",
       "25                                   9             11O268             21O988   \n",
       "27                                   6             11O995             21O995   \n",
       "30                                   3             11O994             21O720   \n",
       "32                                   3             11O721             12O991   \n",
       "36                                   8             11O996             12O998   \n",
       "...                                ...                ...                ...   \n",
       "7129                                 1             11O998      Not Available   \n",
       "7130                                 2             11O149             12O759   \n",
       "7131                                 2             11O268             21O995   \n",
       "7133                                 2              11O96              61O96   \n",
       "7134                                 2             11O001             61O994   \n",
       "\n",
       "     entity_condition_3  number_of_record_axis_conditions record_condition_1  \\\n",
       "25               22O992                                 2               O266   \n",
       "27               31O266                                 2               O266   \n",
       "30               22O991                                 1               O720   \n",
       "32                21O95                                 1               O721   \n",
       "36               13O995                                 1               O038   \n",
       "...                 ...                               ...                ...   \n",
       "7129      Not Available                                 1               O998   \n",
       "7130      Not Available                                 1               O149   \n",
       "7131      Not Available                                 1               O268   \n",
       "7133      Not Available                                 1                O96   \n",
       "7134      Not Available                                 1               O001   \n",
       "\n",
       "     record_condition_2 record_condition_3   race race_recode_3 race_recode_5  \\\n",
       "25                 O268      Not Available  White         White         White   \n",
       "27                 O268      Not Available  White         White         White   \n",
       "30        Not Available      Not Available  White         White         White   \n",
       "32        Not Available      Not Available  White         White         White   \n",
       "36        Not Available      Not Available  White         White         White   \n",
       "...                 ...                ...    ...           ...           ...   \n",
       "7129      Not Available      Not Available  Black         Black         Black   \n",
       "7130      Not Available      Not Available  Black         Black         Black   \n",
       "7131      Not Available      Not Available  Black         Black         Black   \n",
       "7133      Not Available      Not Available  Black         Black         Black   \n",
       "7134      Not Available      Not Available  Black         Black         Black   \n",
       "\n",
       "     hispanic_origin hispanic_originrace_recode ethnicity  \n",
       "25           Mexican                    Mexican  Hispanic  \n",
       "27           Mexican                    Mexican  Hispanic  \n",
       "30           Mexican                    Mexican  Hispanic  \n",
       "32           Mexican                    Mexican  Hispanic  \n",
       "36           Mexican                    Mexican  Hispanic  \n",
       "...              ...                        ...       ...  \n",
       "7129  Non – Hispanic       Non - Hispanic black     Black  \n",
       "7130  Non – Hispanic       Non - Hispanic black     Black  \n",
       "7131  Non – Hispanic       Non - Hispanic black     Black  \n",
       "7133  Non – Hispanic       Non - Hispanic black     Black  \n",
       "7134  Non – Hispanic       Non - Hispanic black     Black  \n",
       "\n",
       "[7135 rows x 30 columns]"
      ]
     },
     "execution_count": 42,
     "metadata": {},
     "output_type": "execute_result"
    }
   ],
   "source": [
    "# add ethnicity column\n",
    "df_hispanic['ethnicity'] = 'Hispanic'\n",
    "df_non_hispanic['ethnicity'] = df_non_hispanic['race_recode_3']\n",
    "\n",
    "df = pd.concat([df_hispanic, df_non_hispanic], axis=0, join='inner')\n",
    "df[\"ethnicity\"].replace({\"Races other than White or Black\": \"Other\"}, inplace=True)\n",
    "df"
   ]
  },
  {
   "cell_type": "code",
   "execution_count": 43,
   "metadata": {
    "scrolled": false
   },
   "outputs": [
    {
     "data": {
      "text/plain": [
       "(7135, 30)"
      ]
     },
     "execution_count": 43,
     "metadata": {},
     "output_type": "execute_result"
    }
   ],
   "source": [
    "df.shape"
   ]
  },
  {
   "cell_type": "markdown",
   "metadata": {},
   "source": [
    "3417 rows in dataset => 3417 deaths\n",
    "1108 black women deaths\n",
    "2113 white women deaths\n",
    "196 other races deaths"
   ]
  },
  {
   "cell_type": "code",
   "execution_count": 294,
   "metadata": {},
   "outputs": [],
   "source": [
    "# Find total population of USA separated by race.\n",
    "# If possible by white/black/other and by hispanic and non hispanic."
   ]
  },
  {
   "cell_type": "code",
   "execution_count": 45,
   "metadata": {
    "scrolled": true
   },
   "outputs": [
    {
     "data": {
      "text/plain": [
       "ethnicity  place_of_death_patient_status     \n",
       "Black      Descendent's home                       38\n",
       "           Hospital, clinc or Medical Center       47\n",
       "           Hospital, clinic or Medical Center    2107\n",
       "           Nursing home/long term care             24\n",
       "           Other                                   52\n",
       "           Place of death unknown                  29\n",
       "Hispanic   Descendent's home                       18\n",
       "           Hospital, clinc or Medical Center        6\n",
       "           Hospital, clinic or Medical Center    1076\n",
       "           Nursing home/long term care             10\n",
       "           Other                                   30\n",
       "           Place of death unknown                   2\n",
       "Other      Descendent's home                        2\n",
       "           Hospital, clinc or Medical Center        4\n",
       "           Hospital, clinic or Medical Center     379\n",
       "           Nursing home/long term care              5\n",
       "           Other                                    7\n",
       "           Place of death unknown                   1\n",
       "White      Descendent's home                       87\n",
       "           Hospital, clinc or Medical Center       33\n",
       "           Hospital, clinic or Medical Center    3000\n",
       "           Nursing home/long term care             59\n",
       "           Other                                  110\n",
       "           Place of death unknown                   9\n",
       "dtype: int64"
      ]
     },
     "execution_count": 45,
     "metadata": {},
     "output_type": "execute_result"
    }
   ],
   "source": [
    "column1 = 'ethnicity'\n",
    "column2 = 'place_of_death_patient_status'\n",
    "\n",
    "grouped_by_ethnicity_and_death_place = df.groupby([column1, column2]).size()\n",
    "grouped_by_ethnicity_and_death_place"
   ]
  },
  {
   "cell_type": "markdown",
   "metadata": {},
   "source": [
    "# How are hispanics represented among different races?"
   ]
  },
  {
   "cell_type": "code",
   "execution_count": 46,
   "metadata": {},
   "outputs": [],
   "source": [
    "def group_by_race(df):\n",
    "    return df.groupby(df['race_recode_3']).size()"
   ]
  },
  {
   "cell_type": "code",
   "execution_count": 47,
   "metadata": {
    "scrolled": true
   },
   "outputs": [
    {
     "data": {
      "text/plain": [
       "race_recode_3\n",
       "Black                              2321\n",
       "Races other than White or Black     413\n",
       "White                              4401\n",
       "dtype: int64"
      ]
     },
     "execution_count": 47,
     "metadata": {},
     "output_type": "execute_result"
    }
   ],
   "source": [
    "grouped_by_race = group_by_race(df)\n",
    "grouped_by_race"
   ]
  },
  {
   "cell_type": "code",
   "execution_count": 48,
   "metadata": {},
   "outputs": [
    {
     "data": {
      "text/plain": [
       "race_recode_3\n",
       "Black                                24\n",
       "Races other than White or Black      15\n",
       "White                              1103\n",
       "dtype: int64"
      ]
     },
     "execution_count": 48,
     "metadata": {},
     "output_type": "execute_result"
    }
   ],
   "source": [
    "group_by_race(df_hispanic)"
   ]
  },
  {
   "cell_type": "code",
   "execution_count": 49,
   "metadata": {
    "scrolled": false
   },
   "outputs": [
    {
     "data": {
      "text/plain": [
       "race_recode_3\n",
       "Black                              2297\n",
       "Races other than White or Black     398\n",
       "White                              3298\n",
       "dtype: int64"
      ]
     },
     "execution_count": 49,
     "metadata": {},
     "output_type": "execute_result"
    }
   ],
   "source": [
    "group_by_race(df_non_hispanic)"
   ]
  },
  {
   "cell_type": "markdown",
   "metadata": {},
   "source": [
    "# How does the number of total deaths look like?"
   ]
  },
  {
   "cell_type": "code",
   "execution_count": 50,
   "metadata": {
    "scrolled": true
   },
   "outputs": [
    {
     "data": {
      "text/plain": [
       "<AxesSubplot:title={'center':'Bar plot of deaths per race from 2013 to 2015'}, xlabel='ethnicity'>"
      ]
     },
     "execution_count": 50,
     "metadata": {},
     "output_type": "execute_result"
    },
    {
     "data": {
      "image/png": "[encoded data removed]",
      "text/plain": [
       "<Figure size 1296x360 with 1 Axes>"
      ]
     },
     "metadata": {
      "needs_background": "light"
     },
     "output_type": "display_data"
    }
   ],
   "source": [
    "df.groupby(df['ethnicity']).size().plot.bar(\n",
    "    title=f'Bar plot of deaths per race from 2013 to 2015',\n",
    "    figsize=(18,5)\n",
    ")\n",
    "\n",
    "# We Need to find total population of black/white women to see what's the maternal mortality percentage.\n",
    "# If possible, do same analysis including hispanic, and same anaylisys excluding hispanic"
   ]
  },
  {
   "cell_type": "markdown",
   "metadata": {},
   "source": [
    "# What does marital status look like proportionate to race/ethnicity?"
   ]
  },
  {
   "cell_type": "code",
   "execution_count": 71,
   "metadata": {},
   "outputs": [],
   "source": [
    "x=df.groupby([\"race\"]) [\"marital_status\"].value_counts().head\n"
   ]
  },
  {
   "cell_type": "code",
   "execution_count": 72,
   "metadata": {},
   "outputs": [
    {
     "name": "stdout",
     "output_type": "stream",
     "text": [
      "<bound method NDFrame.head of race                                                            marital_status        \n",
      "American Indian (includes Aleuts and Eskimos)                   Never married, Single       63\n",
      "                                                                Married                     42\n",
      "                                                                Divorced                    16\n",
      "                                                                Widowed                      2\n",
      "                                                                Marital Status unknown       1\n",
      "Asian Indian                                                    Married                     41\n",
      "                                                                Never married, Single        3\n",
      "Black                                                           Never married, Single     1418\n",
      "                                                                Married                    671\n",
      "                                                                Divorced                   162\n",
      "                                                                Marital Status unknown      44\n",
      "                                                                Widowed                     26\n",
      "Chinese                                                         Married                     38\n",
      "                                                                Never married, Single        3\n",
      "                                                                Divorced                     2\n",
      "                                                                Marital Status unknown       1\n",
      "Combined other Asian or Pacific Islander, includes codes 18-68  Married                      7\n",
      "                                                                Never married, Single        4\n",
      "                                                                Divorced                     3\n",
      "Filipino                                                        Married                     41\n",
      "                                                                Never married, Single       13\n",
      "                                                                Divorced                     3\n",
      "Guamanian                                                       Married                      2\n",
      "Hawaiian (includes Part-Hawaiian)                               Married                      2\n",
      "Japanese                                                        Married                      8\n",
      "                                                                Never married, Single        1\n",
      "Korean                                                          Married                     16\n",
      "                                                                Never married, Single        3\n",
      "                                                                Divorced                     1\n",
      "Other Asian or Pacific Islander in areas reporting codes 18-58  Married                     46\n",
      "                                                                Never married, Single       15\n",
      "                                                                Marital Status unknown       1\n",
      "                                                                Widowed                      1\n",
      "Samoan                                                          Married                      4\n",
      "                                                                Divorced                     1\n",
      "Vietnamese                                                      Married                     21\n",
      "                                                                Never married, Single        4\n",
      "                                                                Divorced                     3\n",
      "                                                                Widowed                      1\n",
      "White                                                           Married                   2312\n",
      "                                                                Never married, Single     1453\n",
      "                                                                Divorced                   534\n",
      "                                                                Widowed                     67\n",
      "                                                                Marital Status unknown      35\n",
      "Name: marital_status, dtype: int64>\n"
     ]
    }
   ],
   "source": [
    "print (x)"
   ]
  },
  {
   "cell_type": "code",
   "execution_count": 73,
   "metadata": {},
   "outputs": [
    {
     "data": {
      "text/plain": [
       "<AxesSubplot:xlabel='marital_status'>"
      ]
     },
     "execution_count": 73,
     "metadata": {},
     "output_type": "execute_result"
    },
    {
     "data": {
      "image/png": "[encoded data removed]",
      "text/plain": [
       "<Figure size 432x288 with 1 Axes>"
      ]
     },
     "metadata": {
      "needs_background": "light"
     },
     "output_type": "display_data"
    }
   ],
   "source": [
    "df.groupby(df['marital_status']).size().plot.bar()"
   ]
  },
  {
   "cell_type": "code",
   "execution_count": 80,
   "metadata": {},
   "outputs": [],
   "source": [
    "def create_marital_status_heatmap(df, column):\n",
    "    event_count_table = pd.crosstab(\n",
    "        index=df['marital_status'],\n",
    "        columns=df[column],\n",
    "        normalize='index'\n",
    "    )\n",
    "    \n",
    "    return sns.heatmap(event_count_table, cmap='Greens', linewidths=1.5)"
   ]
  },
  {
   "cell_type": "code",
   "execution_count": 81,
   "metadata": {},
   "outputs": [
    {
     "data": {
      "text/plain": [
       "<AxesSubplot:xlabel='race', ylabel='marital_status'>"
      ]
     },
     "execution_count": 81,
     "metadata": {},
     "output_type": "execute_result"
    },
    {
     "data": {
      "image/png": "[encoded data removed]",
      "text/plain": [
       "<Figure size 432x288 with 2 Axes>"
      ]
     },
     "metadata": {
      "needs_background": "light"
     },
     "output_type": "display_data"
    }
   ],
   "source": [
    "create_marital_status_heatmap(df, 'race')"
   ]
  },
  {
   "cell_type": "code",
   "execution_count": 78,
   "metadata": {},
   "outputs": [],
   "source": [
    "def create_marital_status_heatmap(df, column):\n",
    "    event_count_table = pd.crosstab(\n",
    "        index=df['marital_status'],\n",
    "        columns=df[column],\n",
    "        normalize='index'\n",
    "    )\n",
    "    \n",
    "    return sns.heatmap(event_count_table, cmap='Greens', linewidths=1.5)"
   ]
  },
  {
   "cell_type": "code",
   "execution_count": 79,
   "metadata": {},
   "outputs": [
    {
     "data": {
      "text/plain": [
       "<AxesSubplot:xlabel='ethnicity', ylabel='marital_status'>"
      ]
     },
     "execution_count": 79,
     "metadata": {},
     "output_type": "execute_result"
    },
    {
     "data": {
      "image/png": "[encoded data removed]",
      "text/plain": [
       "<Figure size 432x288 with 2 Axes>"
      ]
     },
     "metadata": {
      "needs_background": "light"
     },
     "output_type": "display_data"
    }
   ],
   "source": [
    "create_marital_status_heatmap(df, 'ethnicity')"
   ]
  },
  {
   "cell_type": "markdown",
   "metadata": {},
   "source": [
    "# How does the number of deaths change as the years go by?"
   ]
  },
  {
   "cell_type": "code",
   "execution_count": 67,
   "metadata": {},
   "outputs": [
    {
     "data": {
      "text/plain": [
       "year_data_collected\n",
       "2009     960\n",
       "2010     829\n",
       "2011     936\n",
       "2012     993\n",
       "2013    1142\n",
       "2014    1131\n",
       "2015    1144\n",
       "dtype: int64"
      ]
     },
     "execution_count": 67,
     "metadata": {},
     "output_type": "execute_result"
    }
   ],
   "source": [
    "df_deaths_by_year = df.groupby(['year_data_collected']).size()\n",
    "df_deaths_by_year"
   ]
  },
  {
   "cell_type": "code",
   "execution_count": 68,
   "metadata": {
    "scrolled": true
   },
   "outputs": [
    {
     "data": {
      "text/plain": [
       "<AxesSubplot:xlabel='year_data_collected'>"
      ]
     },
     "execution_count": 68,
     "metadata": {},
     "output_type": "execute_result"
    },
    {
     "data": {
      "image/png": "[encoded data removed]",
      "text/plain": [
       "<Figure size 432x288 with 1 Axes>"
      ]
     },
     "metadata": {
      "needs_background": "light"
     },
     "output_type": "display_data"
    }
   ],
   "source": [
    "df_deaths_by_year.plot.line()"
   ]
  },
  {
   "cell_type": "markdown",
   "metadata": {},
   "source": [
    "**It seems that there is a growing trend in the number of maternal deaths**"
   ]
  },
  {
   "cell_type": "code",
   "execution_count": 69,
   "metadata": {},
   "outputs": [
    {
     "data": {
      "text/html": [
       "<div>\n",
       "<style scoped>\n",
       "    .dataframe tbody tr th:only-of-type {\n",
       "        vertical-align: middle;\n",
       "    }\n",
       "\n",
       "    .dataframe tbody tr th {\n",
       "        vertical-align: top;\n",
       "    }\n",
       "\n",
       "    .dataframe thead th {\n",
       "        text-align: right;\n",
       "    }\n",
       "</style>\n",
       "<table border=\"1\" class=\"dataframe\">\n",
       "  <thead>\n",
       "    <tr style=\"text-align: right;\">\n",
       "      <th></th>\n",
       "      <th>ethnicity</th>\n",
       "      <th>year_data_collected</th>\n",
       "      <th>count</th>\n",
       "    </tr>\n",
       "  </thead>\n",
       "  <tbody>\n",
       "    <tr>\n",
       "      <th>0</th>\n",
       "      <td>Black</td>\n",
       "      <td>2009</td>\n",
       "      <td>305</td>\n",
       "    </tr>\n",
       "    <tr>\n",
       "      <th>1</th>\n",
       "      <td>Black</td>\n",
       "      <td>2010</td>\n",
       "      <td>262</td>\n",
       "    </tr>\n",
       "    <tr>\n",
       "      <th>2</th>\n",
       "      <td>Black</td>\n",
       "      <td>2011</td>\n",
       "      <td>301</td>\n",
       "    </tr>\n",
       "    <tr>\n",
       "      <th>3</th>\n",
       "      <td>Black</td>\n",
       "      <td>2012</td>\n",
       "      <td>333</td>\n",
       "    </tr>\n",
       "    <tr>\n",
       "      <th>4</th>\n",
       "      <td>Black</td>\n",
       "      <td>2013</td>\n",
       "      <td>362</td>\n",
       "    </tr>\n",
       "    <tr>\n",
       "      <th>5</th>\n",
       "      <td>Black</td>\n",
       "      <td>2014</td>\n",
       "      <td>361</td>\n",
       "    </tr>\n",
       "    <tr>\n",
       "      <th>6</th>\n",
       "      <td>Black</td>\n",
       "      <td>2015</td>\n",
       "      <td>373</td>\n",
       "    </tr>\n",
       "    <tr>\n",
       "      <th>7</th>\n",
       "      <td>Hispanic</td>\n",
       "      <td>2009</td>\n",
       "      <td>184</td>\n",
       "    </tr>\n",
       "    <tr>\n",
       "      <th>8</th>\n",
       "      <td>Hispanic</td>\n",
       "      <td>2010</td>\n",
       "      <td>157</td>\n",
       "    </tr>\n",
       "    <tr>\n",
       "      <th>9</th>\n",
       "      <td>Hispanic</td>\n",
       "      <td>2011</td>\n",
       "      <td>133</td>\n",
       "    </tr>\n",
       "    <tr>\n",
       "      <th>10</th>\n",
       "      <td>Hispanic</td>\n",
       "      <td>2012</td>\n",
       "      <td>154</td>\n",
       "    </tr>\n",
       "    <tr>\n",
       "      <th>11</th>\n",
       "      <td>Hispanic</td>\n",
       "      <td>2013</td>\n",
       "      <td>169</td>\n",
       "    </tr>\n",
       "    <tr>\n",
       "      <th>12</th>\n",
       "      <td>Hispanic</td>\n",
       "      <td>2014</td>\n",
       "      <td>182</td>\n",
       "    </tr>\n",
       "    <tr>\n",
       "      <th>13</th>\n",
       "      <td>Hispanic</td>\n",
       "      <td>2015</td>\n",
       "      <td>163</td>\n",
       "    </tr>\n",
       "    <tr>\n",
       "      <th>14</th>\n",
       "      <td>Other</td>\n",
       "      <td>2009</td>\n",
       "      <td>46</td>\n",
       "    </tr>\n",
       "    <tr>\n",
       "      <th>15</th>\n",
       "      <td>Other</td>\n",
       "      <td>2010</td>\n",
       "      <td>53</td>\n",
       "    </tr>\n",
       "    <tr>\n",
       "      <th>16</th>\n",
       "      <td>Other</td>\n",
       "      <td>2011</td>\n",
       "      <td>58</td>\n",
       "    </tr>\n",
       "    <tr>\n",
       "      <th>17</th>\n",
       "      <td>Other</td>\n",
       "      <td>2012</td>\n",
       "      <td>53</td>\n",
       "    </tr>\n",
       "    <tr>\n",
       "      <th>18</th>\n",
       "      <td>Other</td>\n",
       "      <td>2013</td>\n",
       "      <td>60</td>\n",
       "    </tr>\n",
       "    <tr>\n",
       "      <th>19</th>\n",
       "      <td>Other</td>\n",
       "      <td>2014</td>\n",
       "      <td>61</td>\n",
       "    </tr>\n",
       "    <tr>\n",
       "      <th>20</th>\n",
       "      <td>Other</td>\n",
       "      <td>2015</td>\n",
       "      <td>67</td>\n",
       "    </tr>\n",
       "    <tr>\n",
       "      <th>21</th>\n",
       "      <td>White</td>\n",
       "      <td>2009</td>\n",
       "      <td>425</td>\n",
       "    </tr>\n",
       "    <tr>\n",
       "      <th>22</th>\n",
       "      <td>White</td>\n",
       "      <td>2010</td>\n",
       "      <td>357</td>\n",
       "    </tr>\n",
       "    <tr>\n",
       "      <th>23</th>\n",
       "      <td>White</td>\n",
       "      <td>2011</td>\n",
       "      <td>444</td>\n",
       "    </tr>\n",
       "    <tr>\n",
       "      <th>24</th>\n",
       "      <td>White</td>\n",
       "      <td>2012</td>\n",
       "      <td>453</td>\n",
       "    </tr>\n",
       "    <tr>\n",
       "      <th>25</th>\n",
       "      <td>White</td>\n",
       "      <td>2013</td>\n",
       "      <td>551</td>\n",
       "    </tr>\n",
       "    <tr>\n",
       "      <th>26</th>\n",
       "      <td>White</td>\n",
       "      <td>2014</td>\n",
       "      <td>527</td>\n",
       "    </tr>\n",
       "    <tr>\n",
       "      <th>27</th>\n",
       "      <td>White</td>\n",
       "      <td>2015</td>\n",
       "      <td>541</td>\n",
       "    </tr>\n",
       "  </tbody>\n",
       "</table>\n",
       "</div>"
      ],
      "text/plain": [
       "   ethnicity  year_data_collected  count\n",
       "0      Black                 2009    305\n",
       "1      Black                 2010    262\n",
       "2      Black                 2011    301\n",
       "3      Black                 2012    333\n",
       "4      Black                 2013    362\n",
       "5      Black                 2014    361\n",
       "6      Black                 2015    373\n",
       "7   Hispanic                 2009    184\n",
       "8   Hispanic                 2010    157\n",
       "9   Hispanic                 2011    133\n",
       "10  Hispanic                 2012    154\n",
       "11  Hispanic                 2013    169\n",
       "12  Hispanic                 2014    182\n",
       "13  Hispanic                 2015    163\n",
       "14     Other                 2009     46\n",
       "15     Other                 2010     53\n",
       "16     Other                 2011     58\n",
       "17     Other                 2012     53\n",
       "18     Other                 2013     60\n",
       "19     Other                 2014     61\n",
       "20     Other                 2015     67\n",
       "21     White                 2009    425\n",
       "22     White                 2010    357\n",
       "23     White                 2011    444\n",
       "24     White                 2012    453\n",
       "25     White                 2013    551\n",
       "26     White                 2014    527\n",
       "27     White                 2015    541"
      ]
     },
     "execution_count": 69,
     "metadata": {},
     "output_type": "execute_result"
    }
   ],
   "source": [
    "df_grouped_by_ethnicity_and_year = df.groupby(['ethnicity', 'year_data_collected']).size()\n",
    "df_grouped_by_ethnicity_and_year = df_grouped_by_ethnicity_and_year.reset_index()\n",
    "df_grouped_by_ethnicity_and_year = df_grouped_by_ethnicity_and_year.rename(columns={0:'count'})\n",
    "df_grouped_by_ethnicity_and_year"
   ]
  },
  {
   "cell_type": "code",
   "execution_count": 70,
   "metadata": {
    "scrolled": true
   },
   "outputs": [
    {
     "ename": "NameError",
     "evalue": "name 'df_grouped_by_race_and_year' is not defined",
     "output_type": "error",
     "traceback": [
      "\u001b[0;31m---------------------------------------------------------------------------\u001b[0m",
      "\u001b[0;31mNameError\u001b[0m                                 Traceback (most recent call last)",
      "\u001b[0;32m<ipython-input-70-b4fb45efa64e>\u001b[0m in \u001b[0;36m<module>\u001b[0;34m\u001b[0m\n\u001b[1;32m      1\u001b[0m ax = sns.lineplot(\n\u001b[0;32m----> 2\u001b[0;31m     \u001b[0mdata\u001b[0m\u001b[0;34m=\u001b[0m\u001b[0mdf_grouped_by_race_and_year\u001b[0m\u001b[0;34m,\u001b[0m\u001b[0;34m\u001b[0m\u001b[0;34m\u001b[0m\u001b[0m\n\u001b[0m\u001b[1;32m      3\u001b[0m     \u001b[0mx\u001b[0m\u001b[0;34m=\u001b[0m\u001b[0;34m'year_data_collected'\u001b[0m\u001b[0;34m,\u001b[0m\u001b[0;34m\u001b[0m\u001b[0;34m\u001b[0m\u001b[0m\n\u001b[1;32m      4\u001b[0m     \u001b[0my\u001b[0m\u001b[0;34m=\u001b[0m\u001b[0;34m\"count\"\u001b[0m\u001b[0;34m,\u001b[0m\u001b[0;34m\u001b[0m\u001b[0;34m\u001b[0m\u001b[0m\n\u001b[1;32m      5\u001b[0m     \u001b[0mhue\u001b[0m\u001b[0;34m=\u001b[0m\u001b[0;34m'race_recode_3'\u001b[0m\u001b[0;34m,\u001b[0m\u001b[0;34m\u001b[0m\u001b[0;34m\u001b[0m\u001b[0m\n",
      "\u001b[0;31mNameError\u001b[0m: name 'df_grouped_by_race_and_year' is not defined"
     ]
    }
   ],
   "source": [
    "ax = sns.lineplot(\n",
    "    data=df_grouped_by_race_and_year,\n",
    "    x='year_data_collected',\n",
    "    y=\"count\",\n",
    "    hue='race_recode_3',\n",
    ")\n",
    "ax.set_xlabel('Year')"
   ]
  },
  {
   "cell_type": "markdown",
   "metadata": {},
   "source": [
    "**The growing trend in the total number of maternal deaths is true for the different ethnic groups looked at**"
   ]
  },
  {
   "cell_type": "markdown",
   "metadata": {},
   "source": [
    "# Do different races/ethnicities die of the same causes proportionally?"
   ]
  },
  {
   "cell_type": "code",
   "execution_count": 30,
   "metadata": {},
   "outputs": [],
   "source": [
    "def create_ethnicity_heatmap(df, column):\n",
    "    event_count_table = pd.crosstab(\n",
    "        index=df['ethnicity'],\n",
    "        columns=df[column],\n",
    "        normalize='index'\n",
    "    )\n",
    "    \n",
    "    return sns.heatmap(event_count_table, cmap='Reds', linewidths=1.5)"
   ]
  },
  {
   "cell_type": "code",
   "execution_count": 31,
   "metadata": {
    "scrolled": true
   },
   "outputs": [
    {
     "data": {
      "text/plain": [
       "<AxesSubplot:xlabel='place_of_death_patient_status', ylabel='ethnicity'>"
      ]
     },
     "execution_count": 31,
     "metadata": {},
     "output_type": "execute_result"
    },
    {
     "data": {
      "image/png": "[encoded data removed]",
      "text/plain": [
       "<Figure size 432x288 with 2 Axes>"
      ]
     },
     "metadata": {
      "needs_background": "light"
     },
     "output_type": "display_data"
    }
   ],
   "source": [
    "create_ethnicity_heatmap(df, 'place_of_death_patient_status')"
   ]
  },
  {
   "cell_type": "code",
   "execution_count": 33,
   "metadata": {},
   "outputs": [
    {
     "data": {
      "text/plain": [
       "<AxesSubplot:xlabel='manner_of_death', ylabel='ethnicity'>"
      ]
     },
     "execution_count": 33,
     "metadata": {},
     "output_type": "execute_result"
    },
    {
     "data": {
      "image/png": "[encoded data removed]",
      "text/plain": [
       "<Figure size 432x288 with 2 Axes>"
      ]
     },
     "metadata": {
      "needs_background": "light"
     },
     "output_type": "display_data"
    }
   ],
   "source": [
    "create_ethnicity_heatmap(df, 'manner_of_death')"
   ]
  },
  {
   "cell_type": "code",
   "execution_count": 34,
   "metadata": {},
   "outputs": [
    {
     "data": {
      "text/plain": [
       "<AxesSubplot:xlabel='358_causes_of_death', ylabel='ethnicity'>"
      ]
     },
     "execution_count": 34,
     "metadata": {},
     "output_type": "execute_result"
    },
    {
     "data": {
      "image/png": "[encoded data removed]",
      "text/plain": [
       "<Figure size 432x288 with 2 Axes>"
      ]
     },
     "metadata": {
      "needs_background": "light"
     },
     "output_type": "display_data"
    }
   ],
   "source": [
    "create_ethnicity_heatmap(df, '358_causes_of_death')"
   ]
  },
  {
   "cell_type": "code",
   "execution_count": 36,
   "metadata": {
    "scrolled": true
   },
   "outputs": [
    {
     "data": {
      "text/plain": [
       "<AxesSubplot:xlabel='113_causes_of_death', ylabel='ethnicity'>"
      ]
     },
     "execution_count": 36,
     "metadata": {},
     "output_type": "execute_result"
    },
    {
     "data": {
      "image/png": "[encoded data removed]",
      "text/plain": [
       "<Figure size 432x288 with 2 Axes>"
      ]
     },
     "metadata": {
      "needs_background": "light"
     },
     "output_type": "display_data"
    }
   ],
   "source": [
    "create_ethnicity_heatmap(df_non_hispanic, '113_causes_of_death')"
   ]
  },
  {
   "cell_type": "code",
   "execution_count": 37,
   "metadata": {
    "scrolled": true
   },
   "outputs": [
    {
     "data": {
      "text/plain": [
       "<AxesSubplot:xlabel='39_cause_recode', ylabel='ethnicity'>"
      ]
     },
     "execution_count": 37,
     "metadata": {},
     "output_type": "execute_result"
    },
    {
     "data": {
      "image/png": "[encoded data removed]",
      "text/plain": [
       "<Figure size 432x288 with 2 Axes>"
      ]
     },
     "metadata": {
      "needs_background": "light"
     },
     "output_type": "display_data"
    }
   ],
   "source": [
    "create_ethnicity_heatmap(df, '39_cause_recode')"
   ]
  },
  {
   "cell_type": "code",
   "execution_count": 38,
   "metadata": {},
   "outputs": [
    {
     "data": {
      "text/plain": [
       "<AxesSubplot:xlabel='day_of_week_of_death', ylabel='ethnicity'>"
      ]
     },
     "execution_count": 38,
     "metadata": {},
     "output_type": "execute_result"
    },
    {
     "data": {
      "image/png": "[encoded data removed]",
      "text/plain": [
       "<Figure size 432x288 with 2 Axes>"
      ]
     },
     "metadata": {
      "needs_background": "light"
     },
     "output_type": "display_data"
    }
   ],
   "source": [
    "create_ethnicity_heatmap(df, 'day_of_week_of_death')"
   ]
  },
  {
   "cell_type": "code",
   "execution_count": 39,
   "metadata": {
    "scrolled": false
   },
   "outputs": [
    {
     "ename": "NameError",
     "evalue": "name 'create_race_heatmap' is not defined",
     "output_type": "error",
     "traceback": [
      "\u001b[0;31m---------------------------------------------------------------------------\u001b[0m",
      "\u001b[0;31mNameError\u001b[0m                                 Traceback (most recent call last)",
      "\u001b[0;32m<ipython-input-39-7614720617c0>\u001b[0m in \u001b[0;36m<module>\u001b[0;34m\u001b[0m\n\u001b[0;32m----> 1\u001b[0;31m \u001b[0mcreate_race_heatmap\u001b[0m\u001b[0;34m(\u001b[0m\u001b[0mdf\u001b[0m\u001b[0;34m,\u001b[0m \u001b[0;34m'age'\u001b[0m\u001b[0;34m)\u001b[0m\u001b[0;34m\u001b[0m\u001b[0;34m\u001b[0m\u001b[0m\n\u001b[0m",
      "\u001b[0;31mNameError\u001b[0m: name 'create_race_heatmap' is not defined"
     ]
    }
   ],
   "source": [
    "create_race_heatmap(df, 'age')"
   ]
  },
  {
   "cell_type": "markdown",
   "metadata": {},
   "source": [
    "**The main causes of death seem to be the same for each race analyzed.  It might be worth to investigate further why black women die more of eclampsia and pre-eclampsia.**"
   ]
  },
  {
   "cell_type": "markdown",
   "metadata": {},
   "source": [
    "----"
   ]
  },
  {
   "cell_type": "markdown",
   "metadata": {},
   "source": [
    "# Is the percentage of missing data constant for different ethnicities?"
   ]
  },
  {
   "cell_type": "code",
   "execution_count": 40,
   "metadata": {},
   "outputs": [],
   "source": [
    "def get_na_numbers_per_ethnicity(df, ethnicity, column_name):\n",
    "    df_ethnicity = df[df[\"ethnicity\"] == ethnicity]\n",
    "    na_ethnicity = df_ethnicity[df[column_name] == 'Not Available']\n",
    "    ethnicity_pct = len(na_ethnicity) / len(df_ethnicity)\n",
    "    return ethnicity_pct"
   ]
  },
  {
   "cell_type": "code",
   "execution_count": 41,
   "metadata": {},
   "outputs": [],
   "source": [
    "def compare_na_numbers_per_ethnicity(df, column_name):\n",
    "    white = get_na_numbers_per_race(df, 'White', column_name)\n",
    "    black = get_na_numbers_per_race(df, 'Black', column_name)\n",
    "    hispanic = get_na_numbers_per_race(df, 'Hispanic', column_name)\n",
    "    other = get_na_numbers_per_race(df, 'Other', column_name)\n",
    "\n",
    "        \n",
    "    print(f'The number of N/A records for the column {column_name} are {white} for white, {black} for black, {hispanic} for hispanic, {other} for other races')"
   ]
  },
  {
   "cell_type": "code",
   "execution_count": 42,
   "metadata": {},
   "outputs": [
    {
     "ename": "NameError",
     "evalue": "name 'get_na_numbers_per_race' is not defined",
     "output_type": "error",
     "traceback": [
      "\u001b[0;31m---------------------------------------------------------------------------\u001b[0m",
      "\u001b[0;31mNameError\u001b[0m                                 Traceback (most recent call last)",
      "\u001b[0;32m<ipython-input-42-958f674f3ae9>\u001b[0m in \u001b[0;36m<module>\u001b[0;34m\u001b[0m\n\u001b[0;32m----> 1\u001b[0;31m \u001b[0mcompare_na_numbers_per_ethnicity\u001b[0m\u001b[0;34m(\u001b[0m\u001b[0mdf\u001b[0m\u001b[0;34m,\u001b[0m \u001b[0;34m'manner_of_death'\u001b[0m\u001b[0;34m)\u001b[0m\u001b[0;34m\u001b[0m\u001b[0;34m\u001b[0m\u001b[0m\n\u001b[0m",
      "\u001b[0;32m<ipython-input-41-ba48bb3b67b8>\u001b[0m in \u001b[0;36mcompare_na_numbers_per_ethnicity\u001b[0;34m(df, column_name)\u001b[0m\n\u001b[1;32m      1\u001b[0m \u001b[0;32mdef\u001b[0m \u001b[0mcompare_na_numbers_per_ethnicity\u001b[0m\u001b[0;34m(\u001b[0m\u001b[0mdf\u001b[0m\u001b[0;34m,\u001b[0m \u001b[0mcolumn_name\u001b[0m\u001b[0;34m)\u001b[0m\u001b[0;34m:\u001b[0m\u001b[0;34m\u001b[0m\u001b[0;34m\u001b[0m\u001b[0m\n\u001b[0;32m----> 2\u001b[0;31m     \u001b[0mwhite\u001b[0m \u001b[0;34m=\u001b[0m \u001b[0mget_na_numbers_per_race\u001b[0m\u001b[0;34m(\u001b[0m\u001b[0mdf\u001b[0m\u001b[0;34m,\u001b[0m \u001b[0;34m'White'\u001b[0m\u001b[0;34m,\u001b[0m \u001b[0mcolumn_name\u001b[0m\u001b[0;34m)\u001b[0m\u001b[0;34m\u001b[0m\u001b[0;34m\u001b[0m\u001b[0m\n\u001b[0m\u001b[1;32m      3\u001b[0m     \u001b[0mblack\u001b[0m \u001b[0;34m=\u001b[0m \u001b[0mget_na_numbers_per_race\u001b[0m\u001b[0;34m(\u001b[0m\u001b[0mdf\u001b[0m\u001b[0;34m,\u001b[0m \u001b[0;34m'Black'\u001b[0m\u001b[0;34m,\u001b[0m \u001b[0mcolumn_name\u001b[0m\u001b[0;34m)\u001b[0m\u001b[0;34m\u001b[0m\u001b[0;34m\u001b[0m\u001b[0m\n\u001b[1;32m      4\u001b[0m     \u001b[0mhispanic\u001b[0m \u001b[0;34m=\u001b[0m \u001b[0mget_na_numbers_per_race\u001b[0m\u001b[0;34m(\u001b[0m\u001b[0mdf\u001b[0m\u001b[0;34m,\u001b[0m \u001b[0;34m'Hispanic'\u001b[0m\u001b[0;34m,\u001b[0m \u001b[0mcolumn_name\u001b[0m\u001b[0;34m)\u001b[0m\u001b[0;34m\u001b[0m\u001b[0;34m\u001b[0m\u001b[0m\n\u001b[1;32m      5\u001b[0m     \u001b[0mother\u001b[0m \u001b[0;34m=\u001b[0m \u001b[0mget_na_numbers_per_race\u001b[0m\u001b[0;34m(\u001b[0m\u001b[0mdf\u001b[0m\u001b[0;34m,\u001b[0m \u001b[0;34m'Other'\u001b[0m\u001b[0;34m,\u001b[0m \u001b[0mcolumn_name\u001b[0m\u001b[0;34m)\u001b[0m\u001b[0;34m\u001b[0m\u001b[0;34m\u001b[0m\u001b[0m\n",
      "\u001b[0;31mNameError\u001b[0m: name 'get_na_numbers_per_race' is not defined"
     ]
    }
   ],
   "source": [
    "compare_na_numbers_per_ethnicity(df, 'manner_of_death')"
   ]
  },
  {
   "cell_type": "code",
   "execution_count": 317,
   "metadata": {},
   "outputs": [
    {
     "name": "stdout",
     "output_type": "stream",
     "text": [
      "The number of N/A records for the column icd_code_10th_revision are 0.0 for white, 0.0 for black, 0.0 for hispanic, 0.0 for other races\n"
     ]
    },
    {
     "name": "stderr",
     "output_type": "stream",
     "text": [
      "<ipython-input-150-b9690ea48c66>:3: UserWarning: Boolean Series key will be reindexed to match DataFrame index.\n",
      "  na_ethnicity = df_ethnicity[df[column_name] == 'Not Available']\n"
     ]
    }
   ],
   "source": [
    "compare_na_numbers_per_ethnicity(df, 'icd_code_10th_revision')"
   ]
  },
  {
   "cell_type": "code",
   "execution_count": 318,
   "metadata": {},
   "outputs": [],
   "source": [
    "# Finish missing values analysis"
   ]
  },
  {
   "cell_type": "markdown",
   "metadata": {},
   "source": [
    "-----"
   ]
  },
  {
   "cell_type": "markdown",
   "metadata": {},
   "source": [
    "# What's the most common icd causes of death among each race?  Does this change when we include/exclude hispanics?"
   ]
  },
  {
   "cell_type": "code",
   "execution_count": 319,
   "metadata": {},
   "outputs": [],
   "source": [
    "def most_common_icd_10_code(df):\n",
    "    icd_causes_of_death_by_ethnicity = df.groupby([\"ethnicity\", \"icd_code_10th_revision\"]).size().to_frame().reset_index()\n",
    "    icd_causes_of_death_by_ethnicity = icd_causes_of_death_by_ethnicity.rename(columns={0:'count'})\n",
    "    icd_causes_of_death_by_ethnicity = icd_causes_of_death_by_ethnicity.sort_values(['ethnicity', 'count'], ascending = (True, False))\n",
    "    icd_causes_of_death_by_ethnicity = icd_causes_of_death_by_ethnicity.groupby('ethnicity').head(5)\n",
    "    return icd_causes_of_death_by_ethnicity"
   ]
  },
  {
   "cell_type": "code",
   "execution_count": 320,
   "metadata": {},
   "outputs": [
    {
     "data": {
      "text/html": [
       "<div>\n",
       "<style scoped>\n",
       "    .dataframe tbody tr th:only-of-type {\n",
       "        vertical-align: middle;\n",
       "    }\n",
       "\n",
       "    .dataframe tbody tr th {\n",
       "        vertical-align: top;\n",
       "    }\n",
       "\n",
       "    .dataframe thead th {\n",
       "        text-align: right;\n",
       "    }\n",
       "</style>\n",
       "<table border=\"1\" class=\"dataframe\">\n",
       "  <thead>\n",
       "    <tr style=\"text-align: right;\">\n",
       "      <th></th>\n",
       "      <th>ethnicity</th>\n",
       "      <th>icd_code_10th_revision</th>\n",
       "      <th>count</th>\n",
       "    </tr>\n",
       "  </thead>\n",
       "  <tbody>\n",
       "    <tr>\n",
       "      <th>51</th>\n",
       "      <td>Black</td>\n",
       "      <td>O268</td>\n",
       "      <td>387</td>\n",
       "    </tr>\n",
       "    <tr>\n",
       "      <th>119</th>\n",
       "      <td>Black</td>\n",
       "      <td>O998</td>\n",
       "      <td>196</td>\n",
       "    </tr>\n",
       "    <tr>\n",
       "      <th>115</th>\n",
       "      <td>Black</td>\n",
       "      <td>O994</td>\n",
       "      <td>167</td>\n",
       "    </tr>\n",
       "    <tr>\n",
       "      <th>100</th>\n",
       "      <td>Black</td>\n",
       "      <td>O960</td>\n",
       "      <td>159</td>\n",
       "    </tr>\n",
       "    <tr>\n",
       "      <th>95</th>\n",
       "      <td>Black</td>\n",
       "      <td>O903</td>\n",
       "      <td>151</td>\n",
       "    </tr>\n",
       "    <tr>\n",
       "      <th>159</th>\n",
       "      <td>Hispanic</td>\n",
       "      <td>O268</td>\n",
       "      <td>177</td>\n",
       "    </tr>\n",
       "    <tr>\n",
       "      <th>194</th>\n",
       "      <td>Hispanic</td>\n",
       "      <td>O96</td>\n",
       "      <td>122</td>\n",
       "    </tr>\n",
       "    <tr>\n",
       "      <th>210</th>\n",
       "      <td>Hispanic</td>\n",
       "      <td>O998</td>\n",
       "      <td>107</td>\n",
       "    </tr>\n",
       "    <tr>\n",
       "      <th>196</th>\n",
       "      <td>Hispanic</td>\n",
       "      <td>O961</td>\n",
       "      <td>105</td>\n",
       "    </tr>\n",
       "    <tr>\n",
       "      <th>195</th>\n",
       "      <td>Hispanic</td>\n",
       "      <td>O960</td>\n",
       "      <td>98</td>\n",
       "    </tr>\n",
       "    <tr>\n",
       "      <th>232</th>\n",
       "      <td>Other</td>\n",
       "      <td>O268</td>\n",
       "      <td>64</td>\n",
       "    </tr>\n",
       "    <tr>\n",
       "      <th>275</th>\n",
       "      <td>Other</td>\n",
       "      <td>O998</td>\n",
       "      <td>39</td>\n",
       "    </tr>\n",
       "    <tr>\n",
       "      <th>262</th>\n",
       "      <td>Other</td>\n",
       "      <td>O960</td>\n",
       "      <td>36</td>\n",
       "    </tr>\n",
       "    <tr>\n",
       "      <th>263</th>\n",
       "      <td>Other</td>\n",
       "      <td>O961</td>\n",
       "      <td>28</td>\n",
       "    </tr>\n",
       "    <tr>\n",
       "      <th>273</th>\n",
       "      <td>Other</td>\n",
       "      <td>O994</td>\n",
       "      <td>25</td>\n",
       "    </tr>\n",
       "    <tr>\n",
       "      <th>319</th>\n",
       "      <td>White</td>\n",
       "      <td>O268</td>\n",
       "      <td>599</td>\n",
       "    </tr>\n",
       "    <tr>\n",
       "      <th>392</th>\n",
       "      <td>White</td>\n",
       "      <td>O998</td>\n",
       "      <td>494</td>\n",
       "    </tr>\n",
       "    <tr>\n",
       "      <th>372</th>\n",
       "      <td>White</td>\n",
       "      <td>O961</td>\n",
       "      <td>322</td>\n",
       "    </tr>\n",
       "    <tr>\n",
       "      <th>388</th>\n",
       "      <td>White</td>\n",
       "      <td>O994</td>\n",
       "      <td>220</td>\n",
       "    </tr>\n",
       "    <tr>\n",
       "      <th>371</th>\n",
       "      <td>White</td>\n",
       "      <td>O960</td>\n",
       "      <td>201</td>\n",
       "    </tr>\n",
       "  </tbody>\n",
       "</table>\n",
       "</div>"
      ],
      "text/plain": [
       "    ethnicity icd_code_10th_revision  count\n",
       "51      Black                   O268    387\n",
       "119     Black                   O998    196\n",
       "115     Black                   O994    167\n",
       "100     Black                   O960    159\n",
       "95      Black                   O903    151\n",
       "159  Hispanic                   O268    177\n",
       "194  Hispanic                    O96    122\n",
       "210  Hispanic                   O998    107\n",
       "196  Hispanic                   O961    105\n",
       "195  Hispanic                   O960     98\n",
       "232     Other                   O268     64\n",
       "275     Other                   O998     39\n",
       "262     Other                   O960     36\n",
       "263     Other                   O961     28\n",
       "273     Other                   O994     25\n",
       "319     White                   O268    599\n",
       "392     White                   O998    494\n",
       "372     White                   O961    322\n",
       "388     White                   O994    220\n",
       "371     White                   O960    201"
      ]
     },
     "execution_count": 320,
     "metadata": {},
     "output_type": "execute_result"
    }
   ],
   "source": [
    "most_common_icd_10_code(df)"
   ]
  },
  {
   "cell_type": "code",
   "execution_count": 321,
   "metadata": {},
   "outputs": [],
   "source": [
    "df_eclampsia = df[df['358_causes_of_death'] == 'Eclampsia and pre-eclampsia']"
   ]
  },
  {
   "cell_type": "code",
   "execution_count": 322,
   "metadata": {
    "scrolled": true
   },
   "outputs": [
    {
     "data": {
      "text/html": [
       "<div>\n",
       "<style scoped>\n",
       "    .dataframe tbody tr th:only-of-type {\n",
       "        vertical-align: middle;\n",
       "    }\n",
       "\n",
       "    .dataframe tbody tr th {\n",
       "        vertical-align: top;\n",
       "    }\n",
       "\n",
       "    .dataframe thead th {\n",
       "        text-align: right;\n",
       "    }\n",
       "</style>\n",
       "<table border=\"1\" class=\"dataframe\">\n",
       "  <thead>\n",
       "    <tr style=\"text-align: right;\">\n",
       "      <th></th>\n",
       "      <th>ethnicity</th>\n",
       "      <th>icd_code_10th_revision</th>\n",
       "      <th>count</th>\n",
       "    </tr>\n",
       "  </thead>\n",
       "  <tbody>\n",
       "    <tr>\n",
       "      <th>9</th>\n",
       "      <td>Black</td>\n",
       "      <td>O16</td>\n",
       "      <td>42</td>\n",
       "    </tr>\n",
       "    <tr>\n",
       "      <th>5</th>\n",
       "      <td>Black</td>\n",
       "      <td>O149</td>\n",
       "      <td>38</td>\n",
       "    </tr>\n",
       "    <tr>\n",
       "      <th>8</th>\n",
       "      <td>Black</td>\n",
       "      <td>O159</td>\n",
       "      <td>33</td>\n",
       "    </tr>\n",
       "    <tr>\n",
       "      <th>4</th>\n",
       "      <td>Black</td>\n",
       "      <td>O142</td>\n",
       "      <td>10</td>\n",
       "    </tr>\n",
       "    <tr>\n",
       "      <th>3</th>\n",
       "      <td>Black</td>\n",
       "      <td>O141</td>\n",
       "      <td>6</td>\n",
       "    </tr>\n",
       "    <tr>\n",
       "      <th>14</th>\n",
       "      <td>Hispanic</td>\n",
       "      <td>O149</td>\n",
       "      <td>13</td>\n",
       "    </tr>\n",
       "    <tr>\n",
       "      <th>16</th>\n",
       "      <td>Hispanic</td>\n",
       "      <td>O159</td>\n",
       "      <td>13</td>\n",
       "    </tr>\n",
       "    <tr>\n",
       "      <th>17</th>\n",
       "      <td>Hispanic</td>\n",
       "      <td>O16</td>\n",
       "      <td>7</td>\n",
       "    </tr>\n",
       "    <tr>\n",
       "      <th>13</th>\n",
       "      <td>Hispanic</td>\n",
       "      <td>O142</td>\n",
       "      <td>6</td>\n",
       "    </tr>\n",
       "    <tr>\n",
       "      <th>12</th>\n",
       "      <td>Hispanic</td>\n",
       "      <td>O141</td>\n",
       "      <td>5</td>\n",
       "    </tr>\n",
       "    <tr>\n",
       "      <th>21</th>\n",
       "      <td>Other</td>\n",
       "      <td>O149</td>\n",
       "      <td>5</td>\n",
       "    </tr>\n",
       "    <tr>\n",
       "      <th>22</th>\n",
       "      <td>Other</td>\n",
       "      <td>O159</td>\n",
       "      <td>4</td>\n",
       "    </tr>\n",
       "    <tr>\n",
       "      <th>20</th>\n",
       "      <td>Other</td>\n",
       "      <td>O142</td>\n",
       "      <td>3</td>\n",
       "    </tr>\n",
       "    <tr>\n",
       "      <th>23</th>\n",
       "      <td>Other</td>\n",
       "      <td>O16</td>\n",
       "      <td>3</td>\n",
       "    </tr>\n",
       "    <tr>\n",
       "      <th>18</th>\n",
       "      <td>Other</td>\n",
       "      <td>O11</td>\n",
       "      <td>1</td>\n",
       "    </tr>\n",
       "    <tr>\n",
       "      <th>32</th>\n",
       "      <td>White</td>\n",
       "      <td>O16</td>\n",
       "      <td>31</td>\n",
       "    </tr>\n",
       "    <tr>\n",
       "      <th>28</th>\n",
       "      <td>White</td>\n",
       "      <td>O149</td>\n",
       "      <td>30</td>\n",
       "    </tr>\n",
       "    <tr>\n",
       "      <th>31</th>\n",
       "      <td>White</td>\n",
       "      <td>O159</td>\n",
       "      <td>24</td>\n",
       "    </tr>\n",
       "    <tr>\n",
       "      <th>29</th>\n",
       "      <td>White</td>\n",
       "      <td>O150</td>\n",
       "      <td>13</td>\n",
       "    </tr>\n",
       "    <tr>\n",
       "      <th>27</th>\n",
       "      <td>White</td>\n",
       "      <td>O142</td>\n",
       "      <td>10</td>\n",
       "    </tr>\n",
       "  </tbody>\n",
       "</table>\n",
       "</div>"
      ],
      "text/plain": [
       "   ethnicity icd_code_10th_revision  count\n",
       "9      Black                    O16     42\n",
       "5      Black                   O149     38\n",
       "8      Black                   O159     33\n",
       "4      Black                   O142     10\n",
       "3      Black                   O141      6\n",
       "14  Hispanic                   O149     13\n",
       "16  Hispanic                   O159     13\n",
       "17  Hispanic                    O16      7\n",
       "13  Hispanic                   O142      6\n",
       "12  Hispanic                   O141      5\n",
       "21     Other                   O149      5\n",
       "22     Other                   O159      4\n",
       "20     Other                   O142      3\n",
       "23     Other                    O16      3\n",
       "18     Other                    O11      1\n",
       "32     White                    O16     31\n",
       "28     White                   O149     30\n",
       "31     White                   O159     24\n",
       "29     White                   O150     13\n",
       "27     White                   O142     10"
      ]
     },
     "execution_count": 322,
     "metadata": {},
     "output_type": "execute_result"
    }
   ],
   "source": [
    "most_common_icd_10_code(df_eclampsia)"
   ]
  },
  {
   "cell_type": "markdown",
   "metadata": {},
   "source": [
    "Looking at the most common icd 10 codes per race, we don't see any signifcant trend.  We then decided to take a further look at the women with pre-elampsia and eclampsia, since we noticed in an earlier step that black women seem to die more from it when compared to other races.\n",
    "The number of deaths of Black Women in the top 3 categories is very high, considering that they represent a much smaller part of the population.\n",
    "As pre-elampsia and eclampsia are known high risk factors, maybe some of those deaths could be prevented. "
   ]
  },
  {
   "cell_type": "code",
   "execution_count": 323,
   "metadata": {},
   "outputs": [
    {
     "data": {
      "text/html": [
       "<div>\n",
       "<style scoped>\n",
       "    .dataframe tbody tr th:only-of-type {\n",
       "        vertical-align: middle;\n",
       "    }\n",
       "\n",
       "    .dataframe tbody tr th {\n",
       "        vertical-align: top;\n",
       "    }\n",
       "\n",
       "    .dataframe thead th {\n",
       "        text-align: right;\n",
       "    }\n",
       "</style>\n",
       "<table border=\"1\" class=\"dataframe\">\n",
       "  <thead>\n",
       "    <tr style=\"text-align: right;\">\n",
       "      <th></th>\n",
       "      <th>ethnicity</th>\n",
       "      <th>icd_code_10th_revision</th>\n",
       "      <th>count</th>\n",
       "    </tr>\n",
       "  </thead>\n",
       "  <tbody>\n",
       "    <tr>\n",
       "      <th>51</th>\n",
       "      <td>Black</td>\n",
       "      <td>O268</td>\n",
       "      <td>387</td>\n",
       "    </tr>\n",
       "    <tr>\n",
       "      <th>119</th>\n",
       "      <td>Black</td>\n",
       "      <td>O998</td>\n",
       "      <td>196</td>\n",
       "    </tr>\n",
       "    <tr>\n",
       "      <th>115</th>\n",
       "      <td>Black</td>\n",
       "      <td>O994</td>\n",
       "      <td>167</td>\n",
       "    </tr>\n",
       "    <tr>\n",
       "      <th>100</th>\n",
       "      <td>Black</td>\n",
       "      <td>O960</td>\n",
       "      <td>159</td>\n",
       "    </tr>\n",
       "    <tr>\n",
       "      <th>95</th>\n",
       "      <td>Black</td>\n",
       "      <td>O903</td>\n",
       "      <td>151</td>\n",
       "    </tr>\n",
       "    <tr>\n",
       "      <th>141</th>\n",
       "      <td>Races other than White or Black</td>\n",
       "      <td>O268</td>\n",
       "      <td>64</td>\n",
       "    </tr>\n",
       "    <tr>\n",
       "      <th>184</th>\n",
       "      <td>Races other than White or Black</td>\n",
       "      <td>O998</td>\n",
       "      <td>39</td>\n",
       "    </tr>\n",
       "    <tr>\n",
       "      <th>171</th>\n",
       "      <td>Races other than White or Black</td>\n",
       "      <td>O960</td>\n",
       "      <td>36</td>\n",
       "    </tr>\n",
       "    <tr>\n",
       "      <th>172</th>\n",
       "      <td>Races other than White or Black</td>\n",
       "      <td>O961</td>\n",
       "      <td>28</td>\n",
       "    </tr>\n",
       "    <tr>\n",
       "      <th>182</th>\n",
       "      <td>Races other than White or Black</td>\n",
       "      <td>O994</td>\n",
       "      <td>25</td>\n",
       "    </tr>\n",
       "    <tr>\n",
       "      <th>228</th>\n",
       "      <td>White</td>\n",
       "      <td>O268</td>\n",
       "      <td>599</td>\n",
       "    </tr>\n",
       "    <tr>\n",
       "      <th>301</th>\n",
       "      <td>White</td>\n",
       "      <td>O998</td>\n",
       "      <td>494</td>\n",
       "    </tr>\n",
       "    <tr>\n",
       "      <th>281</th>\n",
       "      <td>White</td>\n",
       "      <td>O961</td>\n",
       "      <td>322</td>\n",
       "    </tr>\n",
       "    <tr>\n",
       "      <th>297</th>\n",
       "      <td>White</td>\n",
       "      <td>O994</td>\n",
       "      <td>220</td>\n",
       "    </tr>\n",
       "    <tr>\n",
       "      <th>280</th>\n",
       "      <td>White</td>\n",
       "      <td>O960</td>\n",
       "      <td>201</td>\n",
       "    </tr>\n",
       "  </tbody>\n",
       "</table>\n",
       "</div>"
      ],
      "text/plain": [
       "                           ethnicity icd_code_10th_revision  count\n",
       "51                             Black                   O268    387\n",
       "119                            Black                   O998    196\n",
       "115                            Black                   O994    167\n",
       "100                            Black                   O960    159\n",
       "95                             Black                   O903    151\n",
       "141  Races other than White or Black                   O268     64\n",
       "184  Races other than White or Black                   O998     39\n",
       "171  Races other than White or Black                   O960     36\n",
       "172  Races other than White or Black                   O961     28\n",
       "182  Races other than White or Black                   O994     25\n",
       "228                            White                   O268    599\n",
       "301                            White                   O998    494\n",
       "281                            White                   O961    322\n",
       "297                            White                   O994    220\n",
       "280                            White                   O960    201"
      ]
     },
     "execution_count": 323,
     "metadata": {},
     "output_type": "execute_result"
    }
   ],
   "source": [
    "most_common_icd_10_code(df_non_hispanic)"
   ]
  },
  {
   "cell_type": "code",
   "execution_count": 324,
   "metadata": {},
   "outputs": [],
   "source": [
    "df_eclampsia_non_hispanic = df[(df['358_causes_of_death'] == 'Eclampsia and pre-eclampsia') & (df[\"hispanic_origin\"] == \"Non – Hispanic\")]"
   ]
  },
  {
   "cell_type": "code",
   "execution_count": 325,
   "metadata": {},
   "outputs": [
    {
     "data": {
      "text/html": [
       "<div>\n",
       "<style scoped>\n",
       "    .dataframe tbody tr th:only-of-type {\n",
       "        vertical-align: middle;\n",
       "    }\n",
       "\n",
       "    .dataframe tbody tr th {\n",
       "        vertical-align: top;\n",
       "    }\n",
       "\n",
       "    .dataframe thead th {\n",
       "        text-align: right;\n",
       "    }\n",
       "</style>\n",
       "<table border=\"1\" class=\"dataframe\">\n",
       "  <thead>\n",
       "    <tr style=\"text-align: right;\">\n",
       "      <th></th>\n",
       "      <th>resident_status</th>\n",
       "      <th>level_of_education</th>\n",
       "      <th>month_of_death</th>\n",
       "      <th>age</th>\n",
       "      <th>place_of_death_patient_status</th>\n",
       "      <th>marital_status</th>\n",
       "      <th>day_of_week_of_death</th>\n",
       "      <th>year_data_collected</th>\n",
       "      <th>manner_of_death</th>\n",
       "      <th>was_autopsy_done</th>\n",
       "      <th>place_of_injury_for_icd_w00_y34_except_y06_and_y07_</th>\n",
       "      <th>icd_code_10th_revision</th>\n",
       "      <th>358_causes_of_death</th>\n",
       "      <th>113_causes_of_death</th>\n",
       "      <th>130_causes_of_infant_death</th>\n",
       "      <th>39_cause_recode</th>\n",
       "      <th>number_of_entity_axis_conditions</th>\n",
       "      <th>entity_condition_1</th>\n",
       "      <th>entity_condition_2</th>\n",
       "      <th>entity_condition_3</th>\n",
       "      <th>number_of_record_axis_conditions</th>\n",
       "      <th>record_condition_1</th>\n",
       "      <th>record_condition_2</th>\n",
       "      <th>record_condition_3</th>\n",
       "      <th>race</th>\n",
       "      <th>race_recode_3</th>\n",
       "      <th>race_recode_5</th>\n",
       "      <th>hispanic_origin</th>\n",
       "      <th>hispanic_originrace_recode</th>\n",
       "      <th>ethnicity</th>\n",
       "    </tr>\n",
       "  </thead>\n",
       "  <tbody>\n",
       "    <tr>\n",
       "      <th>7</th>\n",
       "      <td>RESIDENTS</td>\n",
       "      <td>Not Available</td>\n",
       "      <td>October</td>\n",
       "      <td>38</td>\n",
       "      <td>Hospital, clinic or Medical Center</td>\n",
       "      <td>Never married, Single</td>\n",
       "      <td>Saturday</td>\n",
       "      <td>2015</td>\n",
       "      <td>Could not determine</td>\n",
       "      <td>Yes</td>\n",
       "      <td>Not Available</td>\n",
       "      <td>O16</td>\n",
       "      <td>Eclampsia and pre-eclampsia</td>\n",
       "      <td>Other complications of pregnancy, childbirth a...</td>\n",
       "      <td>Not Available</td>\n",
       "      <td>Pregnancy, childbirth and the puerperium</td>\n",
       "      <td>4</td>\n",
       "      <td>11O268</td>\n",
       "      <td>21O992</td>\n",
       "      <td>31O998</td>\n",
       "      <td>2</td>\n",
       "      <td>O16</td>\n",
       "      <td>O268</td>\n",
       "      <td>Not Available</td>\n",
       "      <td>Black</td>\n",
       "      <td>Black</td>\n",
       "      <td>Black</td>\n",
       "      <td>Non – Hispanic</td>\n",
       "      <td>Non - Hispanic black</td>\n",
       "      <td>Black</td>\n",
       "    </tr>\n",
       "    <tr>\n",
       "      <th>19</th>\n",
       "      <td>RESIDENTS</td>\n",
       "      <td>4.0</td>\n",
       "      <td>September</td>\n",
       "      <td>26</td>\n",
       "      <td>Hospital, clinic or Medical Center</td>\n",
       "      <td>Never married, Single</td>\n",
       "      <td>Sunday</td>\n",
       "      <td>2015</td>\n",
       "      <td>Natural</td>\n",
       "      <td>No</td>\n",
       "      <td>Not Available</td>\n",
       "      <td>O150</td>\n",
       "      <td>Eclampsia and pre-eclampsia</td>\n",
       "      <td>Other complications of pregnancy, childbirth a...</td>\n",
       "      <td>Not Available</td>\n",
       "      <td>Pregnancy, childbirth and the puerperium</td>\n",
       "      <td>2</td>\n",
       "      <td>11O159</td>\n",
       "      <td>21O16</td>\n",
       "      <td>Not Available</td>\n",
       "      <td>3</td>\n",
       "      <td>O150</td>\n",
       "      <td>O159</td>\n",
       "      <td>O16</td>\n",
       "      <td>White</td>\n",
       "      <td>White</td>\n",
       "      <td>White</td>\n",
       "      <td>Non – Hispanic</td>\n",
       "      <td>Non - Hispanic white</td>\n",
       "      <td>White</td>\n",
       "    </tr>\n",
       "    <tr>\n",
       "      <th>24</th>\n",
       "      <td>RESIDENTS</td>\n",
       "      <td>3.0</td>\n",
       "      <td>January</td>\n",
       "      <td>39</td>\n",
       "      <td>Hospital, clinic or Medical Center</td>\n",
       "      <td>Never married, Single</td>\n",
       "      <td>Thursday</td>\n",
       "      <td>2015</td>\n",
       "      <td>Natural</td>\n",
       "      <td>Yes</td>\n",
       "      <td>Not Available</td>\n",
       "      <td>O159</td>\n",
       "      <td>Eclampsia and pre-eclampsia</td>\n",
       "      <td>Other complications of pregnancy, childbirth a...</td>\n",
       "      <td>Not Available</td>\n",
       "      <td>Pregnancy, childbirth and the puerperium</td>\n",
       "      <td>1</td>\n",
       "      <td>11O159</td>\n",
       "      <td>Not Available</td>\n",
       "      <td>Not Available</td>\n",
       "      <td>1</td>\n",
       "      <td>O159</td>\n",
       "      <td>Not Available</td>\n",
       "      <td>Not Available</td>\n",
       "      <td>Black</td>\n",
       "      <td>Black</td>\n",
       "      <td>Black</td>\n",
       "      <td>Non – Hispanic</td>\n",
       "      <td>Non - Hispanic black</td>\n",
       "      <td>Black</td>\n",
       "    </tr>\n",
       "    <tr>\n",
       "      <th>26</th>\n",
       "      <td>RESIDENTS</td>\n",
       "      <td>5.0</td>\n",
       "      <td>January</td>\n",
       "      <td>36</td>\n",
       "      <td>Hospital, clinic or Medical Center</td>\n",
       "      <td>Married</td>\n",
       "      <td>Friday</td>\n",
       "      <td>2015</td>\n",
       "      <td>Natural</td>\n",
       "      <td>Yes</td>\n",
       "      <td>Not Available</td>\n",
       "      <td>O149</td>\n",
       "      <td>Eclampsia and pre-eclampsia</td>\n",
       "      <td>Other complications of pregnancy, childbirth a...</td>\n",
       "      <td>Not Available</td>\n",
       "      <td>Pregnancy, childbirth and the puerperium</td>\n",
       "      <td>6</td>\n",
       "      <td>11O268</td>\n",
       "      <td>21O998</td>\n",
       "      <td>31O759</td>\n",
       "      <td>3</td>\n",
       "      <td>O149</td>\n",
       "      <td>O249</td>\n",
       "      <td>O268</td>\n",
       "      <td>White</td>\n",
       "      <td>White</td>\n",
       "      <td>White</td>\n",
       "      <td>Non – Hispanic</td>\n",
       "      <td>Non - Hispanic white</td>\n",
       "      <td>White</td>\n",
       "    </tr>\n",
       "    <tr>\n",
       "      <th>31</th>\n",
       "      <td>RESIDENTS</td>\n",
       "      <td>no education item on certificate</td>\n",
       "      <td>April</td>\n",
       "      <td>29</td>\n",
       "      <td>Hospital, clinic or Medical Center</td>\n",
       "      <td>Never married, Single</td>\n",
       "      <td>Sunday</td>\n",
       "      <td>2015</td>\n",
       "      <td>Natural</td>\n",
       "      <td>Yes</td>\n",
       "      <td>Not Available</td>\n",
       "      <td>O16</td>\n",
       "      <td>Eclampsia and pre-eclampsia</td>\n",
       "      <td>Other complications of pregnancy, childbirth a...</td>\n",
       "      <td>Not Available</td>\n",
       "      <td>Pregnancy, childbirth and the puerperium</td>\n",
       "      <td>1</td>\n",
       "      <td>11O16</td>\n",
       "      <td>Not Available</td>\n",
       "      <td>Not Available</td>\n",
       "      <td>1</td>\n",
       "      <td>O16</td>\n",
       "      <td>Not Available</td>\n",
       "      <td>Not Available</td>\n",
       "      <td>American Indian (includes Aleuts and Eskimos)</td>\n",
       "      <td>Races other than White or Black</td>\n",
       "      <td>American Indian</td>\n",
       "      <td>Non – Hispanic</td>\n",
       "      <td>Non - Hispanic other races</td>\n",
       "      <td>Other</td>\n",
       "    </tr>\n",
       "    <tr>\n",
       "      <th>...</th>\n",
       "      <td>...</td>\n",
       "      <td>...</td>\n",
       "      <td>...</td>\n",
       "      <td>...</td>\n",
       "      <td>...</td>\n",
       "      <td>...</td>\n",
       "      <td>...</td>\n",
       "      <td>...</td>\n",
       "      <td>...</td>\n",
       "      <td>...</td>\n",
       "      <td>...</td>\n",
       "      <td>...</td>\n",
       "      <td>...</td>\n",
       "      <td>...</td>\n",
       "      <td>...</td>\n",
       "      <td>...</td>\n",
       "      <td>...</td>\n",
       "      <td>...</td>\n",
       "      <td>...</td>\n",
       "      <td>...</td>\n",
       "      <td>...</td>\n",
       "      <td>...</td>\n",
       "      <td>...</td>\n",
       "      <td>...</td>\n",
       "      <td>...</td>\n",
       "      <td>...</td>\n",
       "      <td>...</td>\n",
       "      <td>...</td>\n",
       "      <td>...</td>\n",
       "      <td>...</td>\n",
       "    </tr>\n",
       "    <tr>\n",
       "      <th>7064</th>\n",
       "      <td>RESIDENTS</td>\n",
       "      <td>6.0</td>\n",
       "      <td>July</td>\n",
       "      <td>37</td>\n",
       "      <td>Hospital, clinic or Medical Center</td>\n",
       "      <td>Married</td>\n",
       "      <td>Sunday</td>\n",
       "      <td>2009</td>\n",
       "      <td>Natural</td>\n",
       "      <td>No</td>\n",
       "      <td>Not Available</td>\n",
       "      <td>O149</td>\n",
       "      <td>Eclampsia and pre-eclampsia</td>\n",
       "      <td>Other complications of pregnancy, childbirth a...</td>\n",
       "      <td>Not Available</td>\n",
       "      <td>Pregnancy, childbirth and the puerperium</td>\n",
       "      <td>3</td>\n",
       "      <td>11O994</td>\n",
       "      <td>21O994</td>\n",
       "      <td>31O149</td>\n",
       "      <td>1</td>\n",
       "      <td>O149</td>\n",
       "      <td>Not Available</td>\n",
       "      <td>Not Available</td>\n",
       "      <td>White</td>\n",
       "      <td>White</td>\n",
       "      <td>White</td>\n",
       "      <td>Non – Hispanic</td>\n",
       "      <td>Non - Hispanic white</td>\n",
       "      <td>White</td>\n",
       "    </tr>\n",
       "    <tr>\n",
       "      <th>7075</th>\n",
       "      <td>RESIDENTS</td>\n",
       "      <td>Not Available</td>\n",
       "      <td>May</td>\n",
       "      <td>35</td>\n",
       "      <td>Hospital, clinic or Medical Center</td>\n",
       "      <td>Married</td>\n",
       "      <td>Thursday</td>\n",
       "      <td>2009</td>\n",
       "      <td>Natural</td>\n",
       "      <td>Yes</td>\n",
       "      <td>Not Available</td>\n",
       "      <td>O149</td>\n",
       "      <td>Eclampsia and pre-eclampsia</td>\n",
       "      <td>Other complications of pregnancy, childbirth a...</td>\n",
       "      <td>Not Available</td>\n",
       "      <td>Pregnancy, childbirth and the puerperium</td>\n",
       "      <td>3</td>\n",
       "      <td>11O149</td>\n",
       "      <td>61O249</td>\n",
       "      <td>62O992</td>\n",
       "      <td>2</td>\n",
       "      <td>O149</td>\n",
       "      <td>O249</td>\n",
       "      <td>Not Available</td>\n",
       "      <td>White</td>\n",
       "      <td>White</td>\n",
       "      <td>White</td>\n",
       "      <td>Non – Hispanic</td>\n",
       "      <td>Non - Hispanic white</td>\n",
       "      <td>White</td>\n",
       "    </tr>\n",
       "    <tr>\n",
       "      <th>7084</th>\n",
       "      <td>INTRASTATE NONRESIDENTS</td>\n",
       "      <td>Not Available</td>\n",
       "      <td>August</td>\n",
       "      <td>20</td>\n",
       "      <td>Hospital, clinic or Medical Center</td>\n",
       "      <td>Never married, Single</td>\n",
       "      <td>Saturday</td>\n",
       "      <td>2009</td>\n",
       "      <td>Natural</td>\n",
       "      <td>Yes</td>\n",
       "      <td>Not Available</td>\n",
       "      <td>O141</td>\n",
       "      <td>Eclampsia and pre-eclampsia</td>\n",
       "      <td>Other complications of pregnancy, childbirth a...</td>\n",
       "      <td>Not Available</td>\n",
       "      <td>Pregnancy, childbirth and the puerperium</td>\n",
       "      <td>5</td>\n",
       "      <td>11O991</td>\n",
       "      <td>21O998</td>\n",
       "      <td>31O141</td>\n",
       "      <td>2</td>\n",
       "      <td>O141</td>\n",
       "      <td>O903</td>\n",
       "      <td>Not Available</td>\n",
       "      <td>White</td>\n",
       "      <td>White</td>\n",
       "      <td>White</td>\n",
       "      <td>Non – Hispanic</td>\n",
       "      <td>Non - Hispanic white</td>\n",
       "      <td>White</td>\n",
       "    </tr>\n",
       "    <tr>\n",
       "      <th>7115</th>\n",
       "      <td>INTRASTATE NONRESIDENTS</td>\n",
       "      <td>3.0</td>\n",
       "      <td>June</td>\n",
       "      <td>25</td>\n",
       "      <td>Hospital, clinic or Medical Center</td>\n",
       "      <td>Never married, Single</td>\n",
       "      <td>Tuesday</td>\n",
       "      <td>2009</td>\n",
       "      <td>Natural</td>\n",
       "      <td>Yes</td>\n",
       "      <td>Not Available</td>\n",
       "      <td>O11</td>\n",
       "      <td>Eclampsia and pre-eclampsia</td>\n",
       "      <td>Other complications of pregnancy, childbirth a...</td>\n",
       "      <td>Not Available</td>\n",
       "      <td>Pregnancy, childbirth and the puerperium</td>\n",
       "      <td>4</td>\n",
       "      <td>11O995</td>\n",
       "      <td>61O149</td>\n",
       "      <td>62O101</td>\n",
       "      <td>1</td>\n",
       "      <td>O11</td>\n",
       "      <td>Not Available</td>\n",
       "      <td>Not Available</td>\n",
       "      <td>Black</td>\n",
       "      <td>Black</td>\n",
       "      <td>Black</td>\n",
       "      <td>Non – Hispanic</td>\n",
       "      <td>Non - Hispanic black</td>\n",
       "      <td>Black</td>\n",
       "    </tr>\n",
       "    <tr>\n",
       "      <th>7130</th>\n",
       "      <td>RESIDENTS</td>\n",
       "      <td>4.0</td>\n",
       "      <td>October</td>\n",
       "      <td>27</td>\n",
       "      <td>Hospital, clinic or Medical Center</td>\n",
       "      <td>Married</td>\n",
       "      <td>Thursday</td>\n",
       "      <td>2009</td>\n",
       "      <td>Natural</td>\n",
       "      <td>No</td>\n",
       "      <td>Not Available</td>\n",
       "      <td>O149</td>\n",
       "      <td>Eclampsia and pre-eclampsia</td>\n",
       "      <td>Other complications of pregnancy, childbirth a...</td>\n",
       "      <td>Not Available</td>\n",
       "      <td>Pregnancy, childbirth and the puerperium</td>\n",
       "      <td>2</td>\n",
       "      <td>11O149</td>\n",
       "      <td>12O759</td>\n",
       "      <td>Not Available</td>\n",
       "      <td>1</td>\n",
       "      <td>O149</td>\n",
       "      <td>Not Available</td>\n",
       "      <td>Not Available</td>\n",
       "      <td>Black</td>\n",
       "      <td>Black</td>\n",
       "      <td>Black</td>\n",
       "      <td>Non – Hispanic</td>\n",
       "      <td>Non - Hispanic black</td>\n",
       "      <td>Black</td>\n",
       "    </tr>\n",
       "  </tbody>\n",
       "</table>\n",
       "<p>295 rows × 30 columns</p>\n",
       "</div>"
      ],
      "text/plain": [
       "              resident_status                level_of_education  \\\n",
       "7                   RESIDENTS                     Not Available   \n",
       "19                  RESIDENTS                               4.0   \n",
       "24                  RESIDENTS                               3.0   \n",
       "26                  RESIDENTS                               5.0   \n",
       "31                  RESIDENTS  no education item on certificate   \n",
       "...                       ...                               ...   \n",
       "7064                RESIDENTS                               6.0   \n",
       "7075                RESIDENTS                     Not Available   \n",
       "7084  INTRASTATE NONRESIDENTS                     Not Available   \n",
       "7115  INTRASTATE NONRESIDENTS                               3.0   \n",
       "7130                RESIDENTS                               4.0   \n",
       "\n",
       "     month_of_death  age       place_of_death_patient_status  \\\n",
       "7           October   38  Hospital, clinic or Medical Center   \n",
       "19        September   26  Hospital, clinic or Medical Center   \n",
       "24          January   39  Hospital, clinic or Medical Center   \n",
       "26          January   36  Hospital, clinic or Medical Center   \n",
       "31            April   29  Hospital, clinic or Medical Center   \n",
       "...             ...  ...                                 ...   \n",
       "7064           July   37  Hospital, clinic or Medical Center   \n",
       "7075            May   35  Hospital, clinic or Medical Center   \n",
       "7084         August   20  Hospital, clinic or Medical Center   \n",
       "7115           June   25  Hospital, clinic or Medical Center   \n",
       "7130        October   27  Hospital, clinic or Medical Center   \n",
       "\n",
       "             marital_status day_of_week_of_death  year_data_collected  \\\n",
       "7     Never married, Single             Saturday                 2015   \n",
       "19    Never married, Single               Sunday                 2015   \n",
       "24    Never married, Single             Thursday                 2015   \n",
       "26                  Married               Friday                 2015   \n",
       "31    Never married, Single               Sunday                 2015   \n",
       "...                     ...                  ...                  ...   \n",
       "7064                Married               Sunday                 2009   \n",
       "7075                Married             Thursday                 2009   \n",
       "7084  Never married, Single             Saturday                 2009   \n",
       "7115  Never married, Single              Tuesday                 2009   \n",
       "7130                Married             Thursday                 2009   \n",
       "\n",
       "          manner_of_death was_autopsy_done  \\\n",
       "7     Could not determine              Yes   \n",
       "19                Natural               No   \n",
       "24                Natural              Yes   \n",
       "26                Natural              Yes   \n",
       "31                Natural              Yes   \n",
       "...                   ...              ...   \n",
       "7064              Natural               No   \n",
       "7075              Natural              Yes   \n",
       "7084              Natural              Yes   \n",
       "7115              Natural              Yes   \n",
       "7130              Natural               No   \n",
       "\n",
       "     place_of_injury_for_icd_w00_y34_except_y06_and_y07_  \\\n",
       "7                                         Not Available    \n",
       "19                                        Not Available    \n",
       "24                                        Not Available    \n",
       "26                                        Not Available    \n",
       "31                                        Not Available    \n",
       "...                                                 ...    \n",
       "7064                                      Not Available    \n",
       "7075                                      Not Available    \n",
       "7084                                      Not Available    \n",
       "7115                                      Not Available    \n",
       "7130                                      Not Available    \n",
       "\n",
       "     icd_code_10th_revision          358_causes_of_death  \\\n",
       "7                       O16  Eclampsia and pre-eclampsia   \n",
       "19                     O150  Eclampsia and pre-eclampsia   \n",
       "24                     O159  Eclampsia and pre-eclampsia   \n",
       "26                     O149  Eclampsia and pre-eclampsia   \n",
       "31                      O16  Eclampsia and pre-eclampsia   \n",
       "...                     ...                          ...   \n",
       "7064                   O149  Eclampsia and pre-eclampsia   \n",
       "7075                   O149  Eclampsia and pre-eclampsia   \n",
       "7084                   O141  Eclampsia and pre-eclampsia   \n",
       "7115                    O11  Eclampsia and pre-eclampsia   \n",
       "7130                   O149  Eclampsia and pre-eclampsia   \n",
       "\n",
       "                                    113_causes_of_death  \\\n",
       "7     Other complications of pregnancy, childbirth a...   \n",
       "19    Other complications of pregnancy, childbirth a...   \n",
       "24    Other complications of pregnancy, childbirth a...   \n",
       "26    Other complications of pregnancy, childbirth a...   \n",
       "31    Other complications of pregnancy, childbirth a...   \n",
       "...                                                 ...   \n",
       "7064  Other complications of pregnancy, childbirth a...   \n",
       "7075  Other complications of pregnancy, childbirth a...   \n",
       "7084  Other complications of pregnancy, childbirth a...   \n",
       "7115  Other complications of pregnancy, childbirth a...   \n",
       "7130  Other complications of pregnancy, childbirth a...   \n",
       "\n",
       "     130_causes_of_infant_death                           39_cause_recode  \\\n",
       "7                 Not Available  Pregnancy, childbirth and the puerperium   \n",
       "19                Not Available  Pregnancy, childbirth and the puerperium   \n",
       "24                Not Available  Pregnancy, childbirth and the puerperium   \n",
       "26                Not Available  Pregnancy, childbirth and the puerperium   \n",
       "31                Not Available  Pregnancy, childbirth and the puerperium   \n",
       "...                         ...                                       ...   \n",
       "7064              Not Available  Pregnancy, childbirth and the puerperium   \n",
       "7075              Not Available  Pregnancy, childbirth and the puerperium   \n",
       "7084              Not Available  Pregnancy, childbirth and the puerperium   \n",
       "7115              Not Available  Pregnancy, childbirth and the puerperium   \n",
       "7130              Not Available  Pregnancy, childbirth and the puerperium   \n",
       "\n",
       "      number_of_entity_axis_conditions entity_condition_1 entity_condition_2  \\\n",
       "7                                    4             11O268             21O992   \n",
       "19                                   2             11O159              21O16   \n",
       "24                                   1             11O159      Not Available   \n",
       "26                                   6             11O268             21O998   \n",
       "31                                   1              11O16      Not Available   \n",
       "...                                ...                ...                ...   \n",
       "7064                                 3             11O994             21O994   \n",
       "7075                                 3             11O149             61O249   \n",
       "7084                                 5             11O991             21O998   \n",
       "7115                                 4             11O995             61O149   \n",
       "7130                                 2             11O149             12O759   \n",
       "\n",
       "     entity_condition_3  number_of_record_axis_conditions record_condition_1  \\\n",
       "7                31O998                                 2                O16   \n",
       "19        Not Available                                 3               O150   \n",
       "24        Not Available                                 1               O159   \n",
       "26               31O759                                 3               O149   \n",
       "31        Not Available                                 1                O16   \n",
       "...                 ...                               ...                ...   \n",
       "7064             31O149                                 1               O149   \n",
       "7075             62O992                                 2               O149   \n",
       "7084             31O141                                 2               O141   \n",
       "7115             62O101                                 1                O11   \n",
       "7130      Not Available                                 1               O149   \n",
       "\n",
       "     record_condition_2 record_condition_3  \\\n",
       "7                  O268      Not Available   \n",
       "19                 O159                O16   \n",
       "24        Not Available      Not Available   \n",
       "26                 O249               O268   \n",
       "31        Not Available      Not Available   \n",
       "...                 ...                ...   \n",
       "7064      Not Available      Not Available   \n",
       "7075               O249      Not Available   \n",
       "7084               O903      Not Available   \n",
       "7115      Not Available      Not Available   \n",
       "7130      Not Available      Not Available   \n",
       "\n",
       "                                               race  \\\n",
       "7                                             Black   \n",
       "19                                            White   \n",
       "24                                            Black   \n",
       "26                                            White   \n",
       "31    American Indian (includes Aleuts and Eskimos)   \n",
       "...                                             ...   \n",
       "7064                                          White   \n",
       "7075                                          White   \n",
       "7084                                          White   \n",
       "7115                                          Black   \n",
       "7130                                          Black   \n",
       "\n",
       "                        race_recode_3    race_recode_5 hispanic_origin  \\\n",
       "7                               Black            Black  Non – Hispanic   \n",
       "19                              White            White  Non – Hispanic   \n",
       "24                              Black            Black  Non – Hispanic   \n",
       "26                              White            White  Non – Hispanic   \n",
       "31    Races other than White or Black  American Indian  Non – Hispanic   \n",
       "...                               ...              ...             ...   \n",
       "7064                            White            White  Non – Hispanic   \n",
       "7075                            White            White  Non – Hispanic   \n",
       "7084                            White            White  Non – Hispanic   \n",
       "7115                            Black            Black  Non – Hispanic   \n",
       "7130                            Black            Black  Non – Hispanic   \n",
       "\n",
       "      hispanic_originrace_recode ethnicity  \n",
       "7           Non - Hispanic black     Black  \n",
       "19          Non - Hispanic white     White  \n",
       "24          Non - Hispanic black     Black  \n",
       "26          Non - Hispanic white     White  \n",
       "31    Non - Hispanic other races     Other  \n",
       "...                          ...       ...  \n",
       "7064        Non - Hispanic white     White  \n",
       "7075        Non - Hispanic white     White  \n",
       "7084        Non - Hispanic white     White  \n",
       "7115        Non - Hispanic black     Black  \n",
       "7130        Non - Hispanic black     Black  \n",
       "\n",
       "[295 rows x 30 columns]"
      ]
     },
     "execution_count": 325,
     "metadata": {},
     "output_type": "execute_result"
    }
   ],
   "source": [
    "df_eclampsia_non_hispanic"
   ]
  },
  {
   "cell_type": "code",
   "execution_count": 326,
   "metadata": {
    "scrolled": true
   },
   "outputs": [
    {
     "data": {
      "text/html": [
       "<div>\n",
       "<style scoped>\n",
       "    .dataframe tbody tr th:only-of-type {\n",
       "        vertical-align: middle;\n",
       "    }\n",
       "\n",
       "    .dataframe tbody tr th {\n",
       "        vertical-align: top;\n",
       "    }\n",
       "\n",
       "    .dataframe thead th {\n",
       "        text-align: right;\n",
       "    }\n",
       "</style>\n",
       "<table border=\"1\" class=\"dataframe\">\n",
       "  <thead>\n",
       "    <tr style=\"text-align: right;\">\n",
       "      <th></th>\n",
       "      <th>ethnicity</th>\n",
       "      <th>icd_code_10th_revision</th>\n",
       "      <th>count</th>\n",
       "    </tr>\n",
       "  </thead>\n",
       "  <tbody>\n",
       "    <tr>\n",
       "      <th>9</th>\n",
       "      <td>Black</td>\n",
       "      <td>O16</td>\n",
       "      <td>42</td>\n",
       "    </tr>\n",
       "    <tr>\n",
       "      <th>5</th>\n",
       "      <td>Black</td>\n",
       "      <td>O149</td>\n",
       "      <td>38</td>\n",
       "    </tr>\n",
       "    <tr>\n",
       "      <th>8</th>\n",
       "      <td>Black</td>\n",
       "      <td>O159</td>\n",
       "      <td>33</td>\n",
       "    </tr>\n",
       "    <tr>\n",
       "      <th>4</th>\n",
       "      <td>Black</td>\n",
       "      <td>O142</td>\n",
       "      <td>10</td>\n",
       "    </tr>\n",
       "    <tr>\n",
       "      <th>3</th>\n",
       "      <td>Black</td>\n",
       "      <td>O141</td>\n",
       "      <td>6</td>\n",
       "    </tr>\n",
       "    <tr>\n",
       "      <th>13</th>\n",
       "      <td>Other</td>\n",
       "      <td>O149</td>\n",
       "      <td>5</td>\n",
       "    </tr>\n",
       "    <tr>\n",
       "      <th>14</th>\n",
       "      <td>Other</td>\n",
       "      <td>O159</td>\n",
       "      <td>4</td>\n",
       "    </tr>\n",
       "    <tr>\n",
       "      <th>12</th>\n",
       "      <td>Other</td>\n",
       "      <td>O142</td>\n",
       "      <td>3</td>\n",
       "    </tr>\n",
       "    <tr>\n",
       "      <th>15</th>\n",
       "      <td>Other</td>\n",
       "      <td>O16</td>\n",
       "      <td>3</td>\n",
       "    </tr>\n",
       "    <tr>\n",
       "      <th>10</th>\n",
       "      <td>Other</td>\n",
       "      <td>O11</td>\n",
       "      <td>1</td>\n",
       "    </tr>\n",
       "    <tr>\n",
       "      <th>24</th>\n",
       "      <td>White</td>\n",
       "      <td>O16</td>\n",
       "      <td>31</td>\n",
       "    </tr>\n",
       "    <tr>\n",
       "      <th>20</th>\n",
       "      <td>White</td>\n",
       "      <td>O149</td>\n",
       "      <td>30</td>\n",
       "    </tr>\n",
       "    <tr>\n",
       "      <th>23</th>\n",
       "      <td>White</td>\n",
       "      <td>O159</td>\n",
       "      <td>24</td>\n",
       "    </tr>\n",
       "    <tr>\n",
       "      <th>21</th>\n",
       "      <td>White</td>\n",
       "      <td>O150</td>\n",
       "      <td>13</td>\n",
       "    </tr>\n",
       "    <tr>\n",
       "      <th>19</th>\n",
       "      <td>White</td>\n",
       "      <td>O142</td>\n",
       "      <td>10</td>\n",
       "    </tr>\n",
       "  </tbody>\n",
       "</table>\n",
       "</div>"
      ],
      "text/plain": [
       "   ethnicity icd_code_10th_revision  count\n",
       "9      Black                    O16     42\n",
       "5      Black                   O149     38\n",
       "8      Black                   O159     33\n",
       "4      Black                   O142     10\n",
       "3      Black                   O141      6\n",
       "13     Other                   O149      5\n",
       "14     Other                   O159      4\n",
       "12     Other                   O142      3\n",
       "15     Other                    O16      3\n",
       "10     Other                    O11      1\n",
       "24     White                    O16     31\n",
       "20     White                   O149     30\n",
       "23     White                   O159     24\n",
       "21     White                   O150     13\n",
       "19     White                   O142     10"
      ]
     },
     "execution_count": 326,
     "metadata": {},
     "output_type": "execute_result"
    }
   ],
   "source": [
    "most_common_icd_10_code(df_eclampsia_non_hispanic)"
   ]
  },
  {
   "cell_type": "markdown",
   "metadata": {},
   "source": [
    "---"
   ]
  },
  {
   "cell_type": "code",
   "execution_count": 327,
   "metadata": {
    "scrolled": true
   },
   "outputs": [
    {
     "data": {
      "text/plain": [
       "count     7135\n",
       "unique      10\n",
       "top        3.0\n",
       "freq      2381\n",
       "Name: level_of_education, dtype: object"
      ]
     },
     "execution_count": 327,
     "metadata": {},
     "output_type": "execute_result"
    }
   ],
   "source": [
    "df['level_of_education'].describe()"
   ]
  },
  {
   "cell_type": "code",
   "execution_count": 328,
   "metadata": {},
   "outputs": [
    {
     "data": {
      "text/plain": [
       "array(['3.0', '9.0', '6.0', 'no education item on certificate', '5.0',\n",
       "       '4.0', '7.0', '2003 revision of education item on certificate',\n",
       "       '8.0', 'Not Available'], dtype=object)"
      ]
     },
     "execution_count": 328,
     "metadata": {},
     "output_type": "execute_result"
    }
   ],
   "source": [
    "df['level_of_education'].unique()"
   ]
  }
 ],
 "metadata": {
  "kernelspec": {
   "display_name": "Python 3",
   "language": "python",
   "name": "python3"
  },
  "language_info": {
   "codemirror_mode": {
    "name": "ipython",
    "version": 3
   },
   "file_extension": ".py",
   "mimetype": "text/x-python",
   "name": "python",
   "nbconvert_exporter": "python",
   "pygments_lexer": "ipython3",
   "version": "3.8.8"
  },
  "varInspector": {
   "cols": {
    "lenName": 16,
    "lenType": 16,
    "lenVar": 40
   },
   "kernels_config": {
    "python": {
     "delete_cmd_postfix": "",
     "delete_cmd_prefix": "del ",
     "library": "var_list.py",
     "varRefreshCmd": "print(var_dic_list())"
    },
    "r": {
     "delete_cmd_postfix": ") ",
     "delete_cmd_prefix": "rm(",
     "library": "var_list.r",
     "varRefreshCmd": "cat(var_dic_list()) "
    }
   },
   "types_to_exclude": [
    "module",
    "function",
    "builtin_function_or_method",
    "instance",
    "_Feature"
   ],
   "window_display": false
  }
 },
 "nbformat": 4,
 "nbformat_minor": 4
}
