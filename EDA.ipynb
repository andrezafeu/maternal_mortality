{
 "cells": [
  {
   "cell_type": "code",
   "execution_count": 142,
   "metadata": {},
   "outputs": [],
   "source": [
    "import pandas as pd\n",
    "import seaborn as sns"
   ]
  },
  {
   "cell_type": "code",
   "execution_count": 143,
   "metadata": {},
   "outputs": [],
   "source": [
    "pd.set_option(\"max_columns\", 80)"
   ]
  },
  {
   "cell_type": "code",
   "execution_count": 144,
   "metadata": {},
   "outputs": [],
   "source": [
    "df = pd.read_csv('data/interim_data/cdc_data_cleaned.csv')"
   ]
  },
  {
   "cell_type": "code",
   "execution_count": 145,
   "metadata": {},
   "outputs": [],
   "source": [
    "# Link to Census Data\n",
    "\n",
    "#def read_csv_from_dropbox(dropbox_link):\n",
    "    #path = dropbox_link[0:-1] + \"1\"\n",
    "    #df = pd.read_csv(path)\n",
    "    #return df\n",
    "# df_census = read_csv_from_dropbox ('https://www.dropbox.com/s/pmxyfcyw5r5m3vf/Census%20Population%20Data.csv?dl=0')"
   ]
  },
  {
   "cell_type": "code",
   "execution_count": 146,
   "metadata": {},
   "outputs": [
    {
     "data": {
      "text/html": [
       "<div>\n",
       "<style scoped>\n",
       "    .dataframe tbody tr th:only-of-type {\n",
       "        vertical-align: middle;\n",
       "    }\n",
       "\n",
       "    .dataframe tbody tr th {\n",
       "        vertical-align: top;\n",
       "    }\n",
       "\n",
       "    .dataframe thead th {\n",
       "        text-align: right;\n",
       "    }\n",
       "</style>\n",
       "<table border=\"1\" class=\"dataframe\">\n",
       "  <thead>\n",
       "    <tr style=\"text-align: right;\">\n",
       "      <th></th>\n",
       "      <th>resident_status</th>\n",
       "      <th>level_of_education</th>\n",
       "      <th>month_of_death</th>\n",
       "      <th>age</th>\n",
       "      <th>place_of_death_patient_status</th>\n",
       "      <th>marital_status</th>\n",
       "      <th>day_of_week_of_death</th>\n",
       "      <th>year_data_collected</th>\n",
       "      <th>manner_of_death</th>\n",
       "      <th>was_autopsy_done</th>\n",
       "      <th>place_of_injury_for_icd_w00_y34_except_y06_and_y07_</th>\n",
       "      <th>icd_code_10th_revision</th>\n",
       "      <th>358_causes_of_death</th>\n",
       "      <th>113_causes_of_death</th>\n",
       "      <th>130_causes_of_infant_death</th>\n",
       "      <th>39_cause_recode</th>\n",
       "      <th>number_of_entity_axis_conditions</th>\n",
       "      <th>entity_condition_1</th>\n",
       "      <th>entity_condition_2</th>\n",
       "      <th>entity_condition_3</th>\n",
       "      <th>number_of_record_axis_conditions</th>\n",
       "      <th>record_condition_1</th>\n",
       "      <th>record_condition_2</th>\n",
       "      <th>record_condition_3</th>\n",
       "      <th>race</th>\n",
       "      <th>race_recode_3</th>\n",
       "      <th>race_recode_5</th>\n",
       "      <th>hispanic_origin</th>\n",
       "      <th>hispanic_originrace_recode</th>\n",
       "    </tr>\n",
       "  </thead>\n",
       "  <tbody>\n",
       "    <tr>\n",
       "      <th>0</th>\n",
       "      <td>RESIDENTS</td>\n",
       "      <td>Not Available</td>\n",
       "      <td>February</td>\n",
       "      <td>37</td>\n",
       "      <td>Hospital, clinic or Medical Center</td>\n",
       "      <td>Married</td>\n",
       "      <td>Tuesday</td>\n",
       "      <td>2015</td>\n",
       "      <td>Natural</td>\n",
       "      <td>No</td>\n",
       "      <td>Not Available</td>\n",
       "      <td>O268</td>\n",
       "      <td>All other direct obstetric causes</td>\n",
       "      <td>Other complications of pregnancy, childbirth a...</td>\n",
       "      <td>Not Available</td>\n",
       "      <td>Pregnancy, childbirth and the puerperium</td>\n",
       "      <td>4</td>\n",
       "      <td>11O268</td>\n",
       "      <td>21O995</td>\n",
       "      <td>31O268</td>\n",
       "      <td>2</td>\n",
       "      <td>O268</td>\n",
       "      <td>O903</td>\n",
       "      <td>Not Available</td>\n",
       "      <td>Black</td>\n",
       "      <td>Black</td>\n",
       "      <td>Black</td>\n",
       "      <td>Non – Hispanic</td>\n",
       "      <td>Non - Hispanic black</td>\n",
       "    </tr>\n",
       "    <tr>\n",
       "      <th>1</th>\n",
       "      <td>RESIDENTS</td>\n",
       "      <td>Not Available</td>\n",
       "      <td>January</td>\n",
       "      <td>56</td>\n",
       "      <td>Hospital, clinic or Medical Center</td>\n",
       "      <td>Widowed</td>\n",
       "      <td>Tuesday</td>\n",
       "      <td>2015</td>\n",
       "      <td>Natural</td>\n",
       "      <td>No</td>\n",
       "      <td>Not Available</td>\n",
       "      <td>O268</td>\n",
       "      <td>All other direct obstetric causes</td>\n",
       "      <td>Other complications of pregnancy, childbirth a...</td>\n",
       "      <td>Not Available</td>\n",
       "      <td>Pregnancy, childbirth and the puerperium</td>\n",
       "      <td>3</td>\n",
       "      <td>11O268</td>\n",
       "      <td>21O971</td>\n",
       "      <td>31O971</td>\n",
       "      <td>2</td>\n",
       "      <td>O268</td>\n",
       "      <td>O971</td>\n",
       "      <td>Not Available</td>\n",
       "      <td>Black</td>\n",
       "      <td>Black</td>\n",
       "      <td>Black</td>\n",
       "      <td>Non – Hispanic</td>\n",
       "      <td>Non - Hispanic black</td>\n",
       "    </tr>\n",
       "    <tr>\n",
       "      <th>2</th>\n",
       "      <td>RESIDENTS</td>\n",
       "      <td>Not Available</td>\n",
       "      <td>March</td>\n",
       "      <td>31</td>\n",
       "      <td>Other</td>\n",
       "      <td>Married</td>\n",
       "      <td>Tuesday</td>\n",
       "      <td>2015</td>\n",
       "      <td>Natural</td>\n",
       "      <td>No</td>\n",
       "      <td>Not Available</td>\n",
       "      <td>O881</td>\n",
       "      <td>Obstetric embolism</td>\n",
       "      <td>Other complications of pregnancy, childbirth a...</td>\n",
       "      <td>Not Available</td>\n",
       "      <td>Pregnancy, childbirth and the puerperium</td>\n",
       "      <td>2</td>\n",
       "      <td>11O993</td>\n",
       "      <td>21O881</td>\n",
       "      <td>Not Available</td>\n",
       "      <td>1</td>\n",
       "      <td>O881</td>\n",
       "      <td>Not Available</td>\n",
       "      <td>Not Available</td>\n",
       "      <td>White</td>\n",
       "      <td>White</td>\n",
       "      <td>White</td>\n",
       "      <td>Non – Hispanic</td>\n",
       "      <td>Non - Hispanic white</td>\n",
       "    </tr>\n",
       "    <tr>\n",
       "      <th>3</th>\n",
       "      <td>INTRASTATE NONRESIDENTS</td>\n",
       "      <td>Not Available</td>\n",
       "      <td>April</td>\n",
       "      <td>24</td>\n",
       "      <td>Hospital, clinic or Medical Center</td>\n",
       "      <td>Divorced</td>\n",
       "      <td>Thursday</td>\n",
       "      <td>2015</td>\n",
       "      <td>Not Available</td>\n",
       "      <td>Unknown</td>\n",
       "      <td>Not Available</td>\n",
       "      <td>O065</td>\n",
       "      <td>Other and unspecified pregnancy with abortive ...</td>\n",
       "      <td>Pregnancy with abortive outcome</td>\n",
       "      <td>Not Available</td>\n",
       "      <td>Pregnancy, childbirth and the puerperium</td>\n",
       "      <td>2</td>\n",
       "      <td>11O080</td>\n",
       "      <td>21O069</td>\n",
       "      <td>Not Available</td>\n",
       "      <td>1</td>\n",
       "      <td>O065</td>\n",
       "      <td>Not Available</td>\n",
       "      <td>Not Available</td>\n",
       "      <td>White</td>\n",
       "      <td>White</td>\n",
       "      <td>White</td>\n",
       "      <td>Non – Hispanic</td>\n",
       "      <td>Non - Hispanic white</td>\n",
       "    </tr>\n",
       "    <tr>\n",
       "      <th>4</th>\n",
       "      <td>INSTRASTATE NONRESIDENTS</td>\n",
       "      <td>Not Available</td>\n",
       "      <td>July</td>\n",
       "      <td>28</td>\n",
       "      <td>Hospital, clinic or Medical Center</td>\n",
       "      <td>Never married, Single</td>\n",
       "      <td>Saturday</td>\n",
       "      <td>2015</td>\n",
       "      <td>Natural</td>\n",
       "      <td>No</td>\n",
       "      <td>Not Available</td>\n",
       "      <td>O998</td>\n",
       "      <td>Indirect obstetric deaths</td>\n",
       "      <td>Other complications of pregnancy, childbirth a...</td>\n",
       "      <td>Not Available</td>\n",
       "      <td>Pregnancy, childbirth and the puerperium</td>\n",
       "      <td>2</td>\n",
       "      <td>11O994</td>\n",
       "      <td>21O998</td>\n",
       "      <td>Not Available</td>\n",
       "      <td>2</td>\n",
       "      <td>O998</td>\n",
       "      <td>O994</td>\n",
       "      <td>Not Available</td>\n",
       "      <td>Black</td>\n",
       "      <td>Black</td>\n",
       "      <td>Black</td>\n",
       "      <td>Non – Hispanic</td>\n",
       "      <td>Non - Hispanic black</td>\n",
       "    </tr>\n",
       "  </tbody>\n",
       "</table>\n",
       "</div>"
      ],
      "text/plain": [
       "            resident_status level_of_education month_of_death  age  \\\n",
       "0                 RESIDENTS      Not Available       February   37   \n",
       "1                 RESIDENTS      Not Available        January   56   \n",
       "2                 RESIDENTS      Not Available          March   31   \n",
       "3   INTRASTATE NONRESIDENTS      Not Available          April   24   \n",
       "4  INSTRASTATE NONRESIDENTS      Not Available           July   28   \n",
       "\n",
       "        place_of_death_patient_status         marital_status  \\\n",
       "0  Hospital, clinic or Medical Center                Married   \n",
       "1  Hospital, clinic or Medical Center                Widowed   \n",
       "2                               Other                Married   \n",
       "3  Hospital, clinic or Medical Center               Divorced   \n",
       "4  Hospital, clinic or Medical Center  Never married, Single   \n",
       "\n",
       "  day_of_week_of_death  year_data_collected manner_of_death was_autopsy_done  \\\n",
       "0              Tuesday                 2015         Natural               No   \n",
       "1              Tuesday                 2015         Natural               No   \n",
       "2              Tuesday                 2015         Natural               No   \n",
       "3             Thursday                 2015   Not Available          Unknown   \n",
       "4             Saturday                 2015         Natural               No   \n",
       "\n",
       "  place_of_injury_for_icd_w00_y34_except_y06_and_y07_ icd_code_10th_revision  \\\n",
       "0                                      Not Available                    O268   \n",
       "1                                      Not Available                    O268   \n",
       "2                                      Not Available                    O881   \n",
       "3                                      Not Available                    O065   \n",
       "4                                      Not Available                    O998   \n",
       "\n",
       "                                 358_causes_of_death  \\\n",
       "0                  All other direct obstetric causes   \n",
       "1                  All other direct obstetric causes   \n",
       "2                                 Obstetric embolism   \n",
       "3  Other and unspecified pregnancy with abortive ...   \n",
       "4                          Indirect obstetric deaths   \n",
       "\n",
       "                                 113_causes_of_death  \\\n",
       "0  Other complications of pregnancy, childbirth a...   \n",
       "1  Other complications of pregnancy, childbirth a...   \n",
       "2  Other complications of pregnancy, childbirth a...   \n",
       "3                    Pregnancy with abortive outcome   \n",
       "4  Other complications of pregnancy, childbirth a...   \n",
       "\n",
       "  130_causes_of_infant_death                           39_cause_recode  \\\n",
       "0              Not Available  Pregnancy, childbirth and the puerperium   \n",
       "1              Not Available  Pregnancy, childbirth and the puerperium   \n",
       "2              Not Available  Pregnancy, childbirth and the puerperium   \n",
       "3              Not Available  Pregnancy, childbirth and the puerperium   \n",
       "4              Not Available  Pregnancy, childbirth and the puerperium   \n",
       "\n",
       "   number_of_entity_axis_conditions entity_condition_1 entity_condition_2  \\\n",
       "0                                 4             11O268             21O995   \n",
       "1                                 3             11O268             21O971   \n",
       "2                                 2             11O993             21O881   \n",
       "3                                 2             11O080             21O069   \n",
       "4                                 2             11O994             21O998   \n",
       "\n",
       "  entity_condition_3  number_of_record_axis_conditions record_condition_1  \\\n",
       "0             31O268                                 2               O268   \n",
       "1             31O971                                 2               O268   \n",
       "2      Not Available                                 1               O881   \n",
       "3      Not Available                                 1               O065   \n",
       "4      Not Available                                 2               O998   \n",
       "\n",
       "  record_condition_2 record_condition_3   race race_recode_3 race_recode_5  \\\n",
       "0               O903      Not Available  Black         Black         Black   \n",
       "1               O971      Not Available  Black         Black         Black   \n",
       "2      Not Available      Not Available  White         White         White   \n",
       "3      Not Available      Not Available  White         White         White   \n",
       "4               O994      Not Available  Black         Black         Black   \n",
       "\n",
       "  hispanic_origin hispanic_originrace_recode  \n",
       "0  Non – Hispanic       Non - Hispanic black  \n",
       "1  Non – Hispanic       Non - Hispanic black  \n",
       "2  Non – Hispanic       Non - Hispanic white  \n",
       "3  Non – Hispanic       Non - Hispanic white  \n",
       "4  Non – Hispanic       Non - Hispanic black  "
      ]
     },
     "execution_count": 146,
     "metadata": {},
     "output_type": "execute_result"
    }
   ],
   "source": [
    "df.head()"
   ]
  },
  {
   "cell_type": "code",
   "execution_count": 147,
   "metadata": {},
   "outputs": [
    {
     "data": {
      "text/plain": [
       "array(['Black', 'White', 'American Indian (includes Aleuts and Eskimos)',\n",
       "       'Chinese', 'Filipino', 'Asian Indian',\n",
       "       'Other Asian or Pacific Islander in areas reporting codes 18-58',\n",
       "       'Combined other Asian or Pacific Islander, includes codes 18-68',\n",
       "       'Japanese', 'Vietnamese', 'Korean',\n",
       "       'Hawaiian (includes Part-Hawaiian)', 'Guamanian', 'Samoan'],\n",
       "      dtype=object)"
      ]
     },
     "execution_count": 147,
     "metadata": {},
     "output_type": "execute_result"
    }
   ],
   "source": [
    "df['race'].unique()"
   ]
  },
  {
   "cell_type": "code",
   "execution_count": 148,
   "metadata": {},
   "outputs": [
    {
     "data": {
      "text/plain": [
       "array(['Black', 'White', 'Races other than White or Black'], dtype=object)"
      ]
     },
     "execution_count": 148,
     "metadata": {},
     "output_type": "execute_result"
    }
   ],
   "source": [
    "df['race_recode_3'].unique()"
   ]
  },
  {
   "cell_type": "code",
   "execution_count": 149,
   "metadata": {},
   "outputs": [
    {
     "data": {
      "text/plain": [
       "array(['Black', 'White', 'American Indian', 'Asian or Pacific Islander'],\n",
       "      dtype=object)"
      ]
     },
     "execution_count": 149,
     "metadata": {},
     "output_type": "execute_result"
    }
   ],
   "source": [
    "df['race_recode_5'].unique()"
   ]
  },
  {
   "cell_type": "code",
   "execution_count": 150,
   "metadata": {
    "scrolled": true
   },
   "outputs": [
    {
     "data": {
      "text/plain": [
       "array(['Non – Hispanic', 'Mexican', 'South American', 'Central American',\n",
       "       'Puerto Rican', 'Unknown', 'Central and South American',\n",
       "       'Other Hispanic', 'Latin American', 'Cuban', 'Dominican',\n",
       "       'Spaniard'], dtype=object)"
      ]
     },
     "execution_count": 150,
     "metadata": {},
     "output_type": "execute_result"
    }
   ],
   "source": [
    "df['hispanic_origin'].unique()"
   ]
  },
  {
   "cell_type": "code",
   "execution_count": 151,
   "metadata": {},
   "outputs": [
    {
     "data": {
      "text/plain": [
       "(7135, 29)"
      ]
     },
     "execution_count": 151,
     "metadata": {},
     "output_type": "execute_result"
    }
   ],
   "source": [
    "df.shape"
   ]
  },
  {
   "cell_type": "code",
   "execution_count": 152,
   "metadata": {},
   "outputs": [
    {
     "data": {
      "text/plain": [
       "resident_status                                        5993\n",
       "level_of_education                                     5993\n",
       "month_of_death                                         5993\n",
       "age                                                    5993\n",
       "place_of_death_patient_status                          5993\n",
       "marital_status                                         5993\n",
       "day_of_week_of_death                                   5993\n",
       "year_data_collected                                    5993\n",
       "manner_of_death                                        5993\n",
       "was_autopsy_done                                       5993\n",
       "place_of_injury_for_icd_w00_y34_except_y06_and_y07_    5993\n",
       "icd_code_10th_revision                                 5993\n",
       "358_causes_of_death                                    5993\n",
       "113_causes_of_death                                    5993\n",
       "130_causes_of_infant_death                             5993\n",
       "39_cause_recode                                        5993\n",
       "number_of_entity_axis_conditions                       5993\n",
       "entity_condition_1                                     5993\n",
       "entity_condition_2                                     5993\n",
       "entity_condition_3                                     5993\n",
       "number_of_record_axis_conditions                       5993\n",
       "record_condition_1                                     5993\n",
       "record_condition_2                                     5993\n",
       "record_condition_3                                     5993\n",
       "race                                                   5993\n",
       "race_recode_3                                          5993\n",
       "race_recode_5                                          5993\n",
       "hispanic_origin                                        5993\n",
       "hispanic_originrace_recode                             5993\n",
       "dtype: int64"
      ]
     },
     "execution_count": 152,
     "metadata": {},
     "output_type": "execute_result"
    }
   ],
   "source": [
    "df[df['hispanic_origin'] == 'Non – Hispanic'].count()"
   ]
  },
  {
   "cell_type": "code",
   "execution_count": 153,
   "metadata": {},
   "outputs": [
    {
     "data": {
      "text/plain": [
       "array(['Natural', 'Not Available', 'Could not determine',\n",
       "       'Pending investigation', 'Accident', 'Homicide', 'Suicide'],\n",
       "      dtype=object)"
      ]
     },
     "execution_count": 153,
     "metadata": {},
     "output_type": "execute_result"
    }
   ],
   "source": [
    "df['manner_of_death'].unique()"
   ]
  },
  {
   "cell_type": "code",
   "execution_count": 154,
   "metadata": {
    "scrolled": true
   },
   "outputs": [
    {
     "data": {
      "text/plain": [
       "count      7135\n",
       "unique        3\n",
       "top       White\n",
       "freq       4401\n",
       "Name: race_recode_3, dtype: object"
      ]
     },
     "execution_count": 154,
     "metadata": {},
     "output_type": "execute_result"
    }
   ],
   "source": [
    "df['race_recode_3'].describe()"
   ]
  },
  {
   "cell_type": "code",
   "execution_count": 155,
   "metadata": {
    "scrolled": false
   },
   "outputs": [
    {
     "data": {
      "text/plain": [
       "(7135, 29)"
      ]
     },
     "execution_count": 155,
     "metadata": {},
     "output_type": "execute_result"
    }
   ],
   "source": [
    "df.shape"
   ]
  },
  {
   "cell_type": "markdown",
   "metadata": {},
   "source": [
    "3417 rows in dataset => 3417 deaths\n",
    "1108 black women deaths\n",
    "2113 white women deaths\n",
    "196 other races deaths"
   ]
  },
  {
   "cell_type": "code",
   "execution_count": 156,
   "metadata": {},
   "outputs": [],
   "source": [
    "# Find total population of USA separated by race.\n",
    "# If possible by white/black/other and by hispanic and non hispanic."
   ]
  },
  {
   "cell_type": "code",
   "execution_count": 157,
   "metadata": {
    "scrolled": true
   },
   "outputs": [
    {
     "data": {
      "text/plain": [
       "race_recode_3                    place_of_death_patient_status     \n",
       "Black                            Descendent's home                       38\n",
       "                                 Hospital, clinc or Medical Center       47\n",
       "                                 Hospital, clinic or Medical Center    2131\n",
       "                                 Nursing home/long term care             24\n",
       "                                 Other                                   52\n",
       "                                 Place of death unknown                  29\n",
       "Races other than White or Black  Descendent's home                        2\n",
       "                                 Hospital, clinc or Medical Center        4\n",
       "                                 Hospital, clinic or Medical Center     393\n",
       "                                 Nursing home/long term care              5\n",
       "                                 Other                                    8\n",
       "                                 Place of death unknown                   1\n",
       "White                            Descendent's home                      105\n",
       "                                 Hospital, clinc or Medical Center       39\n",
       "                                 Hospital, clinic or Medical Center    4038\n",
       "                                 Nursing home/long term care             69\n",
       "                                 Other                                  139\n",
       "                                 Place of death unknown                  11\n",
       "dtype: int64"
      ]
     },
     "execution_count": 157,
     "metadata": {},
     "output_type": "execute_result"
    }
   ],
   "source": [
    "column1 = 'race_recode_3'\n",
    "column2 = 'place_of_death_patient_status'\n",
    "\n",
    "df_grouped_by_race_and_death_place = df.groupby([column1, column2]).size()\n",
    "df_grouped_by_race_and_death_place\n",
    "# place_of_death_patient_status"
   ]
  },
  {
   "cell_type": "markdown",
   "metadata": {},
   "source": [
    "# Reusable DFs"
   ]
  },
  {
   "cell_type": "code",
   "execution_count": 158,
   "metadata": {},
   "outputs": [],
   "source": [
    "df_hispanic = df[df[\"hispanic_origin\"] != \"Non – Hispanic\"]"
   ]
  },
  {
   "cell_type": "code",
   "execution_count": 159,
   "metadata": {},
   "outputs": [],
   "source": [
    "df_non_hispanic = df[df[\"hispanic_origin\"] == \"Non – Hispanic\"]"
   ]
  },
  {
   "cell_type": "markdown",
   "metadata": {},
   "source": [
    "# How are hispanics represented among different races?"
   ]
  },
  {
   "cell_type": "code",
   "execution_count": 160,
   "metadata": {},
   "outputs": [],
   "source": [
    "def group_by_race(df):\n",
    "    return df.groupby(df['race_recode_3']).size()"
   ]
  },
  {
   "cell_type": "code",
   "execution_count": 161,
   "metadata": {
    "scrolled": true
   },
   "outputs": [
    {
     "data": {
      "text/plain": [
       "race_recode_3\n",
       "Black                              2321\n",
       "Races other than White or Black     413\n",
       "White                              4401\n",
       "dtype: int64"
      ]
     },
     "execution_count": 161,
     "metadata": {},
     "output_type": "execute_result"
    }
   ],
   "source": [
    "df_grouped_by_race = group_by_race(df)\n",
    "df_grouped_by_race"
   ]
  },
  {
   "cell_type": "code",
   "execution_count": 162,
   "metadata": {},
   "outputs": [
    {
     "data": {
      "text/plain": [
       "race_recode_3\n",
       "Black                                24\n",
       "Races other than White or Black      15\n",
       "White                              1103\n",
       "dtype: int64"
      ]
     },
     "execution_count": 162,
     "metadata": {},
     "output_type": "execute_result"
    }
   ],
   "source": [
    "group_by_race(df_hispanic)"
   ]
  },
  {
   "cell_type": "code",
   "execution_count": 163,
   "metadata": {
    "scrolled": true
   },
   "outputs": [
    {
     "data": {
      "text/plain": [
       "race_recode_3\n",
       "Black                              2297\n",
       "Races other than White or Black     398\n",
       "White                              3298\n",
       "dtype: int64"
      ]
     },
     "execution_count": 163,
     "metadata": {},
     "output_type": "execute_result"
    }
   ],
   "source": [
    "group_by_race(df_non_hispanic)"
   ]
  },
  {
   "cell_type": "markdown",
   "metadata": {},
   "source": [
    "# How does the number of total deaths look like?"
   ]
  },
  {
   "cell_type": "code",
   "execution_count": 164,
   "metadata": {
    "scrolled": true
   },
   "outputs": [
    {
     "data": {
      "text/plain": [
       "<matplotlib.axes._subplots.AxesSubplot at 0x1247b46d0>"
      ]
     },
     "execution_count": 164,
     "metadata": {},
     "output_type": "execute_result"
    },
    {
     "data": {
      "image/png": "[encoded data removed]",
      "text/plain": [
       "<Figure size 1296x360 with 1 Axes>"
      ]
     },
     "metadata": {
      "needs_background": "light"
     },
     "output_type": "display_data"
    }
   ],
   "source": [
    "df_grouped_by_race.plot.bar(\n",
    "    title=f'Bar plot of deaths per race from 2013 to 2015',\n",
    "    figsize=(18,5)\n",
    ")\n",
    "\n",
    "# We Need to find total population of black/white women to see what's the maternal mortality percentage.\n",
    "# If possible, do same analysis including hispanic, and same anaylisys excluding hispanic"
   ]
  },
  {
   "cell_type": "markdown",
   "metadata": {},
   "source": [
    "# How does the number of deaths change as the years go by?"
   ]
  },
  {
   "cell_type": "code",
   "execution_count": 165,
   "metadata": {},
   "outputs": [
    {
     "data": {
      "text/plain": [
       "year_data_collected\n",
       "2009     960\n",
       "2010     829\n",
       "2011     936\n",
       "2012     993\n",
       "2013    1142\n",
       "2014    1131\n",
       "2015    1144\n",
       "dtype: int64"
      ]
     },
     "execution_count": 165,
     "metadata": {},
     "output_type": "execute_result"
    }
   ],
   "source": [
    "df_deaths_by_year = df.groupby(['year_data_collected']).size()\n",
    "df_deaths_by_year"
   ]
  },
  {
   "cell_type": "code",
   "execution_count": 166,
   "metadata": {
    "scrolled": true
   },
   "outputs": [
    {
     "data": {
      "text/plain": [
       "<matplotlib.axes._subplots.AxesSubplot at 0x1247aae20>"
      ]
     },
     "execution_count": 166,
     "metadata": {},
     "output_type": "execute_result"
    },
    {
     "data": {
      "image/png": "[encoded data removed]",
      "text/plain": [
       "<Figure size 432x288 with 1 Axes>"
      ]
     },
     "metadata": {
      "needs_background": "light"
     },
     "output_type": "display_data"
    }
   ],
   "source": [
    "df_deaths_by_year.plot.line()"
   ]
  },
  {
   "cell_type": "markdown",
   "metadata": {},
   "source": [
    "**It seems that there is a growing trend in the number of maternal deaths**"
   ]
  },
  {
   "cell_type": "code",
   "execution_count": 167,
   "metadata": {},
   "outputs": [
    {
     "data": {
      "text/html": [
       "<div>\n",
       "<style scoped>\n",
       "    .dataframe tbody tr th:only-of-type {\n",
       "        vertical-align: middle;\n",
       "    }\n",
       "\n",
       "    .dataframe tbody tr th {\n",
       "        vertical-align: top;\n",
       "    }\n",
       "\n",
       "    .dataframe thead th {\n",
       "        text-align: right;\n",
       "    }\n",
       "</style>\n",
       "<table border=\"1\" class=\"dataframe\">\n",
       "  <thead>\n",
       "    <tr style=\"text-align: right;\">\n",
       "      <th></th>\n",
       "      <th>race_recode_3</th>\n",
       "      <th>year_data_collected</th>\n",
       "      <th>count</th>\n",
       "    </tr>\n",
       "  </thead>\n",
       "  <tbody>\n",
       "    <tr>\n",
       "      <th>0</th>\n",
       "      <td>Black</td>\n",
       "      <td>2009</td>\n",
       "      <td>307</td>\n",
       "    </tr>\n",
       "    <tr>\n",
       "      <th>1</th>\n",
       "      <td>Black</td>\n",
       "      <td>2010</td>\n",
       "      <td>265</td>\n",
       "    </tr>\n",
       "    <tr>\n",
       "      <th>2</th>\n",
       "      <td>Black</td>\n",
       "      <td>2011</td>\n",
       "      <td>305</td>\n",
       "    </tr>\n",
       "    <tr>\n",
       "      <th>3</th>\n",
       "      <td>Black</td>\n",
       "      <td>2012</td>\n",
       "      <td>336</td>\n",
       "    </tr>\n",
       "    <tr>\n",
       "      <th>4</th>\n",
       "      <td>Black</td>\n",
       "      <td>2013</td>\n",
       "      <td>364</td>\n",
       "    </tr>\n",
       "    <tr>\n",
       "      <th>5</th>\n",
       "      <td>Black</td>\n",
       "      <td>2014</td>\n",
       "      <td>370</td>\n",
       "    </tr>\n",
       "    <tr>\n",
       "      <th>6</th>\n",
       "      <td>Black</td>\n",
       "      <td>2015</td>\n",
       "      <td>374</td>\n",
       "    </tr>\n",
       "    <tr>\n",
       "      <th>7</th>\n",
       "      <td>Races other than White or Black</td>\n",
       "      <td>2009</td>\n",
       "      <td>47</td>\n",
       "    </tr>\n",
       "    <tr>\n",
       "      <th>8</th>\n",
       "      <td>Races other than White or Black</td>\n",
       "      <td>2010</td>\n",
       "      <td>58</td>\n",
       "    </tr>\n",
       "    <tr>\n",
       "      <th>9</th>\n",
       "      <td>Races other than White or Black</td>\n",
       "      <td>2011</td>\n",
       "      <td>59</td>\n",
       "    </tr>\n",
       "    <tr>\n",
       "      <th>10</th>\n",
       "      <td>Races other than White or Black</td>\n",
       "      <td>2012</td>\n",
       "      <td>53</td>\n",
       "    </tr>\n",
       "    <tr>\n",
       "      <th>11</th>\n",
       "      <td>Races other than White or Black</td>\n",
       "      <td>2013</td>\n",
       "      <td>63</td>\n",
       "    </tr>\n",
       "    <tr>\n",
       "      <th>12</th>\n",
       "      <td>Races other than White or Black</td>\n",
       "      <td>2014</td>\n",
       "      <td>64</td>\n",
       "    </tr>\n",
       "    <tr>\n",
       "      <th>13</th>\n",
       "      <td>Races other than White or Black</td>\n",
       "      <td>2015</td>\n",
       "      <td>69</td>\n",
       "    </tr>\n",
       "    <tr>\n",
       "      <th>14</th>\n",
       "      <td>White</td>\n",
       "      <td>2009</td>\n",
       "      <td>606</td>\n",
       "    </tr>\n",
       "    <tr>\n",
       "      <th>15</th>\n",
       "      <td>White</td>\n",
       "      <td>2010</td>\n",
       "      <td>506</td>\n",
       "    </tr>\n",
       "    <tr>\n",
       "      <th>16</th>\n",
       "      <td>White</td>\n",
       "      <td>2011</td>\n",
       "      <td>572</td>\n",
       "    </tr>\n",
       "    <tr>\n",
       "      <th>17</th>\n",
       "      <td>White</td>\n",
       "      <td>2012</td>\n",
       "      <td>604</td>\n",
       "    </tr>\n",
       "    <tr>\n",
       "      <th>18</th>\n",
       "      <td>White</td>\n",
       "      <td>2013</td>\n",
       "      <td>715</td>\n",
       "    </tr>\n",
       "    <tr>\n",
       "      <th>19</th>\n",
       "      <td>White</td>\n",
       "      <td>2014</td>\n",
       "      <td>697</td>\n",
       "    </tr>\n",
       "    <tr>\n",
       "      <th>20</th>\n",
       "      <td>White</td>\n",
       "      <td>2015</td>\n",
       "      <td>701</td>\n",
       "    </tr>\n",
       "  </tbody>\n",
       "</table>\n",
       "</div>"
      ],
      "text/plain": [
       "                      race_recode_3  year_data_collected  count\n",
       "0                             Black                 2009    307\n",
       "1                             Black                 2010    265\n",
       "2                             Black                 2011    305\n",
       "3                             Black                 2012    336\n",
       "4                             Black                 2013    364\n",
       "5                             Black                 2014    370\n",
       "6                             Black                 2015    374\n",
       "7   Races other than White or Black                 2009     47\n",
       "8   Races other than White or Black                 2010     58\n",
       "9   Races other than White or Black                 2011     59\n",
       "10  Races other than White or Black                 2012     53\n",
       "11  Races other than White or Black                 2013     63\n",
       "12  Races other than White or Black                 2014     64\n",
       "13  Races other than White or Black                 2015     69\n",
       "14                            White                 2009    606\n",
       "15                            White                 2010    506\n",
       "16                            White                 2011    572\n",
       "17                            White                 2012    604\n",
       "18                            White                 2013    715\n",
       "19                            White                 2014    697\n",
       "20                            White                 2015    701"
      ]
     },
     "execution_count": 167,
     "metadata": {},
     "output_type": "execute_result"
    }
   ],
   "source": [
    "df_grouped_by_race_and_year = df.groupby(['race_recode_3', 'year_data_collected']).size()\n",
    "df_grouped_by_race_and_year = df_grouped_by_race_and_year.reset_index()\n",
    "df_grouped_by_race_and_year = df_grouped_by_race_and_year.rename(columns={0:'count'})\n",
    "df_grouped_by_race_and_year"
   ]
  },
  {
   "cell_type": "code",
   "execution_count": 168,
   "metadata": {
    "scrolled": true
   },
   "outputs": [
    {
     "data": {
      "text/plain": [
       "Text(0.5, 0, 'Year')"
      ]
     },
     "execution_count": 168,
     "metadata": {},
     "output_type": "execute_result"
    },
    {
     "data": {
      "image/png": "[encoded data removed]",
      "text/plain": [
       "<Figure size 432x288 with 1 Axes>"
      ]
     },
     "metadata": {
      "needs_background": "light"
     },
     "output_type": "display_data"
    }
   ],
   "source": [
    "ax = sns.lineplot(\n",
    "    data=df_grouped_by_race_and_year,\n",
    "    x='year_data_collected',\n",
    "    y=\"count\",\n",
    "    hue='race_recode_3',\n",
    ")\n",
    "ax.set_xlabel('Year')"
   ]
  },
  {
   "cell_type": "markdown",
   "metadata": {},
   "source": [
    "**The growing trend in the total number of maternal deaths is true for the different ethnic groups looked at**"
   ]
  },
  {
   "cell_type": "markdown",
   "metadata": {},
   "source": [
    "# Do different races die of the same causes, when compared with that same race population? Does this change when we include/exclude hispanics?"
   ]
  },
  {
   "cell_type": "code",
   "execution_count": 169,
   "metadata": {},
   "outputs": [],
   "source": [
    "def create_race_heatmap(df, column):\n",
    "    event_count_table = pd.crosstab(\n",
    "        index=df['race_recode_3'],\n",
    "        columns=df[column],\n",
    "        normalize='index'\n",
    "    )\n",
    "    \n",
    "    return sns.heatmap(event_count_table, cmap='Reds', linewidths=1.5)"
   ]
  },
  {
   "cell_type": "code",
   "execution_count": 170,
   "metadata": {
    "scrolled": true
   },
   "outputs": [
    {
     "data": {
      "text/plain": [
       "<matplotlib.axes._subplots.AxesSubplot at 0x12494d8b0>"
      ]
     },
     "execution_count": 170,
     "metadata": {},
     "output_type": "execute_result"
    },
    {
     "data": {
      "image/png": "[encoded data removed]",
      "text/plain": [
       "<Figure size 432x288 with 2 Axes>"
      ]
     },
     "metadata": {
      "needs_background": "light"
     },
     "output_type": "display_data"
    }
   ],
   "source": [
    "# with hispanics\n",
    "create_race_heatmap(df, 'place_of_death_patient_status')"
   ]
  },
  {
   "cell_type": "code",
   "execution_count": 171,
   "metadata": {
    "scrolled": false
   },
   "outputs": [
    {
     "data": {
      "text/plain": [
       "<matplotlib.axes._subplots.AxesSubplot at 0x124fcd040>"
      ]
     },
     "execution_count": 171,
     "metadata": {},
     "output_type": "execute_result"
    },
    {
     "data": {
      "image/png": "[encoded data removed]",
      "text/plain": [
       "<Figure size 432x288 with 2 Axes>"
      ]
     },
     "metadata": {
      "needs_background": "light"
     },
     "output_type": "display_data"
    }
   ],
   "source": [
    "# 'Non – Hispanic'\n",
    "create_race_heatmap(df_non_hispanic, 'place_of_death_patient_status')"
   ]
  },
  {
   "cell_type": "code",
   "execution_count": 172,
   "metadata": {},
   "outputs": [
    {
     "data": {
      "text/plain": [
       "<matplotlib.axes._subplots.AxesSubplot at 0x1251f3640>"
      ]
     },
     "execution_count": 172,
     "metadata": {},
     "output_type": "execute_result"
    },
    {
     "data": {
      "image/png": "[encoded data removed]",
      "text/plain": [
       "<Figure size 432x288 with 2 Axes>"
      ]
     },
     "metadata": {
      "needs_background": "light"
     },
     "output_type": "display_data"
    }
   ],
   "source": [
    "# hispanic\n",
    "create_race_heatmap(df, 'manner_of_death')"
   ]
  },
  {
   "cell_type": "code",
   "execution_count": 173,
   "metadata": {},
   "outputs": [
    {
     "data": {
      "text/plain": [
       "<matplotlib.axes._subplots.AxesSubplot at 0x1253977f0>"
      ]
     },
     "execution_count": 173,
     "metadata": {},
     "output_type": "execute_result"
    },
    {
     "data": {
      "image/png": "[encoded data removed]",
      "text/plain": [
       "<Figure size 432x288 with 2 Axes>"
      ]
     },
     "metadata": {
      "needs_background": "light"
     },
     "output_type": "display_data"
    }
   ],
   "source": [
    "# non-hispanic\n",
    "create_race_heatmap(df_non_hispanic, 'manner_of_death')"
   ]
  },
  {
   "cell_type": "code",
   "execution_count": 174,
   "metadata": {},
   "outputs": [
    {
     "data": {
      "text/plain": [
       "<matplotlib.axes._subplots.AxesSubplot at 0x125590f40>"
      ]
     },
     "execution_count": 174,
     "metadata": {},
     "output_type": "execute_result"
    },
    {
     "data": {
      "image/png": "[encoded data removed]",
      "text/plain": [
       "<Figure size 432x288 with 2 Axes>"
      ]
     },
     "metadata": {
      "needs_background": "light"
     },
     "output_type": "display_data"
    }
   ],
   "source": [
    "# with hispanics\n",
    "create_race_heatmap(df, '358_causes_of_death')"
   ]
  },
  {
   "cell_type": "code",
   "execution_count": 175,
   "metadata": {},
   "outputs": [
    {
     "data": {
      "text/plain": [
       "<matplotlib.axes._subplots.AxesSubplot at 0x125590fd0>"
      ]
     },
     "execution_count": 175,
     "metadata": {},
     "output_type": "execute_result"
    },
    {
     "data": {
      "image/png": "[encoded data removed]",
      "text/plain": [
       "<Figure size 432x288 with 2 Axes>"
      ]
     },
     "metadata": {
      "needs_background": "light"
     },
     "output_type": "display_data"
    }
   ],
   "source": [
    "# without hispanics\n",
    "create_race_heatmap(df_non_hispanic, '358_causes_of_death')"
   ]
  },
  {
   "cell_type": "code",
   "execution_count": 176,
   "metadata": {
    "scrolled": true
   },
   "outputs": [
    {
     "data": {
      "text/plain": [
       "<matplotlib.axes._subplots.AxesSubplot at 0x125763280>"
      ]
     },
     "execution_count": 176,
     "metadata": {},
     "output_type": "execute_result"
    },
    {
     "data": {
      "image/png": "[encoded data removed]",
      "text/plain": [
       "<Figure size 432x288 with 2 Axes>"
      ]
     },
     "metadata": {
      "needs_background": "light"
     },
     "output_type": "display_data"
    }
   ],
   "source": [
    "# without hispanics\n",
    "create_race_heatmap(df_non_hispanic, '113_causes_of_death')"
   ]
  },
  {
   "cell_type": "code",
   "execution_count": 177,
   "metadata": {
    "scrolled": true
   },
   "outputs": [
    {
     "data": {
      "text/plain": [
       "<matplotlib.axes._subplots.AxesSubplot at 0x1257a5be0>"
      ]
     },
     "execution_count": 177,
     "metadata": {},
     "output_type": "execute_result"
    },
    {
     "data": {
      "image/png": "[encoded data removed]",
      "text/plain": [
       "<Figure size 432x288 with 2 Axes>"
      ]
     },
     "metadata": {
      "needs_background": "light"
     },
     "output_type": "display_data"
    }
   ],
   "source": [
    "# without hispanics\n",
    "create_race_heatmap(df_non_hispanic, '39_cause_recode')"
   ]
  },
  {
   "cell_type": "code",
   "execution_count": 178,
   "metadata": {},
   "outputs": [
    {
     "data": {
      "text/plain": [
       "<matplotlib.axes._subplots.AxesSubplot at 0x125a0ff70>"
      ]
     },
     "execution_count": 178,
     "metadata": {},
     "output_type": "execute_result"
    },
    {
     "data": {
      "image/png": "[encoded data removed]",
      "text/plain": [
       "<Figure size 432x288 with 2 Axes>"
      ]
     },
     "metadata": {
      "needs_background": "light"
     },
     "output_type": "display_data"
    }
   ],
   "source": [
    "# with hispanics\n",
    "create_race_heatmap(df, 'day_of_week_of_death')"
   ]
  },
  {
   "cell_type": "code",
   "execution_count": 179,
   "metadata": {},
   "outputs": [
    {
     "data": {
      "text/plain": [
       "<matplotlib.axes._subplots.AxesSubplot at 0x1253d73d0>"
      ]
     },
     "execution_count": 179,
     "metadata": {},
     "output_type": "execute_result"
    },
    {
     "data": {
      "image/png": "[encoded data removed]",
      "text/plain": [
       "<Figure size 432x288 with 2 Axes>"
      ]
     },
     "metadata": {
      "needs_background": "light"
     },
     "output_type": "display_data"
    }
   ],
   "source": [
    "# non-hispanics\n",
    "create_race_heatmap(df_non_hispanic, 'day_of_week_of_death')"
   ]
  },
  {
   "cell_type": "code",
   "execution_count": 180,
   "metadata": {
    "scrolled": false
   },
   "outputs": [
    {
     "data": {
      "text/plain": [
       "<matplotlib.axes._subplots.AxesSubplot at 0x125a481c0>"
      ]
     },
     "execution_count": 180,
     "metadata": {},
     "output_type": "execute_result"
    },
    {
     "data": {
      "image/png": "[encoded data removed]",
      "text/plain": [
       "<Figure size 432x288 with 2 Axes>"
      ]
     },
     "metadata": {
      "needs_background": "light"
     },
     "output_type": "display_data"
    }
   ],
   "source": [
    "# with hispanics\n",
    "create_race_heatmap(df_non_hispanic, 'age')"
   ]
  },
  {
   "cell_type": "markdown",
   "metadata": {},
   "source": [
    "**The main causes of death seem to be the same for each race analyzed.  It might be worth to investigate further why black women die more of eclampsia and pre-eclampsia.**"
   ]
  },
  {
   "cell_type": "markdown",
   "metadata": {},
   "source": [
    "----"
   ]
  },
  {
   "cell_type": "markdown",
   "metadata": {},
   "source": [
    "# Is the percentage of missing data constant for different races, when compared with that same race population? Does this change when we include/exclude hispanics?"
   ]
  },
  {
   "cell_type": "code",
   "execution_count": 181,
   "metadata": {},
   "outputs": [],
   "source": [
    "def get_na_numbers_per_race(df, race, column_name):\n",
    "    df_race = df[df[\"race_recode_3\"] == race]\n",
    "    na_race = df_race[df[column_name] == 'Not Available']\n",
    "    race_pct = len(na_race) / len(df_race)\n",
    "    return race_pct"
   ]
  },
  {
   "cell_type": "code",
   "execution_count": 182,
   "metadata": {},
   "outputs": [],
   "source": [
    "def compare_na_numbers_per_race(df, column_name):\n",
    "    white = get_na_numbers_per_race(df, 'White', column_name)\n",
    "    black = get_na_numbers_per_race(df, 'Black', column_name)\n",
    "    other = get_na_numbers_per_race(df, 'Races other than White or Black', column_name)\n",
    "        \n",
    "    print(f'The number of N/A records for the column {column_name} are {white} for white, {black} for black, {other} for other races')"
   ]
  },
  {
   "cell_type": "code",
   "execution_count": 183,
   "metadata": {},
   "outputs": [
    {
     "name": "stdout",
     "output_type": "stream",
     "text": [
      "The number of N/A records for the column manner_of_death are 0.08748011815496479 for white, 0.0952175786299009 for black, 0.12832929782082325 for other races\n"
     ]
    },
    {
     "name": "stderr",
     "output_type": "stream",
     "text": [
      "<ipython-input-181-98adcb215370>:3: UserWarning: Boolean Series key will be reindexed to match DataFrame index.\n",
      "  na_race = df_race[df[column_name] == 'Not Available']\n"
     ]
    }
   ],
   "source": [
    "compare_na_numbers_per_race(df, 'manner_of_death')"
   ]
  },
  {
   "cell_type": "code",
   "execution_count": 184,
   "metadata": {
    "scrolled": true
   },
   "outputs": [
    {
     "name": "stdout",
     "output_type": "stream",
     "text": [
      "The number of N/A records for the column manner_of_death are 0.06731352334748332 for white, 0.09447104919460166 for black, 0.1306532663316583 for other races\n"
     ]
    },
    {
     "name": "stderr",
     "output_type": "stream",
     "text": [
      "<ipython-input-181-98adcb215370>:3: UserWarning: Boolean Series key will be reindexed to match DataFrame index.\n",
      "  na_race = df_race[df[column_name] == 'Not Available']\n"
     ]
    }
   ],
   "source": [
    "compare_na_numbers_per_race(df_non_hispanic, 'manner_of_death')"
   ]
  },
  {
   "cell_type": "code",
   "execution_count": 185,
   "metadata": {},
   "outputs": [
    {
     "name": "stdout",
     "output_type": "stream",
     "text": [
      "The number of N/A records for the column icd_code_10th_revision are 0.0 for white, 0.0 for black, 0.0 for other races\n"
     ]
    },
    {
     "name": "stderr",
     "output_type": "stream",
     "text": [
      "<ipython-input-181-98adcb215370>:3: UserWarning: Boolean Series key will be reindexed to match DataFrame index.\n",
      "  na_race = df_race[df[column_name] == 'Not Available']\n"
     ]
    }
   ],
   "source": [
    "compare_na_numbers_per_race(df, 'icd_code_10th_revision')"
   ]
  },
  {
   "cell_type": "code",
   "execution_count": 186,
   "metadata": {},
   "outputs": [],
   "source": [
    "# Finish missing values analysis"
   ]
  },
  {
   "cell_type": "markdown",
   "metadata": {},
   "source": [
    "-----"
   ]
  },
  {
   "cell_type": "markdown",
   "metadata": {},
   "source": [
    "# What's the most common icd causes of death among each race?  Does this change when we include/exclude hispanics?"
   ]
  },
  {
   "cell_type": "code",
   "execution_count": 187,
   "metadata": {},
   "outputs": [],
   "source": [
    "def most_common_icd_10_code(df):\n",
    "    icd_causes_of_death_by_race = df.groupby([\"race_recode_3\", \"icd_code_10th_revision\"]).size().to_frame().reset_index()\n",
    "    icd_causes_of_death_by_race = icd_causes_of_death_by_race.rename(columns={0:'count'})\n",
    "    icd_causes_of_death_by_race = icd_causes_of_death_by_race.sort_values(['race_recode_3', 'count'], ascending = (True, False))\n",
    "    icd_causes_of_death_by_race = icd_causes_of_death_by_race.groupby('race_recode_3').head(5)\n",
    "    return icd_causes_of_death_by_race"
   ]
  },
  {
   "cell_type": "code",
   "execution_count": 188,
   "metadata": {},
   "outputs": [
    {
     "data": {
      "text/html": [
       "<div>\n",
       "<style scoped>\n",
       "    .dataframe tbody tr th:only-of-type {\n",
       "        vertical-align: middle;\n",
       "    }\n",
       "\n",
       "    .dataframe tbody tr th {\n",
       "        vertical-align: top;\n",
       "    }\n",
       "\n",
       "    .dataframe thead th {\n",
       "        text-align: right;\n",
       "    }\n",
       "</style>\n",
       "<table border=\"1\" class=\"dataframe\">\n",
       "  <thead>\n",
       "    <tr style=\"text-align: right;\">\n",
       "      <th></th>\n",
       "      <th>race_recode_3</th>\n",
       "      <th>icd_code_10th_revision</th>\n",
       "      <th>count</th>\n",
       "    </tr>\n",
       "  </thead>\n",
       "  <tbody>\n",
       "    <tr>\n",
       "      <th>52</th>\n",
       "      <td>Black</td>\n",
       "      <td>O268</td>\n",
       "      <td>393</td>\n",
       "    </tr>\n",
       "    <tr>\n",
       "      <th>120</th>\n",
       "      <td>Black</td>\n",
       "      <td>O998</td>\n",
       "      <td>196</td>\n",
       "    </tr>\n",
       "    <tr>\n",
       "      <th>116</th>\n",
       "      <td>Black</td>\n",
       "      <td>O994</td>\n",
       "      <td>169</td>\n",
       "    </tr>\n",
       "    <tr>\n",
       "      <th>101</th>\n",
       "      <td>Black</td>\n",
       "      <td>O960</td>\n",
       "      <td>160</td>\n",
       "    </tr>\n",
       "    <tr>\n",
       "      <th>96</th>\n",
       "      <td>Black</td>\n",
       "      <td>O903</td>\n",
       "      <td>151</td>\n",
       "    </tr>\n",
       "    <tr>\n",
       "      <th>142</th>\n",
       "      <td>Races other than White or Black</td>\n",
       "      <td>O268</td>\n",
       "      <td>65</td>\n",
       "    </tr>\n",
       "    <tr>\n",
       "      <th>185</th>\n",
       "      <td>Races other than White or Black</td>\n",
       "      <td>O998</td>\n",
       "      <td>41</td>\n",
       "    </tr>\n",
       "    <tr>\n",
       "      <th>172</th>\n",
       "      <td>Races other than White or Black</td>\n",
       "      <td>O960</td>\n",
       "      <td>36</td>\n",
       "    </tr>\n",
       "    <tr>\n",
       "      <th>173</th>\n",
       "      <td>Races other than White or Black</td>\n",
       "      <td>O961</td>\n",
       "      <td>29</td>\n",
       "    </tr>\n",
       "    <tr>\n",
       "      <th>183</th>\n",
       "      <td>Races other than White or Black</td>\n",
       "      <td>O994</td>\n",
       "      <td>27</td>\n",
       "    </tr>\n",
       "    <tr>\n",
       "      <th>237</th>\n",
       "      <td>White</td>\n",
       "      <td>O268</td>\n",
       "      <td>769</td>\n",
       "    </tr>\n",
       "    <tr>\n",
       "      <th>317</th>\n",
       "      <td>White</td>\n",
       "      <td>O998</td>\n",
       "      <td>599</td>\n",
       "    </tr>\n",
       "    <tr>\n",
       "      <th>297</th>\n",
       "      <td>White</td>\n",
       "      <td>O961</td>\n",
       "      <td>422</td>\n",
       "    </tr>\n",
       "    <tr>\n",
       "      <th>296</th>\n",
       "      <td>White</td>\n",
       "      <td>O960</td>\n",
       "      <td>298</td>\n",
       "    </tr>\n",
       "    <tr>\n",
       "      <th>295</th>\n",
       "      <td>White</td>\n",
       "      <td>O96</td>\n",
       "      <td>286</td>\n",
       "    </tr>\n",
       "  </tbody>\n",
       "</table>\n",
       "</div>"
      ],
      "text/plain": [
       "                       race_recode_3 icd_code_10th_revision  count\n",
       "52                             Black                   O268    393\n",
       "120                            Black                   O998    196\n",
       "116                            Black                   O994    169\n",
       "101                            Black                   O960    160\n",
       "96                             Black                   O903    151\n",
       "142  Races other than White or Black                   O268     65\n",
       "185  Races other than White or Black                   O998     41\n",
       "172  Races other than White or Black                   O960     36\n",
       "173  Races other than White or Black                   O961     29\n",
       "183  Races other than White or Black                   O994     27\n",
       "237                            White                   O268    769\n",
       "317                            White                   O998    599\n",
       "297                            White                   O961    422\n",
       "296                            White                   O960    298\n",
       "295                            White                    O96    286"
      ]
     },
     "execution_count": 188,
     "metadata": {},
     "output_type": "execute_result"
    }
   ],
   "source": [
    "most_common_icd_10_code(df)"
   ]
  },
  {
   "cell_type": "code",
   "execution_count": 189,
   "metadata": {},
   "outputs": [],
   "source": [
    "df_eclampsia = df[df['358_causes_of_death'] == 'Eclampsia and pre-eclampsia']"
   ]
  },
  {
   "cell_type": "code",
   "execution_count": 190,
   "metadata": {
    "scrolled": true
   },
   "outputs": [
    {
     "data": {
      "text/html": [
       "<div>\n",
       "<style scoped>\n",
       "    .dataframe tbody tr th:only-of-type {\n",
       "        vertical-align: middle;\n",
       "    }\n",
       "\n",
       "    .dataframe tbody tr th {\n",
       "        vertical-align: top;\n",
       "    }\n",
       "\n",
       "    .dataframe thead th {\n",
       "        text-align: right;\n",
       "    }\n",
       "</style>\n",
       "<table border=\"1\" class=\"dataframe\">\n",
       "  <thead>\n",
       "    <tr style=\"text-align: right;\">\n",
       "      <th></th>\n",
       "      <th>race_recode_3</th>\n",
       "      <th>icd_code_10th_revision</th>\n",
       "      <th>count</th>\n",
       "    </tr>\n",
       "  </thead>\n",
       "  <tbody>\n",
       "    <tr>\n",
       "      <th>9</th>\n",
       "      <td>Black</td>\n",
       "      <td>O16</td>\n",
       "      <td>42</td>\n",
       "    </tr>\n",
       "    <tr>\n",
       "      <th>5</th>\n",
       "      <td>Black</td>\n",
       "      <td>O149</td>\n",
       "      <td>38</td>\n",
       "    </tr>\n",
       "    <tr>\n",
       "      <th>8</th>\n",
       "      <td>Black</td>\n",
       "      <td>O159</td>\n",
       "      <td>33</td>\n",
       "    </tr>\n",
       "    <tr>\n",
       "      <th>4</th>\n",
       "      <td>Black</td>\n",
       "      <td>O142</td>\n",
       "      <td>10</td>\n",
       "    </tr>\n",
       "    <tr>\n",
       "      <th>3</th>\n",
       "      <td>Black</td>\n",
       "      <td>O141</td>\n",
       "      <td>6</td>\n",
       "    </tr>\n",
       "    <tr>\n",
       "      <th>13</th>\n",
       "      <td>Races other than White or Black</td>\n",
       "      <td>O149</td>\n",
       "      <td>5</td>\n",
       "    </tr>\n",
       "    <tr>\n",
       "      <th>14</th>\n",
       "      <td>Races other than White or Black</td>\n",
       "      <td>O159</td>\n",
       "      <td>4</td>\n",
       "    </tr>\n",
       "    <tr>\n",
       "      <th>12</th>\n",
       "      <td>Races other than White or Black</td>\n",
       "      <td>O142</td>\n",
       "      <td>3</td>\n",
       "    </tr>\n",
       "    <tr>\n",
       "      <th>15</th>\n",
       "      <td>Races other than White or Black</td>\n",
       "      <td>O16</td>\n",
       "      <td>3</td>\n",
       "    </tr>\n",
       "    <tr>\n",
       "      <th>10</th>\n",
       "      <td>Races other than White or Black</td>\n",
       "      <td>O11</td>\n",
       "      <td>1</td>\n",
       "    </tr>\n",
       "    <tr>\n",
       "      <th>20</th>\n",
       "      <td>White</td>\n",
       "      <td>O149</td>\n",
       "      <td>43</td>\n",
       "    </tr>\n",
       "    <tr>\n",
       "      <th>24</th>\n",
       "      <td>White</td>\n",
       "      <td>O16</td>\n",
       "      <td>38</td>\n",
       "    </tr>\n",
       "    <tr>\n",
       "      <th>23</th>\n",
       "      <td>White</td>\n",
       "      <td>O159</td>\n",
       "      <td>37</td>\n",
       "    </tr>\n",
       "    <tr>\n",
       "      <th>21</th>\n",
       "      <td>White</td>\n",
       "      <td>O150</td>\n",
       "      <td>17</td>\n",
       "    </tr>\n",
       "    <tr>\n",
       "      <th>19</th>\n",
       "      <td>White</td>\n",
       "      <td>O142</td>\n",
       "      <td>16</td>\n",
       "    </tr>\n",
       "  </tbody>\n",
       "</table>\n",
       "</div>"
      ],
      "text/plain": [
       "                      race_recode_3 icd_code_10th_revision  count\n",
       "9                             Black                    O16     42\n",
       "5                             Black                   O149     38\n",
       "8                             Black                   O159     33\n",
       "4                             Black                   O142     10\n",
       "3                             Black                   O141      6\n",
       "13  Races other than White or Black                   O149      5\n",
       "14  Races other than White or Black                   O159      4\n",
       "12  Races other than White or Black                   O142      3\n",
       "15  Races other than White or Black                    O16      3\n",
       "10  Races other than White or Black                    O11      1\n",
       "20                            White                   O149     43\n",
       "24                            White                    O16     38\n",
       "23                            White                   O159     37\n",
       "21                            White                   O150     17\n",
       "19                            White                   O142     16"
      ]
     },
     "execution_count": 190,
     "metadata": {},
     "output_type": "execute_result"
    }
   ],
   "source": [
    "most_common_icd_10_code(df_eclampsia)"
   ]
  },
  {
   "cell_type": "markdown",
   "metadata": {},
   "source": [
    "Looking at the most common icd 10 codes per race, we don't see any signifcant trend.  We then decided to take a further look at the women with pre-elampsia and eclampsia, since we noticed in an earlier step that black women seem to die more from it when compared to other races.\n",
    "The number of deaths of Black Women in the top 3 categories is very high, considering that they represent a much smaller part of the population.\n",
    "As pre-elampsia and eclampsia are known high risk factors, maybe some of those deaths could be prevented. "
   ]
  },
  {
   "cell_type": "code",
   "execution_count": 191,
   "metadata": {},
   "outputs": [
    {
     "data": {
      "text/html": [
       "<div>\n",
       "<style scoped>\n",
       "    .dataframe tbody tr th:only-of-type {\n",
       "        vertical-align: middle;\n",
       "    }\n",
       "\n",
       "    .dataframe tbody tr th {\n",
       "        vertical-align: top;\n",
       "    }\n",
       "\n",
       "    .dataframe thead th {\n",
       "        text-align: right;\n",
       "    }\n",
       "</style>\n",
       "<table border=\"1\" class=\"dataframe\">\n",
       "  <thead>\n",
       "    <tr style=\"text-align: right;\">\n",
       "      <th></th>\n",
       "      <th>race_recode_3</th>\n",
       "      <th>icd_code_10th_revision</th>\n",
       "      <th>count</th>\n",
       "    </tr>\n",
       "  </thead>\n",
       "  <tbody>\n",
       "    <tr>\n",
       "      <th>51</th>\n",
       "      <td>Black</td>\n",
       "      <td>O268</td>\n",
       "      <td>387</td>\n",
       "    </tr>\n",
       "    <tr>\n",
       "      <th>119</th>\n",
       "      <td>Black</td>\n",
       "      <td>O998</td>\n",
       "      <td>196</td>\n",
       "    </tr>\n",
       "    <tr>\n",
       "      <th>115</th>\n",
       "      <td>Black</td>\n",
       "      <td>O994</td>\n",
       "      <td>167</td>\n",
       "    </tr>\n",
       "    <tr>\n",
       "      <th>100</th>\n",
       "      <td>Black</td>\n",
       "      <td>O960</td>\n",
       "      <td>159</td>\n",
       "    </tr>\n",
       "    <tr>\n",
       "      <th>95</th>\n",
       "      <td>Black</td>\n",
       "      <td>O903</td>\n",
       "      <td>151</td>\n",
       "    </tr>\n",
       "    <tr>\n",
       "      <th>141</th>\n",
       "      <td>Races other than White or Black</td>\n",
       "      <td>O268</td>\n",
       "      <td>64</td>\n",
       "    </tr>\n",
       "    <tr>\n",
       "      <th>184</th>\n",
       "      <td>Races other than White or Black</td>\n",
       "      <td>O998</td>\n",
       "      <td>39</td>\n",
       "    </tr>\n",
       "    <tr>\n",
       "      <th>171</th>\n",
       "      <td>Races other than White or Black</td>\n",
       "      <td>O960</td>\n",
       "      <td>36</td>\n",
       "    </tr>\n",
       "    <tr>\n",
       "      <th>172</th>\n",
       "      <td>Races other than White or Black</td>\n",
       "      <td>O961</td>\n",
       "      <td>28</td>\n",
       "    </tr>\n",
       "    <tr>\n",
       "      <th>182</th>\n",
       "      <td>Races other than White or Black</td>\n",
       "      <td>O994</td>\n",
       "      <td>25</td>\n",
       "    </tr>\n",
       "    <tr>\n",
       "      <th>228</th>\n",
       "      <td>White</td>\n",
       "      <td>O268</td>\n",
       "      <td>599</td>\n",
       "    </tr>\n",
       "    <tr>\n",
       "      <th>301</th>\n",
       "      <td>White</td>\n",
       "      <td>O998</td>\n",
       "      <td>494</td>\n",
       "    </tr>\n",
       "    <tr>\n",
       "      <th>281</th>\n",
       "      <td>White</td>\n",
       "      <td>O961</td>\n",
       "      <td>322</td>\n",
       "    </tr>\n",
       "    <tr>\n",
       "      <th>297</th>\n",
       "      <td>White</td>\n",
       "      <td>O994</td>\n",
       "      <td>220</td>\n",
       "    </tr>\n",
       "    <tr>\n",
       "      <th>280</th>\n",
       "      <td>White</td>\n",
       "      <td>O960</td>\n",
       "      <td>201</td>\n",
       "    </tr>\n",
       "  </tbody>\n",
       "</table>\n",
       "</div>"
      ],
      "text/plain": [
       "                       race_recode_3 icd_code_10th_revision  count\n",
       "51                             Black                   O268    387\n",
       "119                            Black                   O998    196\n",
       "115                            Black                   O994    167\n",
       "100                            Black                   O960    159\n",
       "95                             Black                   O903    151\n",
       "141  Races other than White or Black                   O268     64\n",
       "184  Races other than White or Black                   O998     39\n",
       "171  Races other than White or Black                   O960     36\n",
       "172  Races other than White or Black                   O961     28\n",
       "182  Races other than White or Black                   O994     25\n",
       "228                            White                   O268    599\n",
       "301                            White                   O998    494\n",
       "281                            White                   O961    322\n",
       "297                            White                   O994    220\n",
       "280                            White                   O960    201"
      ]
     },
     "execution_count": 191,
     "metadata": {},
     "output_type": "execute_result"
    }
   ],
   "source": [
    "most_common_icd_10_code(df_non_hispanic)"
   ]
  },
  {
   "cell_type": "code",
   "execution_count": 192,
   "metadata": {},
   "outputs": [],
   "source": [
    "df_eclampsia_non_hispanic = df[(df['358_causes_of_death'] == 'Eclampsia and pre-eclampsia') & (df[\"hispanic_origin\"] == \"Non – Hispanic\")]"
   ]
  },
  {
   "cell_type": "code",
   "execution_count": 193,
   "metadata": {},
   "outputs": [
    {
     "data": {
      "text/html": [
       "<div>\n",
       "<style scoped>\n",
       "    .dataframe tbody tr th:only-of-type {\n",
       "        vertical-align: middle;\n",
       "    }\n",
       "\n",
       "    .dataframe tbody tr th {\n",
       "        vertical-align: top;\n",
       "    }\n",
       "\n",
       "    .dataframe thead th {\n",
       "        text-align: right;\n",
       "    }\n",
       "</style>\n",
       "<table border=\"1\" class=\"dataframe\">\n",
       "  <thead>\n",
       "    <tr style=\"text-align: right;\">\n",
       "      <th></th>\n",
       "      <th>resident_status</th>\n",
       "      <th>level_of_education</th>\n",
       "      <th>month_of_death</th>\n",
       "      <th>age</th>\n",
       "      <th>place_of_death_patient_status</th>\n",
       "      <th>marital_status</th>\n",
       "      <th>day_of_week_of_death</th>\n",
       "      <th>year_data_collected</th>\n",
       "      <th>manner_of_death</th>\n",
       "      <th>was_autopsy_done</th>\n",
       "      <th>place_of_injury_for_icd_w00_y34_except_y06_and_y07_</th>\n",
       "      <th>icd_code_10th_revision</th>\n",
       "      <th>358_causes_of_death</th>\n",
       "      <th>113_causes_of_death</th>\n",
       "      <th>130_causes_of_infant_death</th>\n",
       "      <th>39_cause_recode</th>\n",
       "      <th>number_of_entity_axis_conditions</th>\n",
       "      <th>entity_condition_1</th>\n",
       "      <th>entity_condition_2</th>\n",
       "      <th>entity_condition_3</th>\n",
       "      <th>number_of_record_axis_conditions</th>\n",
       "      <th>record_condition_1</th>\n",
       "      <th>record_condition_2</th>\n",
       "      <th>record_condition_3</th>\n",
       "      <th>race</th>\n",
       "      <th>race_recode_3</th>\n",
       "      <th>race_recode_5</th>\n",
       "      <th>hispanic_origin</th>\n",
       "      <th>hispanic_originrace_recode</th>\n",
       "    </tr>\n",
       "  </thead>\n",
       "  <tbody>\n",
       "    <tr>\n",
       "      <th>7</th>\n",
       "      <td>RESIDENTS</td>\n",
       "      <td>Not Available</td>\n",
       "      <td>October</td>\n",
       "      <td>38</td>\n",
       "      <td>Hospital, clinic or Medical Center</td>\n",
       "      <td>Never married, Single</td>\n",
       "      <td>Saturday</td>\n",
       "      <td>2015</td>\n",
       "      <td>Could not determine</td>\n",
       "      <td>Yes</td>\n",
       "      <td>Not Available</td>\n",
       "      <td>O16</td>\n",
       "      <td>Eclampsia and pre-eclampsia</td>\n",
       "      <td>Other complications of pregnancy, childbirth a...</td>\n",
       "      <td>Not Available</td>\n",
       "      <td>Pregnancy, childbirth and the puerperium</td>\n",
       "      <td>4</td>\n",
       "      <td>11O268</td>\n",
       "      <td>21O992</td>\n",
       "      <td>31O998</td>\n",
       "      <td>2</td>\n",
       "      <td>O16</td>\n",
       "      <td>O268</td>\n",
       "      <td>Not Available</td>\n",
       "      <td>Black</td>\n",
       "      <td>Black</td>\n",
       "      <td>Black</td>\n",
       "      <td>Non – Hispanic</td>\n",
       "      <td>Non - Hispanic black</td>\n",
       "    </tr>\n",
       "    <tr>\n",
       "      <th>19</th>\n",
       "      <td>RESIDENTS</td>\n",
       "      <td>4.0</td>\n",
       "      <td>September</td>\n",
       "      <td>26</td>\n",
       "      <td>Hospital, clinic or Medical Center</td>\n",
       "      <td>Never married, Single</td>\n",
       "      <td>Sunday</td>\n",
       "      <td>2015</td>\n",
       "      <td>Natural</td>\n",
       "      <td>No</td>\n",
       "      <td>Not Available</td>\n",
       "      <td>O150</td>\n",
       "      <td>Eclampsia and pre-eclampsia</td>\n",
       "      <td>Other complications of pregnancy, childbirth a...</td>\n",
       "      <td>Not Available</td>\n",
       "      <td>Pregnancy, childbirth and the puerperium</td>\n",
       "      <td>2</td>\n",
       "      <td>11O159</td>\n",
       "      <td>21O16</td>\n",
       "      <td>Not Available</td>\n",
       "      <td>3</td>\n",
       "      <td>O150</td>\n",
       "      <td>O159</td>\n",
       "      <td>O16</td>\n",
       "      <td>White</td>\n",
       "      <td>White</td>\n",
       "      <td>White</td>\n",
       "      <td>Non – Hispanic</td>\n",
       "      <td>Non - Hispanic white</td>\n",
       "    </tr>\n",
       "    <tr>\n",
       "      <th>24</th>\n",
       "      <td>RESIDENTS</td>\n",
       "      <td>3.0</td>\n",
       "      <td>January</td>\n",
       "      <td>39</td>\n",
       "      <td>Hospital, clinic or Medical Center</td>\n",
       "      <td>Never married, Single</td>\n",
       "      <td>Thursday</td>\n",
       "      <td>2015</td>\n",
       "      <td>Natural</td>\n",
       "      <td>Yes</td>\n",
       "      <td>Not Available</td>\n",
       "      <td>O159</td>\n",
       "      <td>Eclampsia and pre-eclampsia</td>\n",
       "      <td>Other complications of pregnancy, childbirth a...</td>\n",
       "      <td>Not Available</td>\n",
       "      <td>Pregnancy, childbirth and the puerperium</td>\n",
       "      <td>1</td>\n",
       "      <td>11O159</td>\n",
       "      <td>Not Available</td>\n",
       "      <td>Not Available</td>\n",
       "      <td>1</td>\n",
       "      <td>O159</td>\n",
       "      <td>Not Available</td>\n",
       "      <td>Not Available</td>\n",
       "      <td>Black</td>\n",
       "      <td>Black</td>\n",
       "      <td>Black</td>\n",
       "      <td>Non – Hispanic</td>\n",
       "      <td>Non - Hispanic black</td>\n",
       "    </tr>\n",
       "    <tr>\n",
       "      <th>26</th>\n",
       "      <td>RESIDENTS</td>\n",
       "      <td>5.0</td>\n",
       "      <td>January</td>\n",
       "      <td>36</td>\n",
       "      <td>Hospital, clinic or Medical Center</td>\n",
       "      <td>Married</td>\n",
       "      <td>Friday</td>\n",
       "      <td>2015</td>\n",
       "      <td>Natural</td>\n",
       "      <td>Yes</td>\n",
       "      <td>Not Available</td>\n",
       "      <td>O149</td>\n",
       "      <td>Eclampsia and pre-eclampsia</td>\n",
       "      <td>Other complications of pregnancy, childbirth a...</td>\n",
       "      <td>Not Available</td>\n",
       "      <td>Pregnancy, childbirth and the puerperium</td>\n",
       "      <td>6</td>\n",
       "      <td>11O268</td>\n",
       "      <td>21O998</td>\n",
       "      <td>31O759</td>\n",
       "      <td>3</td>\n",
       "      <td>O149</td>\n",
       "      <td>O249</td>\n",
       "      <td>O268</td>\n",
       "      <td>White</td>\n",
       "      <td>White</td>\n",
       "      <td>White</td>\n",
       "      <td>Non – Hispanic</td>\n",
       "      <td>Non - Hispanic white</td>\n",
       "    </tr>\n",
       "    <tr>\n",
       "      <th>31</th>\n",
       "      <td>RESIDENTS</td>\n",
       "      <td>no education item on certificate</td>\n",
       "      <td>April</td>\n",
       "      <td>29</td>\n",
       "      <td>Hospital, clinic or Medical Center</td>\n",
       "      <td>Never married, Single</td>\n",
       "      <td>Sunday</td>\n",
       "      <td>2015</td>\n",
       "      <td>Natural</td>\n",
       "      <td>Yes</td>\n",
       "      <td>Not Available</td>\n",
       "      <td>O16</td>\n",
       "      <td>Eclampsia and pre-eclampsia</td>\n",
       "      <td>Other complications of pregnancy, childbirth a...</td>\n",
       "      <td>Not Available</td>\n",
       "      <td>Pregnancy, childbirth and the puerperium</td>\n",
       "      <td>1</td>\n",
       "      <td>11O16</td>\n",
       "      <td>Not Available</td>\n",
       "      <td>Not Available</td>\n",
       "      <td>1</td>\n",
       "      <td>O16</td>\n",
       "      <td>Not Available</td>\n",
       "      <td>Not Available</td>\n",
       "      <td>American Indian (includes Aleuts and Eskimos)</td>\n",
       "      <td>Races other than White or Black</td>\n",
       "      <td>American Indian</td>\n",
       "      <td>Non – Hispanic</td>\n",
       "      <td>Non - Hispanic other races</td>\n",
       "    </tr>\n",
       "    <tr>\n",
       "      <th>...</th>\n",
       "      <td>...</td>\n",
       "      <td>...</td>\n",
       "      <td>...</td>\n",
       "      <td>...</td>\n",
       "      <td>...</td>\n",
       "      <td>...</td>\n",
       "      <td>...</td>\n",
       "      <td>...</td>\n",
       "      <td>...</td>\n",
       "      <td>...</td>\n",
       "      <td>...</td>\n",
       "      <td>...</td>\n",
       "      <td>...</td>\n",
       "      <td>...</td>\n",
       "      <td>...</td>\n",
       "      <td>...</td>\n",
       "      <td>...</td>\n",
       "      <td>...</td>\n",
       "      <td>...</td>\n",
       "      <td>...</td>\n",
       "      <td>...</td>\n",
       "      <td>...</td>\n",
       "      <td>...</td>\n",
       "      <td>...</td>\n",
       "      <td>...</td>\n",
       "      <td>...</td>\n",
       "      <td>...</td>\n",
       "      <td>...</td>\n",
       "      <td>...</td>\n",
       "    </tr>\n",
       "    <tr>\n",
       "      <th>7064</th>\n",
       "      <td>RESIDENTS</td>\n",
       "      <td>6.0</td>\n",
       "      <td>July</td>\n",
       "      <td>37</td>\n",
       "      <td>Hospital, clinic or Medical Center</td>\n",
       "      <td>Married</td>\n",
       "      <td>Sunday</td>\n",
       "      <td>2009</td>\n",
       "      <td>Natural</td>\n",
       "      <td>No</td>\n",
       "      <td>Not Available</td>\n",
       "      <td>O149</td>\n",
       "      <td>Eclampsia and pre-eclampsia</td>\n",
       "      <td>Other complications of pregnancy, childbirth a...</td>\n",
       "      <td>Not Available</td>\n",
       "      <td>Pregnancy, childbirth and the puerperium</td>\n",
       "      <td>3</td>\n",
       "      <td>11O994</td>\n",
       "      <td>21O994</td>\n",
       "      <td>31O149</td>\n",
       "      <td>1</td>\n",
       "      <td>O149</td>\n",
       "      <td>Not Available</td>\n",
       "      <td>Not Available</td>\n",
       "      <td>White</td>\n",
       "      <td>White</td>\n",
       "      <td>White</td>\n",
       "      <td>Non – Hispanic</td>\n",
       "      <td>Non - Hispanic white</td>\n",
       "    </tr>\n",
       "    <tr>\n",
       "      <th>7075</th>\n",
       "      <td>RESIDENTS</td>\n",
       "      <td>Not Available</td>\n",
       "      <td>May</td>\n",
       "      <td>35</td>\n",
       "      <td>Hospital, clinic or Medical Center</td>\n",
       "      <td>Married</td>\n",
       "      <td>Thursday</td>\n",
       "      <td>2009</td>\n",
       "      <td>Natural</td>\n",
       "      <td>Yes</td>\n",
       "      <td>Not Available</td>\n",
       "      <td>O149</td>\n",
       "      <td>Eclampsia and pre-eclampsia</td>\n",
       "      <td>Other complications of pregnancy, childbirth a...</td>\n",
       "      <td>Not Available</td>\n",
       "      <td>Pregnancy, childbirth and the puerperium</td>\n",
       "      <td>3</td>\n",
       "      <td>11O149</td>\n",
       "      <td>61O249</td>\n",
       "      <td>62O992</td>\n",
       "      <td>2</td>\n",
       "      <td>O149</td>\n",
       "      <td>O249</td>\n",
       "      <td>Not Available</td>\n",
       "      <td>White</td>\n",
       "      <td>White</td>\n",
       "      <td>White</td>\n",
       "      <td>Non – Hispanic</td>\n",
       "      <td>Non - Hispanic white</td>\n",
       "    </tr>\n",
       "    <tr>\n",
       "      <th>7084</th>\n",
       "      <td>INTRASTATE NONRESIDENTS</td>\n",
       "      <td>Not Available</td>\n",
       "      <td>August</td>\n",
       "      <td>20</td>\n",
       "      <td>Hospital, clinic or Medical Center</td>\n",
       "      <td>Never married, Single</td>\n",
       "      <td>Saturday</td>\n",
       "      <td>2009</td>\n",
       "      <td>Natural</td>\n",
       "      <td>Yes</td>\n",
       "      <td>Not Available</td>\n",
       "      <td>O141</td>\n",
       "      <td>Eclampsia and pre-eclampsia</td>\n",
       "      <td>Other complications of pregnancy, childbirth a...</td>\n",
       "      <td>Not Available</td>\n",
       "      <td>Pregnancy, childbirth and the puerperium</td>\n",
       "      <td>5</td>\n",
       "      <td>11O991</td>\n",
       "      <td>21O998</td>\n",
       "      <td>31O141</td>\n",
       "      <td>2</td>\n",
       "      <td>O141</td>\n",
       "      <td>O903</td>\n",
       "      <td>Not Available</td>\n",
       "      <td>White</td>\n",
       "      <td>White</td>\n",
       "      <td>White</td>\n",
       "      <td>Non – Hispanic</td>\n",
       "      <td>Non - Hispanic white</td>\n",
       "    </tr>\n",
       "    <tr>\n",
       "      <th>7115</th>\n",
       "      <td>INTRASTATE NONRESIDENTS</td>\n",
       "      <td>3.0</td>\n",
       "      <td>June</td>\n",
       "      <td>25</td>\n",
       "      <td>Hospital, clinic or Medical Center</td>\n",
       "      <td>Never married, Single</td>\n",
       "      <td>Tuesday</td>\n",
       "      <td>2009</td>\n",
       "      <td>Natural</td>\n",
       "      <td>Yes</td>\n",
       "      <td>Not Available</td>\n",
       "      <td>O11</td>\n",
       "      <td>Eclampsia and pre-eclampsia</td>\n",
       "      <td>Other complications of pregnancy, childbirth a...</td>\n",
       "      <td>Not Available</td>\n",
       "      <td>Pregnancy, childbirth and the puerperium</td>\n",
       "      <td>4</td>\n",
       "      <td>11O995</td>\n",
       "      <td>61O149</td>\n",
       "      <td>62O101</td>\n",
       "      <td>1</td>\n",
       "      <td>O11</td>\n",
       "      <td>Not Available</td>\n",
       "      <td>Not Available</td>\n",
       "      <td>Black</td>\n",
       "      <td>Black</td>\n",
       "      <td>Black</td>\n",
       "      <td>Non – Hispanic</td>\n",
       "      <td>Non - Hispanic black</td>\n",
       "    </tr>\n",
       "    <tr>\n",
       "      <th>7130</th>\n",
       "      <td>RESIDENTS</td>\n",
       "      <td>4.0</td>\n",
       "      <td>October</td>\n",
       "      <td>27</td>\n",
       "      <td>Hospital, clinic or Medical Center</td>\n",
       "      <td>Married</td>\n",
       "      <td>Thursday</td>\n",
       "      <td>2009</td>\n",
       "      <td>Natural</td>\n",
       "      <td>No</td>\n",
       "      <td>Not Available</td>\n",
       "      <td>O149</td>\n",
       "      <td>Eclampsia and pre-eclampsia</td>\n",
       "      <td>Other complications of pregnancy, childbirth a...</td>\n",
       "      <td>Not Available</td>\n",
       "      <td>Pregnancy, childbirth and the puerperium</td>\n",
       "      <td>2</td>\n",
       "      <td>11O149</td>\n",
       "      <td>12O759</td>\n",
       "      <td>Not Available</td>\n",
       "      <td>1</td>\n",
       "      <td>O149</td>\n",
       "      <td>Not Available</td>\n",
       "      <td>Not Available</td>\n",
       "      <td>Black</td>\n",
       "      <td>Black</td>\n",
       "      <td>Black</td>\n",
       "      <td>Non – Hispanic</td>\n",
       "      <td>Non - Hispanic black</td>\n",
       "    </tr>\n",
       "  </tbody>\n",
       "</table>\n",
       "<p>295 rows × 29 columns</p>\n",
       "</div>"
      ],
      "text/plain": [
       "              resident_status                level_of_education  \\\n",
       "7                   RESIDENTS                     Not Available   \n",
       "19                  RESIDENTS                               4.0   \n",
       "24                  RESIDENTS                               3.0   \n",
       "26                  RESIDENTS                               5.0   \n",
       "31                  RESIDENTS  no education item on certificate   \n",
       "...                       ...                               ...   \n",
       "7064                RESIDENTS                               6.0   \n",
       "7075                RESIDENTS                     Not Available   \n",
       "7084  INTRASTATE NONRESIDENTS                     Not Available   \n",
       "7115  INTRASTATE NONRESIDENTS                               3.0   \n",
       "7130                RESIDENTS                               4.0   \n",
       "\n",
       "     month_of_death  age       place_of_death_patient_status  \\\n",
       "7           October   38  Hospital, clinic or Medical Center   \n",
       "19        September   26  Hospital, clinic or Medical Center   \n",
       "24          January   39  Hospital, clinic or Medical Center   \n",
       "26          January   36  Hospital, clinic or Medical Center   \n",
       "31            April   29  Hospital, clinic or Medical Center   \n",
       "...             ...  ...                                 ...   \n",
       "7064           July   37  Hospital, clinic or Medical Center   \n",
       "7075            May   35  Hospital, clinic or Medical Center   \n",
       "7084         August   20  Hospital, clinic or Medical Center   \n",
       "7115           June   25  Hospital, clinic or Medical Center   \n",
       "7130        October   27  Hospital, clinic or Medical Center   \n",
       "\n",
       "             marital_status day_of_week_of_death  year_data_collected  \\\n",
       "7     Never married, Single             Saturday                 2015   \n",
       "19    Never married, Single               Sunday                 2015   \n",
       "24    Never married, Single             Thursday                 2015   \n",
       "26                  Married               Friday                 2015   \n",
       "31    Never married, Single               Sunday                 2015   \n",
       "...                     ...                  ...                  ...   \n",
       "7064                Married               Sunday                 2009   \n",
       "7075                Married             Thursday                 2009   \n",
       "7084  Never married, Single             Saturday                 2009   \n",
       "7115  Never married, Single              Tuesday                 2009   \n",
       "7130                Married             Thursday                 2009   \n",
       "\n",
       "          manner_of_death was_autopsy_done  \\\n",
       "7     Could not determine              Yes   \n",
       "19                Natural               No   \n",
       "24                Natural              Yes   \n",
       "26                Natural              Yes   \n",
       "31                Natural              Yes   \n",
       "...                   ...              ...   \n",
       "7064              Natural               No   \n",
       "7075              Natural              Yes   \n",
       "7084              Natural              Yes   \n",
       "7115              Natural              Yes   \n",
       "7130              Natural               No   \n",
       "\n",
       "     place_of_injury_for_icd_w00_y34_except_y06_and_y07_  \\\n",
       "7                                         Not Available    \n",
       "19                                        Not Available    \n",
       "24                                        Not Available    \n",
       "26                                        Not Available    \n",
       "31                                        Not Available    \n",
       "...                                                 ...    \n",
       "7064                                      Not Available    \n",
       "7075                                      Not Available    \n",
       "7084                                      Not Available    \n",
       "7115                                      Not Available    \n",
       "7130                                      Not Available    \n",
       "\n",
       "     icd_code_10th_revision          358_causes_of_death  \\\n",
       "7                       O16  Eclampsia and pre-eclampsia   \n",
       "19                     O150  Eclampsia and pre-eclampsia   \n",
       "24                     O159  Eclampsia and pre-eclampsia   \n",
       "26                     O149  Eclampsia and pre-eclampsia   \n",
       "31                      O16  Eclampsia and pre-eclampsia   \n",
       "...                     ...                          ...   \n",
       "7064                   O149  Eclampsia and pre-eclampsia   \n",
       "7075                   O149  Eclampsia and pre-eclampsia   \n",
       "7084                   O141  Eclampsia and pre-eclampsia   \n",
       "7115                    O11  Eclampsia and pre-eclampsia   \n",
       "7130                   O149  Eclampsia and pre-eclampsia   \n",
       "\n",
       "                                    113_causes_of_death  \\\n",
       "7     Other complications of pregnancy, childbirth a...   \n",
       "19    Other complications of pregnancy, childbirth a...   \n",
       "24    Other complications of pregnancy, childbirth a...   \n",
       "26    Other complications of pregnancy, childbirth a...   \n",
       "31    Other complications of pregnancy, childbirth a...   \n",
       "...                                                 ...   \n",
       "7064  Other complications of pregnancy, childbirth a...   \n",
       "7075  Other complications of pregnancy, childbirth a...   \n",
       "7084  Other complications of pregnancy, childbirth a...   \n",
       "7115  Other complications of pregnancy, childbirth a...   \n",
       "7130  Other complications of pregnancy, childbirth a...   \n",
       "\n",
       "     130_causes_of_infant_death                           39_cause_recode  \\\n",
       "7                 Not Available  Pregnancy, childbirth and the puerperium   \n",
       "19                Not Available  Pregnancy, childbirth and the puerperium   \n",
       "24                Not Available  Pregnancy, childbirth and the puerperium   \n",
       "26                Not Available  Pregnancy, childbirth and the puerperium   \n",
       "31                Not Available  Pregnancy, childbirth and the puerperium   \n",
       "...                         ...                                       ...   \n",
       "7064              Not Available  Pregnancy, childbirth and the puerperium   \n",
       "7075              Not Available  Pregnancy, childbirth and the puerperium   \n",
       "7084              Not Available  Pregnancy, childbirth and the puerperium   \n",
       "7115              Not Available  Pregnancy, childbirth and the puerperium   \n",
       "7130              Not Available  Pregnancy, childbirth and the puerperium   \n",
       "\n",
       "      number_of_entity_axis_conditions entity_condition_1 entity_condition_2  \\\n",
       "7                                    4             11O268             21O992   \n",
       "19                                   2             11O159              21O16   \n",
       "24                                   1             11O159      Not Available   \n",
       "26                                   6             11O268             21O998   \n",
       "31                                   1              11O16      Not Available   \n",
       "...                                ...                ...                ...   \n",
       "7064                                 3             11O994             21O994   \n",
       "7075                                 3             11O149             61O249   \n",
       "7084                                 5             11O991             21O998   \n",
       "7115                                 4             11O995             61O149   \n",
       "7130                                 2             11O149             12O759   \n",
       "\n",
       "     entity_condition_3  number_of_record_axis_conditions record_condition_1  \\\n",
       "7                31O998                                 2                O16   \n",
       "19        Not Available                                 3               O150   \n",
       "24        Not Available                                 1               O159   \n",
       "26               31O759                                 3               O149   \n",
       "31        Not Available                                 1                O16   \n",
       "...                 ...                               ...                ...   \n",
       "7064             31O149                                 1               O149   \n",
       "7075             62O992                                 2               O149   \n",
       "7084             31O141                                 2               O141   \n",
       "7115             62O101                                 1                O11   \n",
       "7130      Not Available                                 1               O149   \n",
       "\n",
       "     record_condition_2 record_condition_3  \\\n",
       "7                  O268      Not Available   \n",
       "19                 O159                O16   \n",
       "24        Not Available      Not Available   \n",
       "26                 O249               O268   \n",
       "31        Not Available      Not Available   \n",
       "...                 ...                ...   \n",
       "7064      Not Available      Not Available   \n",
       "7075               O249      Not Available   \n",
       "7084               O903      Not Available   \n",
       "7115      Not Available      Not Available   \n",
       "7130      Not Available      Not Available   \n",
       "\n",
       "                                               race  \\\n",
       "7                                             Black   \n",
       "19                                            White   \n",
       "24                                            Black   \n",
       "26                                            White   \n",
       "31    American Indian (includes Aleuts and Eskimos)   \n",
       "...                                             ...   \n",
       "7064                                          White   \n",
       "7075                                          White   \n",
       "7084                                          White   \n",
       "7115                                          Black   \n",
       "7130                                          Black   \n",
       "\n",
       "                        race_recode_3    race_recode_5 hispanic_origin  \\\n",
       "7                               Black            Black  Non – Hispanic   \n",
       "19                              White            White  Non – Hispanic   \n",
       "24                              Black            Black  Non – Hispanic   \n",
       "26                              White            White  Non – Hispanic   \n",
       "31    Races other than White or Black  American Indian  Non – Hispanic   \n",
       "...                               ...              ...             ...   \n",
       "7064                            White            White  Non – Hispanic   \n",
       "7075                            White            White  Non – Hispanic   \n",
       "7084                            White            White  Non – Hispanic   \n",
       "7115                            Black            Black  Non – Hispanic   \n",
       "7130                            Black            Black  Non – Hispanic   \n",
       "\n",
       "      hispanic_originrace_recode  \n",
       "7           Non - Hispanic black  \n",
       "19          Non - Hispanic white  \n",
       "24          Non - Hispanic black  \n",
       "26          Non - Hispanic white  \n",
       "31    Non - Hispanic other races  \n",
       "...                          ...  \n",
       "7064        Non - Hispanic white  \n",
       "7075        Non - Hispanic white  \n",
       "7084        Non - Hispanic white  \n",
       "7115        Non - Hispanic black  \n",
       "7130        Non - Hispanic black  \n",
       "\n",
       "[295 rows x 29 columns]"
      ]
     },
     "execution_count": 193,
     "metadata": {},
     "output_type": "execute_result"
    }
   ],
   "source": [
    "df_eclampsia_non_hispanic"
   ]
  },
  {
   "cell_type": "code",
   "execution_count": 194,
   "metadata": {
    "scrolled": true
   },
   "outputs": [
    {
     "data": {
      "text/html": [
       "<div>\n",
       "<style scoped>\n",
       "    .dataframe tbody tr th:only-of-type {\n",
       "        vertical-align: middle;\n",
       "    }\n",
       "\n",
       "    .dataframe tbody tr th {\n",
       "        vertical-align: top;\n",
       "    }\n",
       "\n",
       "    .dataframe thead th {\n",
       "        text-align: right;\n",
       "    }\n",
       "</style>\n",
       "<table border=\"1\" class=\"dataframe\">\n",
       "  <thead>\n",
       "    <tr style=\"text-align: right;\">\n",
       "      <th></th>\n",
       "      <th>race_recode_3</th>\n",
       "      <th>icd_code_10th_revision</th>\n",
       "      <th>count</th>\n",
       "    </tr>\n",
       "  </thead>\n",
       "  <tbody>\n",
       "    <tr>\n",
       "      <th>9</th>\n",
       "      <td>Black</td>\n",
       "      <td>O16</td>\n",
       "      <td>42</td>\n",
       "    </tr>\n",
       "    <tr>\n",
       "      <th>5</th>\n",
       "      <td>Black</td>\n",
       "      <td>O149</td>\n",
       "      <td>38</td>\n",
       "    </tr>\n",
       "    <tr>\n",
       "      <th>8</th>\n",
       "      <td>Black</td>\n",
       "      <td>O159</td>\n",
       "      <td>33</td>\n",
       "    </tr>\n",
       "    <tr>\n",
       "      <th>4</th>\n",
       "      <td>Black</td>\n",
       "      <td>O142</td>\n",
       "      <td>10</td>\n",
       "    </tr>\n",
       "    <tr>\n",
       "      <th>3</th>\n",
       "      <td>Black</td>\n",
       "      <td>O141</td>\n",
       "      <td>6</td>\n",
       "    </tr>\n",
       "    <tr>\n",
       "      <th>13</th>\n",
       "      <td>Races other than White or Black</td>\n",
       "      <td>O149</td>\n",
       "      <td>5</td>\n",
       "    </tr>\n",
       "    <tr>\n",
       "      <th>14</th>\n",
       "      <td>Races other than White or Black</td>\n",
       "      <td>O159</td>\n",
       "      <td>4</td>\n",
       "    </tr>\n",
       "    <tr>\n",
       "      <th>12</th>\n",
       "      <td>Races other than White or Black</td>\n",
       "      <td>O142</td>\n",
       "      <td>3</td>\n",
       "    </tr>\n",
       "    <tr>\n",
       "      <th>15</th>\n",
       "      <td>Races other than White or Black</td>\n",
       "      <td>O16</td>\n",
       "      <td>3</td>\n",
       "    </tr>\n",
       "    <tr>\n",
       "      <th>10</th>\n",
       "      <td>Races other than White or Black</td>\n",
       "      <td>O11</td>\n",
       "      <td>1</td>\n",
       "    </tr>\n",
       "    <tr>\n",
       "      <th>24</th>\n",
       "      <td>White</td>\n",
       "      <td>O16</td>\n",
       "      <td>31</td>\n",
       "    </tr>\n",
       "    <tr>\n",
       "      <th>20</th>\n",
       "      <td>White</td>\n",
       "      <td>O149</td>\n",
       "      <td>30</td>\n",
       "    </tr>\n",
       "    <tr>\n",
       "      <th>23</th>\n",
       "      <td>White</td>\n",
       "      <td>O159</td>\n",
       "      <td>24</td>\n",
       "    </tr>\n",
       "    <tr>\n",
       "      <th>21</th>\n",
       "      <td>White</td>\n",
       "      <td>O150</td>\n",
       "      <td>13</td>\n",
       "    </tr>\n",
       "    <tr>\n",
       "      <th>19</th>\n",
       "      <td>White</td>\n",
       "      <td>O142</td>\n",
       "      <td>10</td>\n",
       "    </tr>\n",
       "  </tbody>\n",
       "</table>\n",
       "</div>"
      ],
      "text/plain": [
       "                      race_recode_3 icd_code_10th_revision  count\n",
       "9                             Black                    O16     42\n",
       "5                             Black                   O149     38\n",
       "8                             Black                   O159     33\n",
       "4                             Black                   O142     10\n",
       "3                             Black                   O141      6\n",
       "13  Races other than White or Black                   O149      5\n",
       "14  Races other than White or Black                   O159      4\n",
       "12  Races other than White or Black                   O142      3\n",
       "15  Races other than White or Black                    O16      3\n",
       "10  Races other than White or Black                    O11      1\n",
       "24                            White                    O16     31\n",
       "20                            White                   O149     30\n",
       "23                            White                   O159     24\n",
       "21                            White                   O150     13\n",
       "19                            White                   O142     10"
      ]
     },
     "execution_count": 194,
     "metadata": {},
     "output_type": "execute_result"
    }
   ],
   "source": [
    "most_common_icd_10_code(df_eclampsia_non_hispanic)"
   ]
  },
  {
   "cell_type": "markdown",
   "metadata": {},
   "source": [
    "---"
   ]
  },
  {
   "cell_type": "code",
   "execution_count": 195,
   "metadata": {
    "scrolled": true
   },
   "outputs": [
    {
     "data": {
      "text/plain": [
       "count     7135\n",
       "unique      10\n",
       "top        3.0\n",
       "freq      2381\n",
       "Name: level_of_education, dtype: object"
      ]
     },
     "execution_count": 195,
     "metadata": {},
     "output_type": "execute_result"
    }
   ],
   "source": [
    "df['level_of_education'].describe()"
   ]
  },
  {
   "cell_type": "code",
   "execution_count": 196,
   "metadata": {},
   "outputs": [
    {
     "data": {
      "text/plain": [
       "array(['Not Available', '4.0', 'no education item on certificate', '3.0',\n",
       "       '5.0', '2003 revision of education item on certificate', '9.0',\n",
       "       '6.0', '7.0', '8.0'], dtype=object)"
      ]
     },
     "execution_count": 196,
     "metadata": {},
     "output_type": "execute_result"
    }
   ],
   "source": [
    "df['level_of_education'].unique()"
   ]
  }
 ],
 "metadata": {
  "kernelspec": {
   "display_name": "Python 3",
   "language": "python",
   "name": "python3"
  },
  "language_info": {
   "codemirror_mode": {
    "name": "ipython",
    "version": 3
   },
   "file_extension": ".py",
   "mimetype": "text/x-python",
   "name": "python",
   "nbconvert_exporter": "python",
   "pygments_lexer": "ipython3",
   "version": "3.8.3"
  },
  "varInspector": {
   "cols": {
    "lenName": 16,
    "lenType": 16,
    "lenVar": 40
   },
   "kernels_config": {
    "python": {
     "delete_cmd_postfix": "",
     "delete_cmd_prefix": "del ",
     "library": "var_list.py",
     "varRefreshCmd": "print(var_dic_list())"
    },
    "r": {
     "delete_cmd_postfix": ") ",
     "delete_cmd_prefix": "rm(",
     "library": "var_list.r",
     "varRefreshCmd": "cat(var_dic_list()) "
    }
   },
   "types_to_exclude": [
    "module",
    "function",
    "builtin_function_or_method",
    "instance",
    "_Feature"
   ],
   "window_display": false
  }
 },
 "nbformat": 4,
 "nbformat_minor": 4
}
