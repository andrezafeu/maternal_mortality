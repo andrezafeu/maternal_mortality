{
 "cells": [
  {
   "cell_type": "code",
   "execution_count": null,
   "metadata": {},
   "outputs": [],
   "source": [
    "import pandas as pd"
   ]
  },
  {
   "cell_type": "code",
   "execution_count": null,
   "metadata": {},
   "outputs": [],
   "source": [
    "def read_csv_from_dropbox(dropbox_link):\n",
    "    path = dropbox_link[0:-1] + \"1\"\n",
    "    df = pd.read_csv(path)\n",
    "    return df"
   ]
  },
  {
   "cell_type": "code",
   "execution_count": null,
   "metadata": {},
   "outputs": [],
   "source": [
    "import numpy as np\n",
    "\n",
    "df1 = read_csv_from_dropbox(\"https://www.dropbox.com/s/3efamu1exn2pnx5/2015_data.csv?dl=0\")\n",
    "# df2 = read_csv_from_dropbox(\"https://www.dropbox.com/s/jdt0shvcz88ryt4/2014_data.csv?dl=0\")\n",
    "# df3 = read_csv_from_dropbox(\"https://www.dropbox.com/s/1jo0kmtgnbymopt/2013_data.csv?dl=0\")"
   ]
  },
  {
   "cell_type": "code",
   "execution_count": null,
   "metadata": {},
   "outputs": [],
   "source": [
    "df1"
   ]
  },
  {
   "cell_type": "code",
   "execution_count": null,
   "metadata": {},
   "outputs": [],
   "source": [
    "df = pd.concat([df1, df2,df3], axis=0, join='inner')"
   ]
  },
  {
   "cell_type": "code",
   "execution_count": null,
   "metadata": {},
   "outputs": [],
   "source": [
    "df['current_data_year']"
   ]
  },
  {
   "cell_type": "code",
   "execution_count": null,
   "metadata": {},
   "outputs": [],
   "source": [
    "df.head"
   ]
  },
  {
   "cell_type": "code",
   "execution_count": null,
   "metadata": {},
   "outputs": [],
   "source": [
    "display(list(df.columns.values))"
   ]
  },
  {
   "cell_type": "code",
   "execution_count": null,
   "metadata": {},
   "outputs": [],
   "source": [
    "# Drop all males \n",
    "\n",
    "df_cleaned = df.loc[df[\"sex\"] != \"M\"]\n",
    "# Nancy to filter/drop rows with irrelevant ICD codes.  We just want O00-O99 at the moment"
   ]
  },
  {
   "cell_type": "code",
   "execution_count": null,
   "metadata": {
    "scrolled": true
   },
   "outputs": [],
   "source": [
    "df_cleaned"
   ]
  },
  {
   "cell_type": "code",
   "execution_count": null,
   "metadata": {},
   "outputs": [],
   "source": [
    "# make sure all records with icd code O00-O99 is female before dropping sex column"
   ]
  },
  {
   "cell_type": "code",
   "execution_count": null,
   "metadata": {},
   "outputs": [],
   "source": [
    "#drop columns\n",
    "df_cleaned = df.drop(['education_1989_revision','education_reporting_flag','detail_age_type',\n",
    "                      'age_substitution_flag','age_recode_52','age_recode_27','age_recode_12',\n",
    "                      'infant_age_recode_22','injury_at_work','method_of_disposition','entity_condition_6',\n",
    "                      'entity_condition_7','entity_condition_8','entity_condition_9','entity_condition_10',\n",
    "                      'entity_condition_11','entity_condition_12','entity_condition_13','entity_condition_14',\n",
    "                      'entity_condition_15','entity_condition_16','entity_condition_17','entity_condition_18',\n",
    "                      'entity_condition_19','entity_condition_20','record_condition_6','record_condition_7',\n",
    "                      'record_condition_8','record_condition_9','record_condition_10','record_condition_11',\n",
    "                      'record_condition_12','record_condition_13','record_condition_14','record_condition_15',\n",
    "                      'record_condition_16','record_condition_17','record_condition_18','record_condition_19',\n",
    "                      'record_condition_20','bridged_race_flag','race_imputation_flag', 'activity_code', 'sex'], axis = 1)\n"
   ]
  },
  {
   "cell_type": "code",
   "execution_count": null,
   "metadata": {},
   "outputs": [],
   "source": [
    "print(df_cleaned.isnull().sum() / len(df))"
   ]
  },
  {
   "cell_type": "code",
   "execution_count": null,
   "metadata": {},
   "outputs": [],
   "source": [
    "# Nancy to fill empty values with and visualize the data to make sure code code didn't break the data).\n",
    "# Missing values can be filled with 'na' => .fillna()"
   ]
  },
  {
   "cell_type": "code",
   "execution_count": null,
   "metadata": {},
   "outputs": [],
   "source": [
    "# create replacement dictionaries to fill in values from years 2013 to 2015\n",
    "# change the type of column values. => .astype()\n",
    "\n",
    "# natasha to do from resident_status to marital_status (skip sex field)\n",
    "# mariel to do from day_of_week_of_death to icd_code_10th_revision\n",
    "# razan to do from 358_cause_recode to entity_condition_2\n",
    "# valentina to do from entity_condition_3 to record_condition_3\n",
    "# andreza to do from record_condition_4 to hispanic_originrace_recode"
   ]
  },
  {
   "cell_type": "code",
   "execution_count": null,
   "metadata": {},
   "outputs": [],
   "source": [
    "# dictionary for 2015 of first six columns\n",
    "\n",
    "\n",
    "\n",
    "resident_status2015_dict= {1:\"RESIDENTS\",\n",
    "                           2:\"INTRASTATE NONRESIDENTS\",\n",
    "                           3: \"INSTRASTATE NONRESIDENTS\",\n",
    "                           4: \"FOREIGN RESIDENTS\"}\n",
    "\n",
    "\n",
    "education_2003_revision_dict= {0: \"1989 revision of education item on certificate\",\n",
    "                           1: \"2003 revision of education item on dertificate\",\n",
    "                           2: \"no education item on certificate\"} \n",
    "\n",
    "# month_of_death_dict= {10: \"October\",\n",
    "#                  11: \"November\",\n",
    "#                  12: \"December\",\n",
    "#                  0o1: \"January\", \n",
    "#                  0o2: \"February\",\n",
    "#                  0o3: \"March\",\n",
    "#                  0o4: \"April\",\n",
    "#                  0o5:  \"May\",\n",
    "#                  0o6:  \"June\",\n",
    "#                  0o7:  \"July\",\n",
    "#                  0o08: \"August\",\n",
    "#                  0o09:\"September\"}\n",
    "\n",
    "detail_age_dict= {1: \"Years\",\n",
    "             2: \"Months\",\n",
    "             4: \"Days\",\n",
    "             5: \"Hours\",\n",
    "             6: \"Minutes\",\n",
    "             9: \"NaN\"}\n",
    "\n",
    "place_of_death_and_descendents_status_dict= {1: \"Hospital, clinic or Medical Center\",\n",
    "                                        2: \"Hospital, clinic or Medical Center\",\n",
    "                                        3: \"Hospital, clinc or Medical Center\",\n",
    "                                        4: \"Hospital, clinic or Medical Center\",\n",
    "                                        5: \"Descendent's home\",\n",
    "                                        6: \"Nursing home/long term care\",\n",
    "                                        7: \"Other\",\n",
    "                                        9: \"Place of death unknown\"}\n",
    "\n",
    "# marital_status_dict= {S: \"Never married, single\",\n",
    "#                  M: \"Married\",\n",
    "#                  w: \"Widowed\",\n",
    "#                  D: \"Tuesday\",\n",
    "#                  U: \"Marital Status unknown\"}\n",
    "    "
   ]
  },
  {
   "cell_type": "code",
   "execution_count": null,
   "metadata": {},
   "outputs": [],
   "source": [
    "#number_of_entity_axis_conditions, entity_condition_1, entity_condition_2 are not present             \n",
    "\n",
    "_358_cause_recode_dict = {\n",
    "    339 : \"Pregnancy, childbirth and the puerperium\",\n",
    "    340 : \"Pregnancy with abortive outcome\",\n",
    "    341 : \"Ectopic pregnancy\",\n",
    "    342 : \"Spontaneous abortion\",\n",
    "    343 : \"Medical abortion\",\n",
    "    344 : \"Other abortion\",\n",
    "    345 : \"Other and unspecified pregnancy with abortive outcome\",\n",
    "    346 : \"Other direct obstetric deaths\",\n",
    "    347 : \"Eclampsia and pre-eclampsia\",\n",
    "    348 : \"Hemorrhage of pregnancy and childbirth and placenta previa\",\n",
    "    349 : \"Complications predominately related to the puerperium\",\n",
    "    350 : \"Obstetric embolism (O88)\",\n",
    "    351 : \"Other complications predominately related to the puerperium\",\n",
    "    352 : \"All other direct obstetric causes\",\n",
    "    353 : \"Obstetric death of unspecified cause\",\n",
    "    354 : \"Other deaths related to pregnancy, childbirth and the puerperium\",\n",
    "    355 : \"Indirect obstetric deaths\",\n",
    "    356 : \"Certain conditions originating in the perinatal period\",\n",
    "    357 : \"Newborn affected by maternal factors and by complications of pregnancy, labor and delivery\",\n",
    "    358 : \"Disorders related to short gestation and low birth weight, not elsewhere classified\",\n",
    "    359 : \"Birth trauma\",\n",
    "    360 : \"Intrauterine hypoxia and birth asphyxia\",\n",
    "    361 : \"Respiratory distress of newborn\",\n",
    "    362 : \"Other respiratory conditions originating in the perinatal period\",\n",
    "    363 : \"Infections specific to the perinatal period\",\n",
    "    364 : \"Other and unspecified conditions originating in the perinatal period\"}\n",
    "\n",
    "_113_cause_recode_dict = {\n",
    "    105 : \"Pregnancy, childbirth and the puerperium\",\n",
    "    106 : \"Pregnancy with abortive outcome\",\n",
    "    107 : \"Other complications of pregnancy, childbirth and the puerperium\", \n",
    "    108 : \"Certain conditions originating in the perinatal period\"}\n",
    "\n",
    "_130_infant_cause_recode_dict = {\n",
    "    100 : \"Interstitial emphysema and related conditions originating in the perinatal period\",\n",
    "    101 : \"Pulmonary hemorrhage originating in the perinatal period\",\n",
    "    102 : \"Chronic respiratory disease originating in the perinatal period\",\n",
    "    104 : \"All other respiratory conditions originating in the perinatal period\",\n",
    "    105 : \"Infections specific to the perinatal period\",\n",
    "    108 : \"All other infections specific to the perinatal period\",\n",
    "    71 : \"Newborn affected by maternal factors and by complications of pregnancy, labor and delivery\",\n",
    "    72 : \"Newborn affected by maternal hypertensive disorders\",\n",
    "    73 : \"Newborn affected by other maternal conditions which may be unrelated to present pregnancy\",\n",
    "    74 : \"Newborn affected by maternal complications of pregnancy\",\n",
    "    75 : \"Newborn affected by incompetent cervix\",\n",
    "    76 : \"Newborn affected by premature rupture of membranes\",\n",
    "    77 : \"Newborn affected by multiple pregnancy\",\n",
    "    78 : \"Newborn affected by other maternal complications of pregnancy\",\n",
    "    79 : \"Newborn affected by complications of placenta, cord and membranes\",\n",
    "    80 : \"Newborn affected by complications involving placenta\",\n",
    "    81 : \"Newborn affected by complications involving cord\",\n",
    "    82 : \"Newborn affected by chorioamnionitis\",\n",
    "    83 : \"Newborn affected by other and unspecified abnormalities of membranes\",\n",
    "    84 : \"Newborn affected by other complications of labor and delivery\",\n",
    "    85 : \"Newborn affected by noxious influences transmitted via placenta or breast milk\"}\n",
    "\n",
    "_39_cause_recode_dict = {\n",
    "    32 : \"Pregnancy, childbirth and the puerperium\",\n",
    "    33 : \"Certain conditions originating in the perinatal period\"}"
   ]
  },
  {
   "cell_type": "code",
   "execution_count": null,
   "metadata": {
    "scrolled": true
   },
   "outputs": [],
   "source": [
    "df_cleaned.dtypes"
   ]
  },
  {
   "cell_type": "code",
   "execution_count": null,
   "metadata": {
    "code_folding": []
   },
   "outputs": [],
   "source": [
    "# record_condition_4 and record_condition_5 not present\n",
    "\n",
    "race_dict = {\n",
    "    18: \"Asian Indian\",\n",
    "    28: \"Korean\",\n",
    "    38: \"Samoan\",\n",
    "    48: \"Vietnamese\",\n",
    "    58: \"Guamanian\",\n",
    "    68: \"Other Asian or Pacific Islander in areas reporting codes 18-58\",\n",
    "    78: \"Combined other Asian or Pacific Islander, includes codes 18-68\",\n",
    "    1: \"White\",\n",
    "    2: \"Black\",\n",
    "    3: \"American Indian (includes Aleuts and Eskimos)\",\n",
    "    4: \"Chinese\",\n",
    "    5: \"Japanese\",\n",
    "    6: \"Hawaiian (includes Part-Hawaiian)\",\n",
    "    7: \"Filipino\",\n",
    "    0: \"Other races\",\n",
    "    8: \"Other Asian or Pacific Islander\"\n",
    "}\n",
    "    \n",
    "race_recode_3_dict = {\n",
    "    1: \"White\",\n",
    "    2: \"Races other than White or Black\",\n",
    "    3: \"Black\"\n",
    "}\n",
    "    \n",
    "race_recode_5_dict = {\n",
    "    0: \"Other (Puerto Rico only)\",\n",
    "    1: \"White\",\n",
    "    2: \"Black\",\n",
    "    3: \"American Indian\",\n",
    "    4: \"Asian or Pacific Islander\"\n",
    "}\n",
    "        \n",
    "hispanic_originrace_recode_dict = {\n",
    "    1: \"Mexican\",\n",
    "    2: \"Puerto Rican\",\n",
    "    3: \"Cuban\",\n",
    "    4: \"Central or South American\",\n",
    "    5: \"Other or unknown Hispanic\",\n",
    "    6: \"Non - Hispanic white\",\n",
    "    7: \"Non - Hispanic black\",\n",
    "    8: \"Non - Hispanic other races\",\n",
    "    9: \"Hispanic origin unknown\"\n",
    "}\n",
    "\n",
    "hispanic_origin_dict = {\n",
    "    \"220\": \"Central and South American\",\n",
    "    \"100-199\": \"Non – Hispanic\",\n",
    "    \"200-209\": \"Spaniard\",\n",
    "    \"210-219\": \"Mexican\",\n",
    "    \"260-269\": \"Puerto Rican\",\n",
    "    \"270-274\": \"Cuban\",\n",
    "    \"275-279\": \"Dominican\",\n",
    "    \"221-230\": \"Central American\",\n",
    "    \"231-249\": \"South American\",\n",
    "    \"250-259\": \"Latin American\",\n",
    "    \"280-299\": \"Other Hispanic\",\n",
    "    \"996-999\": \"Unknown\"\n",
    "}\n",
    "\n",
    "def get_hispanic_origin(value):\n",
    "    if value == 220:\n",
    "        return \"Central and South American\"\n",
    "    elif value in range(100,200):\n",
    "        return \"Non – Hispanic\"\n",
    "    elif value in range(200,210):\n",
    "        return \"Spaniard\"\n",
    "    elif value in range(210,220):\n",
    "        return \"Mexican\"\n",
    "    elif value in range(260,270):\n",
    "        return \"Puerto Rican\"\n",
    "    elif value in range(270,275):\n",
    "        return \"Cuban\"\n",
    "    elif value in range(275,280):\n",
    "        return \"Dominican\"\n",
    "    elif value in range(221,231):\n",
    "        return \"Central American\"\n",
    "    elif value in range(231,250):\n",
    "        return \"South American\"\n",
    "    elif value in range(250,260):\n",
    "        return \"Latin American\"\n",
    "    elif value in range(280,300):\n",
    "        return \"Other Hispanic\"\n",
    "    elif value in range(996,1000):\n",
    "        return \"Unknown\""
   ]
  },
  {
   "cell_type": "code",
   "execution_count": null,
   "metadata": {},
   "outputs": [],
   "source": [
    "df_cleaned[\"race\"] = df_cleaned[\"race\"].replace(race_dict).astype('category')"
   ]
  },
  {
   "cell_type": "code",
   "execution_count": null,
   "metadata": {},
   "outputs": [],
   "source": [
    "df_cleaned[\"race_recode_3\"] = df_cleaned[\"race_recode_3\"].replace(race_recode_3_dict).astype('category')"
   ]
  },
  {
   "cell_type": "code",
   "execution_count": null,
   "metadata": {},
   "outputs": [],
   "source": [
    "df_cleaned[\"race_recode_5\"] = df_cleaned[\"race_recode_5\"].replace(race_recode_5_dict).astype('category')"
   ]
  },
  {
   "cell_type": "code",
   "execution_count": null,
   "metadata": {},
   "outputs": [],
   "source": [
    "df_cleaned[\"hispanic_originrace_recode\"] = df_cleaned[\"hispanic_originrace_recode\"].replace(hispanic_originrace_recode_dict).astype('category')"
   ]
  },
  {
   "cell_type": "code",
   "execution_count": null,
   "metadata": {},
   "outputs": [],
   "source": [
    "df_cleaned.shape"
   ]
  },
  {
   "cell_type": "code",
   "execution_count": null,
   "metadata": {},
   "outputs": [],
   "source": [
    "df_cleaned[\"hispanic_origin\"] = df_cleaned.apply(lambda col: get_hispanic_origin(col['hispanic_origin']), axis=1)"
   ]
  },
  {
   "cell_type": "code",
   "execution_count": null,
   "metadata": {},
   "outputs": [],
   "source": [
    "df_cleaned[\"hispanic_origin\"] = df_cleaned[\"hispanic_origin\"].astype('category')"
   ]
  },
  {
   "cell_type": "code",
   "execution_count": null,
   "metadata": {},
   "outputs": [],
   "source": [
    "df_cleaned.head()"
   ]
  },
  {
   "cell_type": "code",
   "execution_count": null,
   "metadata": {},
   "outputs": [],
   "source": [
    "df_cleaned.tail()"
   ]
  },
  {
   "cell_type": "code",
   "execution_count": null,
   "metadata": {},
   "outputs": [],
   "source": [
    "# Grace\n",
    "# rename columns with more descriptive names"
   ]
  },
  {
   "cell_type": "code",
   "execution_count": null,
   "metadata": {
    "scrolled": true
   },
   "outputs": [],
   "source": [
    "df_cleaned.dtypes"
   ]
  },
  {
   "cell_type": "code",
   "execution_count": null,
   "metadata": {
    "scrolled": true
   },
   "outputs": [],
   "source": [
    "display(list(df_cleaned.columns.values))"
   ]
  }
 ],
 "metadata": {
  "kernelspec": {
   "display_name": "Python 3",
   "language": "python",
   "name": "python3"
  },
  "language_info": {
   "codemirror_mode": {
    "name": "ipython",
    "version": 3
   },
   "file_extension": ".py",
   "mimetype": "text/x-python",
   "name": "python",
   "nbconvert_exporter": "python",
   "pygments_lexer": "ipython3",
   "version": "3.8.3"
  },
  "varInspector": {
   "cols": {
    "lenName": 16,
    "lenType": 16,
    "lenVar": 40
   },
   "kernels_config": {
    "python": {
     "delete_cmd_postfix": "",
     "delete_cmd_prefix": "del ",
     "library": "var_list.py",
     "varRefreshCmd": "print(var_dic_list())"
    },
    "r": {
     "delete_cmd_postfix": ") ",
     "delete_cmd_prefix": "rm(",
     "library": "var_list.r",
     "varRefreshCmd": "cat(var_dic_list()) "
    }
   },
   "types_to_exclude": [
    "module",
    "function",
    "builtin_function_or_method",
    "instance",
    "_Feature"
   ],
   "window_display": false
  }
 },
 "nbformat": 4,
 "nbformat_minor": 4
}
